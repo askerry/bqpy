{
 "cells": [
  {
   "cell_type": "code",
   "execution_count": 1,
   "metadata": {
    "collapsed": false
   },
   "outputs": [
    {
     "name": "stdout",
     "output_type": "stream",
     "text": [
      "Populating the interactive namespace from numpy and matplotlib\n"
     ]
    }
   ],
   "source": [
    "pylab inline"
   ]
  },
  {
   "cell_type": "code",
   "execution_count": 2,
   "metadata": {
    "collapsed": true
   },
   "outputs": [],
   "source": [
    "load_ext autoreload"
   ]
  },
  {
   "cell_type": "code",
   "execution_count": 3,
   "metadata": {
    "collapsed": false
   },
   "outputs": [],
   "source": [
    "% autoreload 2"
   ]
  },
  {
   "cell_type": "code",
   "execution_count": 4,
   "metadata": {
    "collapsed": false
   },
   "outputs": [],
   "source": [
    "import pandas as pd\n",
    "import numpy as np\n",
    "import matplotlib.pyplot as plt\n",
    "import scipy.stats\n",
    "import scipy.spatial.distance as dist\n",
    "import sys\n",
    "sys.path.append('/users/amyskerry/documents/projects')\n",
    "from pybq import bqdf, core, util\n",
    "from pybq import credentialscfg as cred"
   ]
  },
  {
   "cell_type": "code",
   "execution_count": 5,
   "metadata": {
    "collapsed": true
   },
   "outputs": [],
   "source": [
    "#data note: \n",
    "#natality subset created with the following bq query\n",
    "#   SELECT * FROM publicdata:samples.natality WHERE HASH(STRING(weight_pounds)) % 200==0\n",
    "#names subset created with \n",
    "#   SELECT state, gender, year, name, number as day FROM [fh-bigquery:popular_names.usa_1910_2013] WHERE HASH(name) % 20 == 0"
   ]
  },
  {
   "cell_type": "code",
   "execution_count": 6,
   "metadata": {
    "collapsed": false
   },
   "outputs": [],
   "source": [
    "testdata=pd.read_csv('data/test_data.csv')\n",
    "natal=pd.read_csv('data/natality.csv', encoding='utf8')\n",
    "names=pd.read_csv('data/names.csv', encoding='utf8')"
   ]
  },
  {
   "cell_type": "code",
   "execution_count": 77,
   "metadata": {
    "collapsed": false
   },
   "outputs": [],
   "source": [
    "con = bqdf.Connection(project_id=cred.project_id, logging_file=cred.log)\n",
    "df = bqdf.BQDF(con, 'lomulation:temp.test_data')"
   ]
  },
  {
   "cell_type": "code",
   "execution_count": 9,
   "metadata": {
    "collapsed": false
   },
   "outputs": [],
   "source": [
    "numeric1 = 'weight_pounds'\n",
    "numeric2 = 'mother_age'\n",
    "string1 = 'state'\n",
    "categorical2 = 'month'"
   ]
  },
  {
   "cell_type": "code",
   "execution_count": null,
   "metadata": {
    "collapsed": true
   },
   "outputs": [],
   "source": []
  }
 ],
 "metadata": {
  "kernelspec": {
   "display_name": "Python 2",
   "language": "python",
   "name": "python2"
  }
 },
 "nbformat": 4,
 "nbformat_minor": 0
}
