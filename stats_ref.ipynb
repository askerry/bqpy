{
 "cells": [
  {
   "cell_type": "code",
   "execution_count": 1,
   "metadata": {
    "collapsed": false
   },
   "outputs": [
    {
     "name": "stdout",
     "output_type": "stream",
     "text": [
      "Populating the interactive namespace from numpy and matplotlib\n"
     ]
    }
   ],
   "source": [
    "pylab inline"
   ]
  },
  {
   "cell_type": "code",
   "execution_count": 2,
   "metadata": {
    "collapsed": false
   },
   "outputs": [],
   "source": [
    "import pandas as pd\n",
    "import numpy as np\n",
    "import matplotlib.pyplot as plt\n",
    "import scipy.stats\n",
    "import scipy.spatial.distance as dist"
   ]
  },
  {
   "cell_type": "code",
   "execution_count": 22,
   "metadata": {
    "collapsed": true
   },
   "outputs": [],
   "source": [
    "#data note: \n",
    "#natality subset created with the following bq query\n",
    "#   SELECT * FROM publicdata:samples.natality WHERE HASH(STRING(weight_pounds)) % 200==0\n",
    "#names subset created with \n",
    "#   SELECT state, gender, year, name, number as day FROM [fh-bigquery:popular_names.usa_1910_2013] WHERE HASH(name) % 20 == 0"
   ]
  },
  {
   "cell_type": "code",
   "execution_count": 23,
   "metadata": {
    "collapsed": false
   },
   "outputs": [],
   "source": [
    "natal=pd.read_csv('data/natality.csv', encoding='utf8')\n",
    "names=pd.read_csv('data/names.csv', encoding='utf8')"
   ]
  },
  {
   "cell_type": "code",
   "execution_count": 24,
   "metadata": {
    "collapsed": false
   },
   "outputs": [
    {
     "data": {
      "text/html": [
       "<div>\n",
       "<table border=\"1\" class=\"dataframe\">\n",
       "  <thead>\n",
       "    <tr style=\"text-align: right;\">\n",
       "      <th></th>\n",
       "      <th>source_year</th>\n",
       "      <th>year</th>\n",
       "      <th>month</th>\n",
       "      <th>day</th>\n",
       "      <th>wday</th>\n",
       "      <th>state</th>\n",
       "      <th>is_male</th>\n",
       "      <th>child_race</th>\n",
       "      <th>weight_pounds</th>\n",
       "      <th>plurality</th>\n",
       "      <th>...</th>\n",
       "      <th>alcohol_use</th>\n",
       "      <th>drinks_per_week</th>\n",
       "      <th>weight_gain_pounds</th>\n",
       "      <th>born_alive_alive</th>\n",
       "      <th>born_alive_dead</th>\n",
       "      <th>born_dead</th>\n",
       "      <th>ever_born</th>\n",
       "      <th>father_race</th>\n",
       "      <th>father_age</th>\n",
       "      <th>record_weight</th>\n",
       "    </tr>\n",
       "  </thead>\n",
       "  <tbody>\n",
       "    <tr>\n",
       "      <th>0</th>\n",
       "      <td>1969</td>\n",
       "      <td>1969</td>\n",
       "      <td>11</td>\n",
       "      <td>18</td>\n",
       "      <td>NaN</td>\n",
       "      <td>CA</td>\n",
       "      <td>False</td>\n",
       "      <td>1</td>\n",
       "      <td>10.74974</td>\n",
       "      <td>NaN</td>\n",
       "      <td>...</td>\n",
       "      <td>NaN</td>\n",
       "      <td>NaN</td>\n",
       "      <td>NaN</td>\n",
       "      <td>2</td>\n",
       "      <td>0</td>\n",
       "      <td>0</td>\n",
       "      <td>3</td>\n",
       "      <td>1</td>\n",
       "      <td>35</td>\n",
       "      <td>2</td>\n",
       "    </tr>\n",
       "    <tr>\n",
       "      <th>1</th>\n",
       "      <td>1970</td>\n",
       "      <td>1970</td>\n",
       "      <td>6</td>\n",
       "      <td>13</td>\n",
       "      <td>NaN</td>\n",
       "      <td>CA</td>\n",
       "      <td>True</td>\n",
       "      <td>1</td>\n",
       "      <td>10.74974</td>\n",
       "      <td>NaN</td>\n",
       "      <td>...</td>\n",
       "      <td>NaN</td>\n",
       "      <td>NaN</td>\n",
       "      <td>NaN</td>\n",
       "      <td>2</td>\n",
       "      <td>0</td>\n",
       "      <td>0</td>\n",
       "      <td>3</td>\n",
       "      <td>1</td>\n",
       "      <td>32</td>\n",
       "      <td>2</td>\n",
       "    </tr>\n",
       "    <tr>\n",
       "      <th>2</th>\n",
       "      <td>1970</td>\n",
       "      <td>1970</td>\n",
       "      <td>5</td>\n",
       "      <td>21</td>\n",
       "      <td>NaN</td>\n",
       "      <td>MI</td>\n",
       "      <td>True</td>\n",
       "      <td>1</td>\n",
       "      <td>10.74974</td>\n",
       "      <td>NaN</td>\n",
       "      <td>...</td>\n",
       "      <td>NaN</td>\n",
       "      <td>NaN</td>\n",
       "      <td>NaN</td>\n",
       "      <td>0</td>\n",
       "      <td>0</td>\n",
       "      <td>0</td>\n",
       "      <td>1</td>\n",
       "      <td>1</td>\n",
       "      <td>22</td>\n",
       "      <td>2</td>\n",
       "    </tr>\n",
       "    <tr>\n",
       "      <th>3</th>\n",
       "      <td>1970</td>\n",
       "      <td>1970</td>\n",
       "      <td>8</td>\n",
       "      <td>30</td>\n",
       "      <td>NaN</td>\n",
       "      <td>NJ</td>\n",
       "      <td>True</td>\n",
       "      <td>1</td>\n",
       "      <td>10.74974</td>\n",
       "      <td>NaN</td>\n",
       "      <td>...</td>\n",
       "      <td>NaN</td>\n",
       "      <td>NaN</td>\n",
       "      <td>NaN</td>\n",
       "      <td>3</td>\n",
       "      <td>55</td>\n",
       "      <td>55</td>\n",
       "      <td>4</td>\n",
       "      <td>1</td>\n",
       "      <td>48</td>\n",
       "      <td>2</td>\n",
       "    </tr>\n",
       "    <tr>\n",
       "      <th>4</th>\n",
       "      <td>1970</td>\n",
       "      <td>1970</td>\n",
       "      <td>1</td>\n",
       "      <td>23</td>\n",
       "      <td>NaN</td>\n",
       "      <td>OH</td>\n",
       "      <td>True</td>\n",
       "      <td>1</td>\n",
       "      <td>10.74974</td>\n",
       "      <td>NaN</td>\n",
       "      <td>...</td>\n",
       "      <td>NaN</td>\n",
       "      <td>NaN</td>\n",
       "      <td>NaN</td>\n",
       "      <td>1</td>\n",
       "      <td>0</td>\n",
       "      <td>0</td>\n",
       "      <td>2</td>\n",
       "      <td>1</td>\n",
       "      <td>27</td>\n",
       "      <td>2</td>\n",
       "    </tr>\n",
       "  </tbody>\n",
       "</table>\n",
       "<p>5 rows × 31 columns</p>\n",
       "</div>"
      ],
      "text/plain": [
       "   source_year  year  month  day  wday state is_male  child_race  \\\n",
       "0         1969  1969     11   18   NaN    CA   False           1   \n",
       "1         1970  1970      6   13   NaN    CA    True           1   \n",
       "2         1970  1970      5   21   NaN    MI    True           1   \n",
       "3         1970  1970      8   30   NaN    NJ    True           1   \n",
       "4         1970  1970      1   23   NaN    OH    True           1   \n",
       "\n",
       "   weight_pounds  plurality      ...       alcohol_use  drinks_per_week  \\\n",
       "0       10.74974        NaN      ...               NaN              NaN   \n",
       "1       10.74974        NaN      ...               NaN              NaN   \n",
       "2       10.74974        NaN      ...               NaN              NaN   \n",
       "3       10.74974        NaN      ...               NaN              NaN   \n",
       "4       10.74974        NaN      ...               NaN              NaN   \n",
       "\n",
       "  weight_gain_pounds  born_alive_alive  born_alive_dead  born_dead ever_born  \\\n",
       "0                NaN                 2                0          0         3   \n",
       "1                NaN                 2                0          0         3   \n",
       "2                NaN                 0                0          0         1   \n",
       "3                NaN                 3               55         55         4   \n",
       "4                NaN                 1                0          0         2   \n",
       "\n",
       "  father_race father_age record_weight  \n",
       "0           1         35             2  \n",
       "1           1         32             2  \n",
       "2           1         22             2  \n",
       "3           1         48             2  \n",
       "4           1         27             2  \n",
       "\n",
       "[5 rows x 31 columns]"
      ]
     },
     "execution_count": 24,
     "metadata": {},
     "output_type": "execute_result"
    }
   ],
   "source": [
    "natal.head()"
   ]
  }
 ],
 "metadata": {
  "kernelspec": {
   "display_name": "Python 2",
   "language": "python",
   "name": "python2"
  },
  "language_info": {
   "codemirror_mode": {
    "name": "ipython",
    "version": 2
   },
   "file_extension": ".py",
   "mimetype": "text/x-python",
   "name": "python",
   "nbconvert_exporter": "python",
   "pygments_lexer": "ipython2",
   "version": "2.7.6"
  }
 },
 "nbformat": 4,
 "nbformat_minor": 0
}
