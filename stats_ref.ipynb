{
 "cells": [
  {
   "cell_type": "code",
   "execution_count": 1,
   "metadata": {
    "collapsed": false
   },
   "outputs": [
    {
     "name": "stdout",
     "output_type": "stream",
     "text": [
      "Populating the interactive namespace from numpy and matplotlib\n"
     ]
    }
   ],
   "source": [
    "pylab inline"
   ]
  },
  {
   "cell_type": "code",
   "execution_count": 2,
   "metadata": {
    "collapsed": false
   },
   "outputs": [],
   "source": [
    "import pandas as pd\n",
    "import numpy as np\n",
    "import matplotlib.pyplot as plt\n",
    "import scipy.stats\n",
    "import scipy.spatial.distance as dist"
   ]
  },
  {
   "cell_type": "code",
   "execution_count": 22,
   "metadata": {
    "collapsed": true
   },
   "outputs": [],
   "source": [
    "#data note: \n",
    "#natality subset created with the following bq query\n",
    "#   SELECT * FROM publicdata:samples.natality WHERE HASH(STRING(weight_pounds)) % 200==0\n",
    "#names subset created with \n",
    "#   SELECT state, gender, year, name, number as day FROM [fh-bigquery:popular_names.usa_1910_2013] WHERE HASH(name) % 20 == 0"
   ]
  },
  {
   "cell_type": "code",
   "execution_count": 93,
   "metadata": {
    "collapsed": false
   },
   "outputs": [],
   "source": [
    "natal=pd.read_csv('data/natality.csv', encoding='utf8')\n",
    "names=pd.read_csv('data/names.csv', encoding='utf8')\n",
    "summit=pd.read_csv('data/summit_data.csv', encoding='utf8', na_values=['null'])"
   ]
  },
  {
   "cell_type": "code",
   "execution_count": 87,
   "metadata": {
    "collapsed": false
   },
   "outputs": [
    {
     "data": {
      "text/plain": [
       "0.010800465807984327"
      ]
     },
     "execution_count": 87,
     "metadata": {},
     "output_type": "execute_result"
    }
   ],
   "source": [
    "2*(1-(scipy.stats.t.cdf(r[0], len(x+y)-2)))"
   ]
  },
  {
   "cell_type": "code",
   "execution_count": 97,
   "metadata": {
    "collapsed": false
   },
   "outputs": [
    {
     "data": {
      "text/html": [
       "<div>\n",
       "<table border=\"1\" class=\"dataframe\">\n",
       "  <thead>\n",
       "    <tr style=\"text-align: right;\">\n",
       "      <th></th>\n",
       "      <th>ue_total_done</th>\n",
       "      <th>ue_total_correct</th>\n",
       "      <th>ue_first_done</th>\n",
       "      <th>ue_last_done</th>\n",
       "    </tr>\n",
       "  </thead>\n",
       "  <tbody>\n",
       "    <tr>\n",
       "      <th>count</th>\n",
       "      <td>13281.000000</td>\n",
       "      <td>13281.000000</td>\n",
       "      <td>3.228000e+03</td>\n",
       "      <td>6.892000e+03</td>\n",
       "    </tr>\n",
       "    <tr>\n",
       "      <th>mean</th>\n",
       "      <td>6.227844</td>\n",
       "      <td>4.992998</td>\n",
       "      <td>1.334590e+15</td>\n",
       "      <td>1.382523e+15</td>\n",
       "    </tr>\n",
       "    <tr>\n",
       "      <th>std</th>\n",
       "      <td>25.008316</td>\n",
       "      <td>22.718418</td>\n",
       "      <td>1.904099e+13</td>\n",
       "      <td>3.378534e+13</td>\n",
       "    </tr>\n",
       "    <tr>\n",
       "      <th>min</th>\n",
       "      <td>0.000000</td>\n",
       "      <td>0.000000</td>\n",
       "      <td>1.314209e+15</td>\n",
       "      <td>1.314209e+15</td>\n",
       "    </tr>\n",
       "    <tr>\n",
       "      <th>25%</th>\n",
       "      <td>0.000000</td>\n",
       "      <td>0.000000</td>\n",
       "      <td>1.317076e+15</td>\n",
       "      <td>1.349113e+15</td>\n",
       "    </tr>\n",
       "    <tr>\n",
       "      <th>50%</th>\n",
       "      <td>0.000000</td>\n",
       "      <td>0.000000</td>\n",
       "      <td>1.329951e+15</td>\n",
       "      <td>1.408644e+15</td>\n",
       "    </tr>\n",
       "    <tr>\n",
       "      <th>75%</th>\n",
       "      <td>6.000000</td>\n",
       "      <td>5.000000</td>\n",
       "      <td>1.349283e+15</td>\n",
       "      <td>1.409681e+15</td>\n",
       "    </tr>\n",
       "    <tr>\n",
       "      <th>max</th>\n",
       "      <td>1954.000000</td>\n",
       "      <td>1868.000000</td>\n",
       "      <td>1.378929e+15</td>\n",
       "      <td>1.410556e+15</td>\n",
       "    </tr>\n",
       "  </tbody>\n",
       "</table>\n",
       "</div>"
      ],
      "text/plain": [
       "       ue_total_done  ue_total_correct  ue_first_done  ue_last_done\n",
       "count   13281.000000      13281.000000   3.228000e+03  6.892000e+03\n",
       "mean        6.227844          4.992998   1.334590e+15  1.382523e+15\n",
       "std        25.008316         22.718418   1.904099e+13  3.378534e+13\n",
       "min         0.000000          0.000000   1.314209e+15  1.314209e+15\n",
       "25%         0.000000          0.000000   1.317076e+15  1.349113e+15\n",
       "50%         0.000000          0.000000   1.329951e+15  1.408644e+15\n",
       "75%         6.000000          5.000000   1.349283e+15  1.409681e+15\n",
       "max      1954.000000       1868.000000   1.378929e+15  1.410556e+15"
      ]
     },
     "execution_count": 97,
     "metadata": {},
     "output_type": "execute_result"
    }
   ],
   "source": [
    "summit.describe()"
   ]
  },
  {
   "cell_type": "code",
   "execution_count": 98,
   "metadata": {
    "collapsed": false
   },
   "outputs": [
    {
     "data": {
      "text/plain": [
       "13281"
      ]
     },
     "execution_count": 98,
     "metadata": {},
     "output_type": "execute_result"
    }
   ],
   "source": [
    "len(summit)"
   ]
  },
  {
   "cell_type": "code",
   "execution_count": 102,
   "metadata": {
    "collapsed": false
   },
   "outputs": [
    {
     "data": {
      "text/plain": [
       "6892"
      ]
     },
     "execution_count": 102,
     "metadata": {},
     "output_type": "execute_result"
    }
   ],
   "source": [
    "len(summit.ue_last_done.dropna())"
   ]
  },
  {
   "cell_type": "code",
   "execution_count": 103,
   "metadata": {
    "collapsed": false
   },
   "outputs": [
    {
     "data": {
      "text/html": [
       "<div>\n",
       "<table border=\"1\" class=\"dataframe\">\n",
       "  <thead>\n",
       "    <tr style=\"text-align: right;\">\n",
       "      <th></th>\n",
       "      <th>roster_roster_email</th>\n",
       "      <th>roster_user_dot_email</th>\n",
       "      <th>ue_exercise</th>\n",
       "      <th>ue_total_done</th>\n",
       "      <th>ue_total_correct</th>\n",
       "      <th>ue_first_done</th>\n",
       "      <th>ue_last_done</th>\n",
       "      <th>ue_practiced</th>\n",
       "      <th>ue_mastered</th>\n",
       "    </tr>\n",
       "  </thead>\n",
       "  <tbody>\n",
       "    <tr>\n",
       "      <th>0</th>\n",
       "      <td>ikapoor.ta@mysummitps.org</td>\n",
       "      <td>ikapoor.ta@mysummitps.org</td>\n",
       "      <td>absolute_value</td>\n",
       "      <td>1</td>\n",
       "      <td>1</td>\n",
       "      <td>NaN</td>\n",
       "      <td>1.408989e+15</td>\n",
       "      <td>True</td>\n",
       "      <td>True</td>\n",
       "    </tr>\n",
       "    <tr>\n",
       "      <th>1</th>\n",
       "      <td>ikapoor.ta@mysummitps.org</td>\n",
       "      <td>ikapoor.ta@mysummitps.org</td>\n",
       "      <td>adding-and-subtracting-fractions-with-like-den...</td>\n",
       "      <td>5</td>\n",
       "      <td>5</td>\n",
       "      <td>NaN</td>\n",
       "      <td>1.409075e+15</td>\n",
       "      <td>True</td>\n",
       "      <td>True</td>\n",
       "    </tr>\n",
       "    <tr>\n",
       "      <th>2</th>\n",
       "      <td>ikapoor.ta@mysummitps.org</td>\n",
       "      <td>ikapoor.ta@mysummitps.org</td>\n",
       "      <td>adding-and-subtracting-fractions-with-unlike-d...</td>\n",
       "      <td>14</td>\n",
       "      <td>12</td>\n",
       "      <td>NaN</td>\n",
       "      <td>1.409161e+15</td>\n",
       "      <td>True</td>\n",
       "      <td>True</td>\n",
       "    </tr>\n",
       "    <tr>\n",
       "      <th>3</th>\n",
       "      <td>ikapoor.ta@mysummitps.org</td>\n",
       "      <td>ikapoor.ta@mysummitps.org</td>\n",
       "      <td>adding_and_subtracting_decimals_word_problems</td>\n",
       "      <td>2</td>\n",
       "      <td>2</td>\n",
       "      <td>NaN</td>\n",
       "      <td>1.409075e+15</td>\n",
       "      <td>True</td>\n",
       "      <td>True</td>\n",
       "    </tr>\n",
       "    <tr>\n",
       "      <th>4</th>\n",
       "      <td>ikapoor.ta@mysummitps.org</td>\n",
       "      <td>ikapoor.ta@mysummitps.org</td>\n",
       "      <td>adding_and_subtracting_fractions</td>\n",
       "      <td>6</td>\n",
       "      <td>6</td>\n",
       "      <td>NaN</td>\n",
       "      <td>1.409161e+15</td>\n",
       "      <td>True</td>\n",
       "      <td>True</td>\n",
       "    </tr>\n",
       "  </tbody>\n",
       "</table>\n",
       "</div>"
      ],
      "text/plain": [
       "         roster_roster_email      roster_user_dot_email  \\\n",
       "0  ikapoor.ta@mysummitps.org  ikapoor.ta@mysummitps.org   \n",
       "1  ikapoor.ta@mysummitps.org  ikapoor.ta@mysummitps.org   \n",
       "2  ikapoor.ta@mysummitps.org  ikapoor.ta@mysummitps.org   \n",
       "3  ikapoor.ta@mysummitps.org  ikapoor.ta@mysummitps.org   \n",
       "4  ikapoor.ta@mysummitps.org  ikapoor.ta@mysummitps.org   \n",
       "\n",
       "                                         ue_exercise  ue_total_done  \\\n",
       "0                                     absolute_value              1   \n",
       "1  adding-and-subtracting-fractions-with-like-den...              5   \n",
       "2  adding-and-subtracting-fractions-with-unlike-d...             14   \n",
       "3      adding_and_subtracting_decimals_word_problems              2   \n",
       "4                   adding_and_subtracting_fractions              6   \n",
       "\n",
       "   ue_total_correct  ue_first_done  ue_last_done ue_practiced ue_mastered  \n",
       "0                 1            NaN  1.408989e+15         True        True  \n",
       "1                 5            NaN  1.409075e+15         True        True  \n",
       "2                12            NaN  1.409161e+15         True        True  \n",
       "3                 2            NaN  1.409075e+15         True        True  \n",
       "4                 6            NaN  1.409161e+15         True        True  "
      ]
     },
     "execution_count": 103,
     "metadata": {},
     "output_type": "execute_result"
    }
   ],
   "source": [
    "summit.head()"
   ]
  },
  {
   "cell_type": "code",
   "execution_count": null,
   "metadata": {
    "collapsed": false
   },
   "outputs": [],
   "source": []
  },
  {
   "cell_type": "code",
   "execution_count": 119,
   "metadata": {
    "collapsed": false
   },
   "outputs": [
    {
     "data": {
      "text/plain": [
       "1.1819159135233968e-05"
      ]
     },
     "execution_count": 119,
     "metadata": {},
     "output_type": "execute_result"
    }
   ],
   "source": [
    "scipy.stats.chi2.pdf(3, 20)"
   ]
  },
  {
   "cell_type": "code",
   "execution_count": null,
   "metadata": {
    "collapsed": true
   },
   "outputs": [],
   "source": []
  }
 ],
 "metadata": {
  "kernelspec": {
   "display_name": "Python 2",
   "language": "python",
   "name": "python2"
  },
  "language_info": {
   "codemirror_mode": {
    "name": "ipython",
    "version": 2
   },
   "file_extension": ".py",
   "mimetype": "text/x-python",
   "name": "python",
   "nbconvert_exporter": "python",
   "pygments_lexer": "ipython2",
   "version": "2.7.6"
  }
 },
 "nbformat": 4,
 "nbformat_minor": 0
}
