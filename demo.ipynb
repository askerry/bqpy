{
 "cells": [
  {
   "cell_type": "code",
   "execution_count": 1,
   "metadata": {
    "collapsed": false,
    "tags": [
     "worksheet-0"
    ]
   },
   "outputs": [
    {
     "name": "stdout",
     "output_type": "stream",
     "text": [
      "Populating the interactive namespace from numpy and matplotlib\n"
     ]
    }
   ],
   "source": [
    "pylab inline"
   ]
  },
  {
   "cell_type": "code",
   "execution_count": 2,
   "metadata": {
    "collapsed": false,
    "tags": [
     "worksheet-0"
    ]
   },
   "outputs": [],
   "source": [
    "%load_ext autoreload"
   ]
  },
  {
   "cell_type": "code",
   "execution_count": 3,
   "metadata": {
    "collapsed": false,
    "tags": [
     "worksheet-0"
    ]
   },
   "outputs": [],
   "source": [
    "% autoreload 2"
   ]
  },
  {
   "cell_type": "code",
   "execution_count": 4,
   "metadata": {
    "collapsed": false,
    "tags": [
     "worksheet-0"
    ]
   },
   "outputs": [],
   "source": [
    "import pandas as pd\n",
    "import matplotlib.pyplot as plt\n",
    "import numpy as np\n",
    "import seaborn as sns\n",
    "sns.set_style('white')\n",
    "import sys\n",
    "sys.path.append('/users/amyskerry/documents/projects')\n",
    "from pybq import bqdf\n",
    "from pybq import credentialscfg as cred"
   ]
  },
  {
   "cell_type": "code",
   "execution_count": 16,
   "metadata": {
    "collapsed": false,
    "tags": [
     "worksheet-0"
    ]
   },
   "outputs": [],
   "source": [
    "#connect to project via project_id\n",
    "con = bqdf.Connection(project_id=cred.project_id, logging_file=cred.log)"
   ]
  },
  {
   "cell_type": "code",
   "execution_count": 17,
   "metadata": {
    "collapsed": false,
    "tags": [
     "worksheet-0"
    ]
   },
   "outputs": [],
   "source": [
    "table1 = 'fh-bigquery:reddit.subreddits' \n",
    "table2 = 'fh-bigquery:reddit.top20'\n",
    "table3 = 'fh-bigquery:reddit_comments.2015_05'"
   ]
  },
  {
   "cell_type": "code",
   "execution_count": 18,
   "metadata": {
    "collapsed": false,
    "tags": [
     "worksheet-0"
    ]
   },
   "outputs": [
    {
     "name": "stdout",
     "output_type": "stream",
     "text": [
      "2013-08-30 22:26:18.957000\n",
      "Waiting on bqjob_r3bd485a4ef186475_0000014ecc8870b8_6 ... (0s) Current status: DONE   \n",
      "Query saved to durable-footing-95814:_7f939837d73fe18145c1d220d8cea862f339ce2f.anona6583eff4957f5e08e4b6907af44ae3c99b044eb.\n",
      "Returning head only.\n",
      "0.000267028808594\n",
      "2013-09-27 19:28:00.946000\n",
      "Waiting on bqjob_r3053a7c272c2b9d1_0000014ecc887775_7 ... (0s) Current status: DONE   \n",
      "Query saved to durable-footing-95814:_7f939837d73fe18145c1d220d8cea862f339ce2f.anon8da065eb2fd7c5e5fe2b12de606e40aa364738ea.\n",
      "Returning head only.\n",
      "0.00876617431641\n",
      "2015-07-06 02:20:01.747000\n",
      "Waiting on bqjob_r3e4a60bfd1246736_0000014ecc887a21_8 ... (0s) Current status: DONE   \n",
      "Query saved to durable-footing-95814:_7f939837d73fe18145c1d220d8cea862f339ce2f.anond7fd9321d58e10fdc13a5c0458e866ea08e3b6e7.\n",
      "Returning head only.\n",
      "0.0137329101562\n"
     ]
    }
   ],
   "source": [
    "#create bqdf table connection\n",
    "df1 = bqdf.BQDF(con, table1)\n",
    "df2 = bqdf.BQDF(con, table2)\n",
    "df3 = bqdf.BQDF(con, table3)"
   ]
  },
  {
   "cell_type": "code",
   "execution_count": 19,
   "metadata": {
    "collapsed": false
   },
   "outputs": [
    {
     "name": "stdout",
     "output_type": "stream",
     "text": [
      "fh-bigquery:reddit_comments.2015_05\n"
     ]
    }
   ],
   "source": [
    "print df3.remote"
   ]
  },
  {
   "cell_type": "code",
   "execution_count": null,
   "metadata": {
    "collapsed": false
   },
   "outputs": [],
   "source": [
    "counts=df3.groupby('subreddit_id', [('name', 'count')])"
   ]
  },
  {
   "cell_type": "code",
   "execution_count": null,
   "metadata": {
    "collapsed": false
   },
   "outputs": [],
   "source": [
    "pumpkinbots=df3.where('author==pumpkinbot')"
   ]
  },
  {
   "cell_type": "code",
   "execution_count": null,
   "metadata": {
    "collapsed": true
   },
   "outputs": [],
   "source": [
    "author_counts=df3.groupby('author', [('name', 'count'), ('ups', 'sum')], fetch=False).where('name_count==101', fetch=False)"
   ]
  },
  {
   "cell_type": "code",
   "execution_count": null,
   "metadata": {
    "collapsed": true
   },
   "outputs": [],
   "source": []
  }
 ],
 "metadata": {
  "kernelspec": {
   "display_name": "Python 2",
   "language": "python",
   "name": "python2"
  },
  "language_info": {
   "codemirror_mode": {
    "name": "ipython",
    "version": 2
   },
   "file_extension": ".py",
   "mimetype": "text/x-python",
   "name": "python",
   "nbconvert_exporter": "python",
   "pygments_lexer": "ipython2",
   "version": "2.7.6"
  },
  "name": "bq_template.ipynb"
 },
 "nbformat": 4,
 "nbformat_minor": 0
}
