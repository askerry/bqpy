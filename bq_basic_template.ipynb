{
 "cells": [
  {
   "cell_type": "code",
   "execution_count": 1,
   "metadata": {
    "collapsed": false,
    "tags": [
     "worksheet-0"
    ]
   },
   "outputs": [
    {
     "name": "stdout",
     "output_type": "stream",
     "text": [
      "Populating the interactive namespace from numpy and matplotlib\n"
     ]
    }
   ],
   "source": [
    "pylab inline"
   ]
  },
  {
   "cell_type": "code",
   "execution_count": 2,
   "metadata": {
    "collapsed": false,
    "tags": [
     "worksheet-0"
    ]
   },
   "outputs": [],
   "source": [
    "%load_ext autoreload"
   ]
  },
  {
   "cell_type": "code",
   "execution_count": 3,
   "metadata": {
    "collapsed": false,
    "tags": [
     "worksheet-0"
    ]
   },
   "outputs": [],
   "source": [
    "% autoreload 2"
   ]
  },
  {
   "cell_type": "code",
   "execution_count": 4,
   "metadata": {
    "collapsed": false,
    "tags": [
     "worksheet-0"
    ]
   },
   "outputs": [],
   "source": [
    "import pandas as pd\n",
    "import matplotlib.pyplot as plt\n",
    "import numpy as np\n",
    "import seaborn as sns\n",
    "sns.set_style('white')\n",
    "import sys\n",
    "sys.path.append('/users/amyskerry/documents/projects')\n",
    "from pybq import bqdf\n",
    "from pybq import credentialscfg as cfg"
   ]
  },
  {
   "cell_type": "markdown",
   "metadata": {},
   "source": [
    "#Connect to a project"
   ]
  },
  {
   "cell_type": "code",
   "execution_count": 5,
   "metadata": {
    "collapsed": false
   },
   "outputs": [
    {
     "data": {
      "text/plain": [
       "'durable-footing-95814'"
      ]
     },
     "execution_count": 5,
     "metadata": {},
     "output_type": "execute_result"
    }
   ],
   "source": [
    "cfg.project_id"
   ]
  },
  {
   "cell_type": "code",
   "execution_count": 10,
   "metadata": {
    "collapsed": false,
    "tags": [
     "worksheet-0"
    ]
   },
   "outputs": [],
   "source": [
    "#connect to project via project_id\n",
    "con = bqdf.Connection(project_id=cfg.project_id, logging_file=cfg.log)"
   ]
  },
  {
   "cell_type": "code",
   "execution_count": 11,
   "metadata": {
    "collapsed": false
   },
   "outputs": [
    {
     "name": "stdout",
     "output_type": "stream",
     "text": [
      "Project list:\n",
      "cragcrunch: durable-footing-95814\n",
      "testing: silent-octagon-92616\n",
      "\n",
      "Dataset list:\n",
      "climbdb_bigquery\n",
      "\n",
      "No tables found.\n"
     ]
    }
   ],
   "source": [
    "projects=con.list_all_projects()\n",
    "print \n",
    "datasets=con.list_datasets(projects[0])\n",
    "print \n",
    "tables=con.list_tables(projects[0], datasets[0])"
   ]
  },
  {
   "cell_type": "code",
   "execution_count": 12,
   "metadata": {
    "collapsed": false,
    "tags": [
     "worksheet-0"
    ]
   },
   "outputs": [],
   "source": [
    "#specify bq paths to tables\n",
    "#format: project:dataset.tablename (if dataset is in current project_id, can use just dataset.tablename)\n",
    "table1 = 'fh-bigquery:reddit.subreddits' \n",
    "table2 = 'fh-bigquery:reddit.top20'"
   ]
  },
  {
   "cell_type": "markdown",
   "metadata": {
    "collapsed": true,
    "tags": [
     "worksheet-0"
    ]
   },
   "source": [
    "# Dataframe-ish abstraction for bigquery table"
   ]
  },
  {
   "cell_type": "code",
   "execution_count": 14,
   "metadata": {
    "collapsed": false,
    "tags": [
     "worksheet-0"
    ]
   },
   "outputs": [
    {
     "name": "stdout",
     "output_type": "stream",
     "text": [
      "Waiting on bqjob_r729675d874620511_0000014e9c596e27_2 ... (0s) Current status: DONE   \n",
      "Waiting on bqjob_r7868df2d013c07ed_0000014e9c597131_3 ... (0s) Current status: DONE   \n",
      "0.000267028808594\n",
      "Waiting on bqjob_r3b5c8e47a83e3383_0000014e9c5974e5_4 ... (0s) Current status: DONE   \n",
      "Waiting on bqjob_r1b4391b0d8c21594_0000014e9c597c3c_5 ... (0s) Current status: DONE   \n",
      "0.00869750976562\n"
     ]
    }
   ],
   "source": [
    "#create bqdf table connection\n",
    "df1 = bqdf.BQDF(con, table1)\n",
    "df2 = bqdf.BQDF(con, table2)"
   ]
  },
  {
   "cell_type": "code",
   "execution_count": 15,
   "metadata": {
    "collapsed": false
   },
   "outputs": [
    {
     "name": "stdout",
     "output_type": "stream",
     "text": [
      "fh-bigquery:reddit.subreddits\n"
     ]
    }
   ],
   "source": [
    "#these are not actually dataframes, but rather references to connected bigquery tables\n",
    "#table referenced:\n",
    "print df1.remote"
   ]
  },
  {
   "cell_type": "code",
   "execution_count": 16,
   "metadata": {
    "collapsed": false
   },
   "outputs": [
    {
     "name": "stdout",
     "output_type": "stream",
     "text": [
      "<pybq.core.Connection instance at 0x115ad55a8>\n"
     ]
    }
   ],
   "source": [
    "#connection object\n",
    "print df1.con"
   ]
  },
  {
   "cell_type": "code",
   "execution_count": 17,
   "metadata": {
    "collapsed": false
   },
   "outputs": [
    {
     "name": "stdout",
     "output_type": "stream",
     "text": [
      "<bigquery_client.BigqueryClient object at 0x1133940d0>\n"
     ]
    }
   ],
   "source": [
    "#connected to project by bq api client\n",
    "print df1.con.client"
   ]
  },
  {
   "cell_type": "code",
   "execution_count": 18,
   "metadata": {
    "collapsed": false
   },
   "outputs": [
    {
     "data": {
      "text/html": [
       "<div>\n",
       "<table border=\"1\" class=\"dataframe\">\n",
       "  <thead>\n",
       "    <tr style=\"text-align: right;\">\n",
       "      <th></th>\n",
       "      <th>subr</th>\n",
       "      <th>created_utc</th>\n",
       "      <th>score</th>\n",
       "      <th>num_comments</th>\n",
       "      <th>c_posts</th>\n",
       "      <th>ups</th>\n",
       "      <th>downs</th>\n",
       "    </tr>\n",
       "  </thead>\n",
       "  <tbody>\n",
       "    <tr>\n",
       "      <th>0</th>\n",
       "      <td>Winnipeg</td>\n",
       "      <td>1271800307</td>\n",
       "      <td>35017</td>\n",
       "      <td>23782</td>\n",
       "      <td>1000</td>\n",
       "      <td>41170</td>\n",
       "      <td>6153</td>\n",
       "    </tr>\n",
       "    <tr>\n",
       "      <th>1</th>\n",
       "      <td>winterporn</td>\n",
       "      <td>1322432778</td>\n",
       "      <td>61256</td>\n",
       "      <td>1858</td>\n",
       "      <td>1000</td>\n",
       "      <td>66831</td>\n",
       "      <td>5575</td>\n",
       "    </tr>\n",
       "    <tr>\n",
       "      <th>2</th>\n",
       "      <td>wisconsin</td>\n",
       "      <td>1288755087</td>\n",
       "      <td>71500</td>\n",
       "      <td>24893</td>\n",
       "      <td>999</td>\n",
       "      <td>87718</td>\n",
       "      <td>16218</td>\n",
       "    </tr>\n",
       "    <tr>\n",
       "      <th>3</th>\n",
       "      <td>woahdude</td>\n",
       "      <td>1272095272</td>\n",
       "      <td>2089822</td>\n",
       "      <td>126829</td>\n",
       "      <td>1000</td>\n",
       "      <td>4970101</td>\n",
       "      <td>2880279</td>\n",
       "    </tr>\n",
       "    <tr>\n",
       "      <th>4</th>\n",
       "      <td>women</td>\n",
       "      <td>1221247390</td>\n",
       "      <td>63478</td>\n",
       "      <td>12128</td>\n",
       "      <td>1000</td>\n",
       "      <td>74948</td>\n",
       "      <td>11470</td>\n",
       "    </tr>\n",
       "  </tbody>\n",
       "</table>\n",
       "</div>"
      ],
      "text/plain": [
       "         subr  created_utc    score  num_comments  c_posts      ups    downs\n",
       "0    Winnipeg   1271800307    35017         23782     1000    41170     6153\n",
       "1  winterporn   1322432778    61256          1858     1000    66831     5575\n",
       "2   wisconsin   1288755087    71500         24893      999    87718    16218\n",
       "3    woahdude   1272095272  2089822        126829     1000  4970101  2880279\n",
       "4       women   1221247390    63478         12128     1000    74948    11470"
      ]
     },
     "execution_count": 18,
     "metadata": {},
     "output_type": "execute_result"
    }
   ],
   "source": [
    "#a local copy or sample of the data is stored in df.local\n",
    "#by default, local contains only a copy of the first 5 rows (the table's \"head\")\n",
    "#but bqdf queries (incl built in joins, group bys, etc.) can also copy full result to df.local (if fetch=True)\n",
    "df1.local"
   ]
  },
  {
   "cell_type": "markdown",
   "metadata": {},
   "source": [
    "##Basic convenience operations"
   ]
  },
  {
   "cell_type": "code",
   "execution_count": 19,
   "metadata": {
    "collapsed": false
   },
   "outputs": [
    {
     "data": {
      "text/html": [
       "<div>\n",
       "<table border=\"1\" class=\"dataframe\">\n",
       "  <thead>\n",
       "    <tr style=\"text-align: right;\">\n",
       "      <th></th>\n",
       "      <th>subr</th>\n",
       "      <th>created_utc</th>\n",
       "      <th>score</th>\n",
       "      <th>num_comments</th>\n",
       "      <th>c_posts</th>\n",
       "      <th>ups</th>\n",
       "      <th>downs</th>\n",
       "    </tr>\n",
       "  </thead>\n",
       "  <tbody>\n",
       "    <tr>\n",
       "      <th>0</th>\n",
       "      <td>Winnipeg</td>\n",
       "      <td>1271800307</td>\n",
       "      <td>35017</td>\n",
       "      <td>23782</td>\n",
       "      <td>1000</td>\n",
       "      <td>41170</td>\n",
       "      <td>6153</td>\n",
       "    </tr>\n",
       "    <tr>\n",
       "      <th>1</th>\n",
       "      <td>winterporn</td>\n",
       "      <td>1322432778</td>\n",
       "      <td>61256</td>\n",
       "      <td>1858</td>\n",
       "      <td>1000</td>\n",
       "      <td>66831</td>\n",
       "      <td>5575</td>\n",
       "    </tr>\n",
       "    <tr>\n",
       "      <th>2</th>\n",
       "      <td>wisconsin</td>\n",
       "      <td>1288755087</td>\n",
       "      <td>71500</td>\n",
       "      <td>24893</td>\n",
       "      <td>999</td>\n",
       "      <td>87718</td>\n",
       "      <td>16218</td>\n",
       "    </tr>\n",
       "    <tr>\n",
       "      <th>3</th>\n",
       "      <td>woahdude</td>\n",
       "      <td>1272095272</td>\n",
       "      <td>2089822</td>\n",
       "      <td>126829</td>\n",
       "      <td>1000</td>\n",
       "      <td>4970101</td>\n",
       "      <td>2880279</td>\n",
       "    </tr>\n",
       "    <tr>\n",
       "      <th>4</th>\n",
       "      <td>women</td>\n",
       "      <td>1221247390</td>\n",
       "      <td>63478</td>\n",
       "      <td>12128</td>\n",
       "      <td>1000</td>\n",
       "      <td>74948</td>\n",
       "      <td>11470</td>\n",
       "    </tr>\n",
       "  </tbody>\n",
       "</table>\n",
       "</div>"
      ],
      "text/plain": [
       "         subr  created_utc    score  num_comments  c_posts      ups    downs\n",
       "0    Winnipeg   1271800307    35017         23782     1000    41170     6153\n",
       "1  winterporn   1322432778    61256          1858     1000    66831     5575\n",
       "2   wisconsin   1288755087    71500         24893      999    87718    16218\n",
       "3    woahdude   1272095272  2089822        126829     1000  4970101  2880279\n",
       "4       women   1221247390    63478         12128     1000    74948    11470"
      ]
     },
     "execution_count": 19,
     "metadata": {},
     "output_type": "execute_result"
    }
   ],
   "source": [
    "# standard df head\n",
    "df1.head()"
   ]
  },
  {
   "cell_type": "code",
   "execution_count": 20,
   "metadata": {
    "collapsed": false,
    "tags": [
     "worksheet-0"
    ]
   },
   "outputs": [
    {
     "data": {
      "text/plain": [
       "[u'subr',\n",
       " u'created_utc',\n",
       " u'score',\n",
       " u'num_comments',\n",
       " u'c_posts',\n",
       " u'ups',\n",
       " u'downs']"
      ]
     },
     "execution_count": 20,
     "metadata": {},
     "output_type": "execute_result"
    }
   ],
   "source": [
    "# columns of table\n",
    "df1.columns"
   ]
  },
  {
   "cell_type": "code",
   "execution_count": 21,
   "metadata": {
    "collapsed": false
   },
   "outputs": [
    {
     "name": "stdout",
     "output_type": "stream",
     "text": [
      "Waiting on bqjob_r6abb61582c407cf6_0000014e9c59a3e1_6 ... (0s) Current status: DONE   \n",
      "0.0142440795898\n"
     ]
    },
    {
     "data": {
      "text/plain": [
       "array([  1.27180031e+09,   1.32243278e+09,   1.28875509e+09, ...,\n",
       "         1.23818118e+09,   1.33044594e+09,   1.26704815e+09])"
      ]
     },
     "execution_count": 21,
     "metadata": {},
     "output_type": "execute_result"
    }
   ],
   "source": [
    "#return all values of a column\n",
    "df1['created_utc'].values"
   ]
  },
  {
   "cell_type": "code",
   "execution_count": 22,
   "metadata": {
    "collapsed": false
   },
   "outputs": [
    {
     "name": "stdout",
     "output_type": "stream",
     "text": [
      "Waiting on bqjob_r7b9d570590c362a_0000014e9c59aa3a_7 ... (0s) Current status: DONE   \n",
      "0.0217132568359\n"
     ]
    },
    {
     "data": {
      "text/plain": [
       "array([ 35017,  61256,  71500, ...,  76969, 135079,  37549])"
      ]
     },
     "execution_count": 22,
     "metadata": {},
     "output_type": "execute_result"
    }
   ],
   "source": [
    "#attr or dict like references\n",
    "df1['score'].values"
   ]
  },
  {
   "cell_type": "code",
   "execution_count": 93,
   "metadata": {
    "collapsed": false,
    "tags": [
     "worksheet-0"
    ]
   },
   "outputs": [
    {
     "name": "stdout",
     "output_type": "stream",
     "text": [
      "Waiting on bqjob_r1d3d2173a98591dc_0000014e9c08ba3c_206 ... (0s) Current status: DONE   \n",
      "Table Schema for [fh-bigquery:reddit.subreddits]\n",
      "subr (STRING) :   mode-NULLABLE\n",
      "created_utc (TIMESTAMP) :   mode-NULLABLE\n",
      "score (INTEGER) :   mode-NULLABLE\n",
      "num_comments (INTEGER) :   mode-NULLABLE\n",
      "c_posts (INTEGER) :   mode-NULLABLE\n",
      "ups (INTEGER) :   mode-NULLABLE\n",
      "downs (INTEGER) :   mode-NULLABLE\n"
     ]
    }
   ],
   "source": [
    "# view schema details\n",
    "schema=df1.table_schema"
   ]
  },
  {
   "cell_type": "code",
   "execution_count": 95,
   "metadata": {
    "collapsed": false,
    "tags": [
     "worksheet-0"
    ]
   },
   "outputs": [
    {
     "name": "stdout",
     "output_type": "stream",
     "text": [
      "Waiting on bqjob_r1b946529dd9fc9_0000014e9c08f88d_207 ... (0s) Current status: DONE   \n",
      "Waiting on bqjob_r3ec258de5ffc7c07_0000014e9c08ffcc_208 ... (0s) Current status: DONE   \n",
      "Waiting on bqjob_r54244a0b659606f9_0000014e9c0903b0_209 ... (0s) Current status: DONE   \n"
     ]
    },
    {
     "data": {
      "text/plain": [
       "(2499, 7)"
      ]
     },
     "execution_count": 95,
     "metadata": {},
     "output_type": "execute_result"
    }
   ],
   "source": [
    "#shape of table\n",
    "df1.size"
   ]
  },
  {
   "cell_type": "code",
   "execution_count": 96,
   "metadata": {
    "collapsed": false,
    "tags": [
     "worksheet-0"
    ]
   },
   "outputs": [
    {
     "name": "stdout",
     "output_type": "stream",
     "text": [
      "Waiting on bqjob_r659124767065f6fb_0000014e9c090796_210 ... (0s) Current status: DONE   \n",
      "Waiting on bqjob_r7008da8486dfd586_0000014e9c090b3f_211 ... (0s) Current status: DONE   \n",
      "Waiting on bqjob_r35d7f8aa17bb7118_0000014e9c091266_212 ... (0s) Current status: DONE   \n",
      "['Winnipeg' 'winterporn' 'wisconsin' ..., 'windowshots' 'windowsphone'\n",
      " 'wine']\n"
     ]
    }
   ],
   "source": [
    "#distinct elements in column\n",
    "uniques=df1.unique('subr')\n",
    "print uniques"
   ]
  },
  {
   "cell_type": "code",
   "execution_count": 98,
   "metadata": {
    "collapsed": false,
    "tags": [
     "worksheet-0"
    ]
   },
   "outputs": [
    {
     "name": "stdout",
     "output_type": "stream",
     "text": [
      "Waiting on bqjob_r3d8620f15007aaa7_0000014e9c098d9e_213 ... (0s) Current status: DONE   \n",
      "query saved to durable-footing-95814:_7f939837d73fe18145c1d220d8cea862f339ce2f.anon7a770cc8f4e6740ce300ae6c7c44f1d203957a5a\n",
      "returning head only\n",
      "Waiting on bqjob_r1fea658bdee00d0a_0000014e9c0990cc_214 ... (0s) Current status: DONE   \n",
      "Waiting on bqjob_r266d7505a483243d_0000014e9c099362_215 ... (0s) Current status: DONE   \n",
      "388468674\n",
      "fetching from local cache\n",
      "Waiting on bqjob_r5a3e13bb0cade480_0000014e9c09972d_216 ... (0s) Current status: DONE   \n",
      "fetching from local cache\n",
      "388468674\n"
     ]
    }
   ],
   "source": [
    "#columnar operations (min, max, mean, std, mode, unique, count) can be accessed in one of two ways\n",
    "print df1.sum('score')\n",
    "print df1['score'].sum()"
   ]
  },
  {
   "cell_type": "code",
   "execution_count": 74,
   "metadata": {
    "collapsed": false,
    "tags": [
     "worksheet-0"
    ]
   },
   "outputs": [
    {
     "name": "stdout",
     "output_type": "stream",
     "text": [
      "fetching from local cache\n",
      "Waiting on bqjob_r6eeaf6aa6d7d46ce_0000014e9c077ab8_196 ... (0s) Current status: DONE   \n",
      "fetching from local cache\n"
     ]
    },
    {
     "data": {
      "text/plain": [
       "155449.64945978392"
      ]
     },
     "execution_count": 74,
     "metadata": {},
     "output_type": "execute_result"
    }
   ],
   "source": [
    "# mean of column\n",
    "df1.mean('score')"
   ]
  },
  {
   "cell_type": "code",
   "execution_count": 99,
   "metadata": {
    "collapsed": false,
    "tags": [
     "worksheet-0"
    ]
   },
   "outputs": [
    {
     "name": "stdout",
     "output_type": "stream",
     "text": [
      "Waiting on bqjob_r47b0ff3f5b7b0024_0000014e9c09ab6c_217 ... (0s) Current status: DONE   \n",
      "query saved to durable-footing-95814:_7f939837d73fe18145c1d220d8cea862f339ce2f.anon8a8471cbeaab4d38e1793ec71525e0c6a65a6bf2\n",
      "returning head only\n",
      "Waiting on bqjob_r7ba85b1e093ba229_0000014e9c09af1c_218 ... (0s) Current status: DONE   \n",
      "Waiting on bqjob_r22eb762c553396f0_0000014e9c09b62f_219 ... (0s) Current status: DONE   \n"
     ]
    },
    {
     "data": {
      "text/plain": [
       "349534.8891608803"
      ]
     },
     "execution_count": 99,
     "metadata": {},
     "output_type": "execute_result"
    }
   ],
   "source": [
    "#standard deviation of column\n",
    "df1['score'].std()"
   ]
  },
  {
   "cell_type": "code",
   "execution_count": 75,
   "metadata": {
    "collapsed": false,
    "tags": [
     "worksheet-0"
    ]
   },
   "outputs": [
    {
     "name": "stdout",
     "output_type": "stream",
     "text": [
      "Waiting on bqjob_r79c84b706b64b5b3_0000014e9c078d01_197 ... (0s) Current status: DONE   \n",
      "query saved to durable-footing-95814:_7f939837d73fe18145c1d220d8cea862f339ce2f.anonefa0258d5a0763730f277c8d923270a45baaf2e5\n",
      "returning head only\n",
      "Waiting on bqjob_r486637ee8b784138_0000014e9c079005_198 ... (0s) Current status: DONE   \n",
      "Waiting on bqjob_r347245902952efab_0000014e9c079384_199 ... (0s) Current status: DONE   \n"
     ]
    },
    {
     "data": {
      "text/plain": [
       "3"
      ]
     },
     "execution_count": 75,
     "metadata": {},
     "output_type": "execute_result"
    }
   ],
   "source": [
    "#mode of column (if multiple, returns first)\n",
    "df1['num_comments'].mode()"
   ]
  },
  {
   "cell_type": "code",
   "execution_count": 43,
   "metadata": {
    "collapsed": false,
    "tags": [
     "worksheet-0"
    ]
   },
   "outputs": [
    {
     "name": "stdout",
     "output_type": "stream",
     "text": [
      "Waiting on bqjob_r894367d39b686ce_0000014e9bf8e729_30 ... (0s) Current status: DONE   \n",
      "query saved to durable-footing-95814:_7f939837d73fe18145c1d220d8cea862f339ce2f.anon95ee7e5b5fafebb5e597a3541b0640d971cc0d93\n",
      "returning head only\n",
      "Waiting on bqjob_r5822d7ffcf36ea2_0000014e9bf8ea9a_31 ... (0s) Current status: DONE   \n",
      "Waiting on bqjob_r5ac6a7aff0ddae37_0000014e9bf8ef5a_32 ... (0s) Current status: DONE   \n"
     ]
    },
    {
     "data": {
      "text/plain": [
       "8082530"
      ]
     },
     "execution_count": 43,
     "metadata": {},
     "output_type": "execute_result"
    }
   ],
   "source": [
    "#max value in column\n",
    "df1['num_comments'].max()"
   ]
  },
  {
   "cell_type": "code",
   "execution_count": 44,
   "metadata": {
    "collapsed": false
   },
   "outputs": [
    {
     "name": "stdout",
     "output_type": "stream",
     "text": [
      "Waiting on bqjob_r2e0004326eff4240_0000014e9bf8f701_33 ... (0s) Current status: DONE   \n",
      "query saved to durable-footing-95814:_7f939837d73fe18145c1d220d8cea862f339ce2f.anonf3be05435c08f9ab0580fee5eed3e3b373194533\n",
      "returning head only\n",
      "Waiting on bqjob_r3f29018e7b35caf9_0000014e9bf8fb47_34 ... (0s) Current status: DONE   \n",
      "Waiting on bqjob_r4214d1b8c9354e83_0000014e9bf902f0_35 ... (0s) Current status: DONE   \n"
     ]
    },
    {
     "data": {
      "text/plain": [
       "2499"
      ]
     },
     "execution_count": 44,
     "metadata": {},
     "output_type": "execute_result"
    }
   ],
   "source": [
    "# non-null entries in column\n",
    "df1['num_comments'].count()"
   ]
  },
  {
   "cell_type": "code",
   "execution_count": 102,
   "metadata": {
    "collapsed": false
   },
   "outputs": [
    {
     "name": "stdout",
     "output_type": "stream",
     "text": [
      "Waiting on bqjob_r3638accbff822e2e_0000014e9c09fcca_220 ... (0s) Current status: DONE   \n",
      "Table Schema for [fh-bigquery:reddit.subreddits]\n",
      "subr (STRING) :   mode-NULLABLE\n",
      "created_utc (TIMESTAMP) :   mode-NULLABLE\n",
      "score (INTEGER) :   mode-NULLABLE\n",
      "num_comments (INTEGER) :   mode-NULLABLE\n",
      "c_posts (INTEGER) :   mode-NULLABLE\n",
      "ups (INTEGER) :   mode-NULLABLE\n",
      "downs (INTEGER) :   mode-NULLABLE\n",
      "Waiting on bqjob_r29b983edacd6b85e_0000014e9c0a005a_221 ... (0s) Current status: DONE   \n",
      "query saved to durable-footing-95814:_7f939837d73fe18145c1d220d8cea862f339ce2f.anon80907ad930966362cc5c56bb231d6045abb7fd5c\n",
      "returning head only\n",
      "Waiting on bqjob_r61608e74fe519eda_0000014e9c0a0464_222 ... (0s) Current status: DONE   \n",
      "Waiting on bqjob_r37f1225c9b8f2205_0000014e9c0a0790_223 ... (0s) Current status: DONE   \n",
      "Waiting on bqjob_r5342a6a17aea6320_0000014e9c0a0ad8_224 ... (0s) Current status: DONE   \n",
      "query saved to durable-footing-95814:_7f939837d73fe18145c1d220d8cea862f339ce2f.anon8782b793d03739e9bd81e37f9a0bc0e1622e0484\n",
      "returning head only\n",
      "Waiting on bqjob_r67a80ae5539eabfe_0000014e9c0a0e06_225 ... (0s) Current status: DONE   \n",
      "Waiting on bqjob_r3630ac0059c0a041_0000014e9c0a1223_226 ... (0s) Current status: DONE   \n",
      "Waiting on bqjob_r414ea5fcf1b65d05_0000014e9c0a1967_227 ... (0s) Current status: DONE   \n",
      "query saved to durable-footing-95814:_7f939837d73fe18145c1d220d8cea862f339ce2f.anon63e0734a713c8fd9686bc795800307a6e4646ec0\n",
      "returning head only\n",
      "Waiting on bqjob_r120c8ba72d0ae209_0000014e9c0a1c21_228 ... (0s) Current status: DONE   \n",
      "Waiting on bqjob_r4eb122d56c2a7780_0000014e9c0a2394_229 ... (0s) Current status: DONE   \n",
      "Waiting on bqjob_r20aca8977e56aa87_0000014e9c0a2af2_230 ... (0s) Current status: DONE   \n",
      "query saved to durable-footing-95814:_7f939837d73fe18145c1d220d8cea862f339ce2f.anon36e7f3abd5f3e59a7e49ae26512d67fd60492e4b\n",
      "returning head only\n",
      "Waiting on bqjob_r4e690c2ef69d96e3_0000014e9c0a2df9_231 ... (0s) Current status: DONE   \n",
      "Waiting on bqjob_r551b348433a709ae_0000014e9c0a353a_232 ... (0s) Current status: DONE   \n",
      "Waiting on bqjob_r18880003cd6a11bb_0000014e9c0a3bfd_233 ... (0s) Current status: DONE   \n",
      "query saved to durable-footing-95814:_7f939837d73fe18145c1d220d8cea862f339ce2f.anon3499c5eb805caecb19c65ccde4601932f957e7d9\n",
      "returning head only\n",
      "Waiting on bqjob_r4ff7d264720611f2_0000014e9c0a3efc_234 ... (0s) Current status: DONE   \n",
      "Waiting on bqjob_r79845d4cebf2fe0a_0000014e9c0a42fa_235 ... (0s) Current status: DONE   \n",
      "fetching from local cache\n",
      "Waiting on bqjob_r3f8b7a0acd53615f_0000014e9c0a467d_236 ... (0s) Current status: DONE   \n",
      "fetching from local cache\n",
      "Waiting on bqjob_r378fd049493f1d90_0000014e9c0a48f5_237 ... (0s) Current status: DONE   \n",
      "query saved to durable-footing-95814:_7f939837d73fe18145c1d220d8cea862f339ce2f.anond7069c1820fe0752178c9a7ddda7dc41d5a94a54\n",
      "returning head only\n",
      "Waiting on bqjob_r6b9dca3246137ae8_0000014e9c0a4c4c_238 ... (0s) Current status: DONE   \n",
      "Waiting on bqjob_r4c8e949b7f4b4edc_0000014e9c0a540c_239 ... (0s) Current status: DONE   \n",
      "Waiting on bqjob_r4b46ed0b0e78e65c_0000014e9c0a5c39_240 ... (0s) Current status: DONE   \n",
      "query saved to durable-footing-95814:_7f939837d73fe18145c1d220d8cea862f339ce2f.anonf3be05435c08f9ab0580fee5eed3e3b373194533\n",
      "returning head only\n",
      "Waiting on bqjob_r722a14ad91764c28_0000014e9c0a5f4d_241 ... (0s) Current status: DONE   \n",
      "Waiting on bqjob_r32a9f6a4107f451d_0000014e9c0a6347_242 ... (0s) Current status: DONE   \n",
      "Waiting on bqjob_r54007376350514f5_0000014e9c0a6aea_243 ... (0s) Current status: DONE   \n",
      "query saved to durable-footing-95814:_7f939837d73fe18145c1d220d8cea862f339ce2f.anon58daa3ca68c9e2778f67288fe354a2d0260271f1\n",
      "returning head only\n",
      "Waiting on bqjob_r54f4bd7ae5203f6f_0000014e9c0a6e0b_244 ... (0s) Current status: DONE   \n",
      "Waiting on bqjob_r73348f2cb8a961a1_0000014e9c0a70cd_245 ... (0s) Current status: DONE   \n",
      "Waiting on bqjob_r70b2b124d3de547d_0000014e9c0a78a2_246 ... (0s) Current status: DONE   \n",
      "query saved to durable-footing-95814:_7f939837d73fe18145c1d220d8cea862f339ce2f.anon414d3dacd6313262b9bd8b133ea1bc2ab58d2876\n",
      "returning head only\n",
      "Waiting on bqjob_r5ca9476f6179cb52_0000014e9c0a7b3d_247 ... (0s) Current status: DONE   \n",
      "Waiting on bqjob_rd4bbfffd525c8e6_0000014e9c0a7f2d_248 ... (0s) Current status: DONE   \n",
      "Waiting on bqjob_r79370f6a13422932_0000014e9c0a8671_249 ... (0s) Current status: DONE   \n",
      "query saved to durable-footing-95814:_7f939837d73fe18145c1d220d8cea862f339ce2f.anon95ee7e5b5fafebb5e597a3541b0640d971cc0d93\n",
      "returning head only\n",
      "Waiting on bqjob_r73b10e89d22fdfcf_0000014e9c0a8943_250 ... (0s) Current status: DONE   \n",
      "Waiting on bqjob_r48e5c10178a35e71_0000014e9c0a90ed_251 ... (0s) Current status: DONE   \n",
      "Waiting on bqjob_r356e6191375eed61_0000014e9c0a9470_252 ... (0s) Current status: DONE   \n",
      "query saved to durable-footing-95814:_7f939837d73fe18145c1d220d8cea862f339ce2f.anond9939a7419dd9fb7e165ab8748a38e025b094382\n",
      "returning head only\n",
      "Waiting on bqjob_r23fbb16e11d5c882_0000014e9c0a98f5_253 ... (0s) Current status: DONE   \n",
      "Waiting on bqjob_r5877ce0340fed81f_0000014e9c0a9bf8_254 ... (0s) Current status: DONE   \n",
      "Waiting on bqjob_r78cb9844e0f0ffe3_0000014e9c0aa3f8_255 ... (0s) Current status: DONE   \n",
      "query saved to durable-footing-95814:_7f939837d73fe18145c1d220d8cea862f339ce2f.anond2db5b17b373f777088aa42a85382e11f432c53b\n",
      "returning head only\n",
      "Waiting on bqjob_r2c9ef2593a0ece03_0000014e9c0aa781_256 ... (0s) Current status: DONE   \n",
      "Waiting on bqjob_rd5765e3ef6ca102_0000014e9c0aaa68_257 ... (0s) Current status: DONE   \n",
      "Waiting on bqjob_r5b89e97c2c180103_0000014e9c0aad2d_258 ... (0s) Current status: DONE   \n",
      "query saved to durable-footing-95814:_7f939837d73fe18145c1d220d8cea862f339ce2f.anonefa0258d5a0763730f277c8d923270a45baaf2e5\n",
      "returning head only\n",
      "Waiting on bqjob_r52a356c19c77c3c9_0000014e9c0aafe8_259 ... (0s) Current status: DONE   \n",
      "Waiting on bqjob_r212918350408d54d_0000014e9c0ab768_260 ... (0s) Current status: DONE   \n",
      "Waiting on bqjob_r73d428e372fdeb6b_0000014e9c0abac2_261 ... (0s) Current status: DONE   \n",
      "query saved to durable-footing-95814:_7f939837d73fe18145c1d220d8cea862f339ce2f.anon71db45208e605f707fa120c07b43f254b47443d3\n",
      "returning head only\n",
      "Waiting on bqjob_r67e653c27e4f75c1_0000014e9c0abdb4_262 ... (0s) Current status: DONE   \n",
      "Waiting on bqjob_r621e59ad065295dc_0000014e9c0ac53b_263 ... (0s) Current status: DONE   \n",
      "Waiting on bqjob_r6d795a943f02c013_0000014e9c0ac957_264 ... (0s) Current status: DONE   \n",
      "query saved to durable-footing-95814:_7f939837d73fe18145c1d220d8cea862f339ce2f.anon1ac174bbfb0a6e95deaed728b07e8d3bf7d26b8f\n",
      "returning head only\n",
      "Waiting on bqjob_r79351dc6d033781a_0000014e9c0acc02_265 ... (0s) Current status: DONE   \n",
      "Waiting on bqjob_r46545fac2ba90681_0000014e9c0ad2f1_266 ... (0s) Current status: DONE   \n",
      "Waiting on bqjob_rfd1ce9ae257a0ae_0000014e9c0ad6a2_267 ... (0s) Current status: DONE   \n",
      "query saved to durable-footing-95814:_7f939837d73fe18145c1d220d8cea862f339ce2f.anon0e90c829d6c31c568baabc376321c7c734795788\n",
      "returning head only\n",
      "Waiting on bqjob_r2c6dba30a3b7b250_0000014e9c0ada21_268 ... (0s) Current status: DONE   \n",
      "Waiting on bqjob_r1ad67851c3d869e8_0000014e9c0ade78_269 ... (0s) Current status: DONE   \n",
      "Waiting on bqjob_r481bbc13a79fd7d8_0000014e9c0ae5e0_270 ... (0s) Current status: DONE   \n",
      "query saved to durable-footing-95814:_7f939837d73fe18145c1d220d8cea862f339ce2f.anon890d3b1624b81ee4d1c6ce5b9a77be86afef042a\n",
      "returning head only\n",
      "Waiting on bqjob_r19a212ddfdda0290_0000014e9c0ae972_271 ... (0s) Current status: DONE   \n",
      "Waiting on bqjob_r694f9361a73b034b_0000014e9c0aec6c_272 ... (0s) Current status: DONE   \n",
      "Waiting on bqjob_r28e4336ea471120c_0000014e9c0af46c_273 ... (0s) Current status: DONE   \n",
      "query saved to durable-footing-95814:_7f939837d73fe18145c1d220d8cea862f339ce2f.anonab376598a95dd48a32a22e8f3b86ed5b190763f2\n",
      "returning head only\n",
      "Waiting on bqjob_r7848aad1bd97ab65_0000014e9c0af761_274 ... (0s) Current status: DONE   \n",
      "Waiting on bqjob_r6a3b5cf1a3423f1d_0000014e9c0afa36_275 ... (0s) Current status: DONE   \n",
      "Waiting on bqjob_re7d36d0d4f51188_0000014e9c0afd0c_276 ... (0s) Current status: DONE   \n",
      "query saved to durable-footing-95814:_7f939837d73fe18145c1d220d8cea862f339ce2f.anone81a02c6a0e4bc1c54f2f02632f3c2914fe9ddda\n",
      "returning head only\n",
      "Waiting on bqjob_r13482c944f4ff997_0000014e9c0b0029_277 ... (0s) Current status: DONE   \n",
      "Waiting on bqjob_r7889a9e39fca987b_0000014e9c0b07c9_278 ... (0s) Current status: DONE   \n",
      "Waiting on bqjob_r2e40faf4f38198ee_0000014e9c0b0b48_279 ... (0s) Current status: DONE   \n",
      "query saved to durable-footing-95814:_7f939837d73fe18145c1d220d8cea862f339ce2f.anon39cc6813a053ab623204297f8450fa2881d970f1\n",
      "returning head only\n",
      "Waiting on bqjob_r638065af43503d72_0000014e9c0b0e42_280 ... (0s) Current status: DONE   \n",
      "Waiting on bqjob_r3c2e47a2cb0fba9d_0000014e9c0b11c6_281 ... (0s) Current status: DONE   \n",
      "Waiting on bqjob_r1faff58ef57d35e2_0000014e9c0b18f7_282 ... (0s) Current status: DONE   \n",
      "query saved to durable-footing-95814:_7f939837d73fe18145c1d220d8cea862f339ce2f.anone9fcd3a77d96be211c02981ddf0b6c3378a08282\n",
      "returning head only\n",
      "Waiting on bqjob_r6ff52bef03571eb9_0000014e9c0b1ba7_283 ... (0s) Current status: DONE   \n",
      "Waiting on bqjob_r31dd5b9d0e78e108_0000014e9c0b1e7d_284 ... (0s) Current status: DONE   \n",
      "Waiting on bqjob_r68d8e1d01544ebe7_0000014e9c0b2234_285 ... (0s) Current status: DONE   \n",
      "query saved to durable-footing-95814:_7f939837d73fe18145c1d220d8cea862f339ce2f.anon53b808f93e5c7d70fad6c24f76a4f670b5b1a079\n",
      "returning head only\n",
      "Waiting on bqjob_r599220f71b44dbe_0000014e9c0b24ea_286 ... (0s) Current status: DONE   \n",
      "Waiting on bqjob_r48e4b1866bac78c_0000014e9c0b27d1_287 ... (0s) Current status: DONE   \n",
      "Waiting on bqjob_r75f8051149fd3dbc_0000014e9c0b2efa_288 ... (0s) Current status: DONE   \n",
      "query saved to durable-footing-95814:_7f939837d73fe18145c1d220d8cea862f339ce2f.anon4e9dec6d894a3df249851126a6e76a2ee8b8d694\n",
      "returning head only\n",
      "Waiting on bqjob_r30ca625f2f8881ae_0000014e9c0b31cf_289 ... (0s) Current status: DONE   \n",
      "Waiting on bqjob_r74503a46c79e0ba_0000014e9c0b39a8_290 ... (0s) Current status: DONE   \n",
      "Waiting on bqjob_r1a3f49c0284b670b_0000014e9c0b4194_291 ... (0s) Current status: DONE   \n",
      "query saved to durable-footing-95814:_7f939837d73fe18145c1d220d8cea862f339ce2f.anon8e093085d896e76e2349f95440cc7b7f3ca66c43\n",
      "returning head only\n",
      "Waiting on bqjob_r667fd3549d6a4673_0000014e9c0b4548_292 ... (0s) Current status: DONE   \n",
      "Waiting on bqjob_r1daab650bee9f031_0000014e9c0b4cfa_293 ... (0s) Current status: DONE   \n",
      "Waiting on bqjob_r50f4ea5f8c2db2eb_0000014e9c0b4ff5_294 ... (0s) Current status: DONE   \n",
      "query saved to durable-footing-95814:_7f939837d73fe18145c1d220d8cea862f339ce2f.anon7bc1a3cb6598a43b2fea8a42d46cc5269ce0f37f\n",
      "returning head only\n",
      "Waiting on bqjob_r2e4f50b3c302e8dc_0000014e9c0b52b3_295 ... (0s) Current status: DONE   \n",
      "Waiting on bqjob_r60b4c469a2953b06_0000014e9c0b5626_296 ... (0s) Current status: DONE   \n",
      "Waiting on bqjob_r40b2db17f20581c1_0000014e9c0b5d68_297 ... (0s) Current status: DONE   \n",
      "query saved to durable-footing-95814:_7f939837d73fe18145c1d220d8cea862f339ce2f.anon45fbbc3b99a184b47cef33f3d74d77db7a94f1bd\n",
      "returning head only\n",
      "Waiting on bqjob_r532d2d1010ac7a1f_0000014e9c0b6035_298 ... (0s) Current status: DONE   \n",
      "Waiting on bqjob_r7fbe2415ff2b33e7_0000014e9c0b6319_299 ... (0s) Current status: DONE   \n",
      "Waiting on bqjob_r6c8afbeef936ae53_0000014e9c0b65d9_300 ... (0s) Current status: DONE   \n",
      "query saved to durable-footing-95814:_7f939837d73fe18145c1d220d8cea862f339ce2f.anon22123de6cf0094f68c44a60c06a36dd9c59cee65\n",
      "returning head only\n",
      "Waiting on bqjob_r5b8585ab23e54b37_0000014e9c0b69fc_301 ... (0s) Current status: DONE   \n",
      "Waiting on bqjob_r54cabb2f472dbbed_0000014e9c0b6d81_302 ... (0s) Current status: DONE   \n",
      "Waiting on bqjob_r20eac31e2771696b_0000014e9c0b7071_303 ... (0s) Current status: DONE   \n",
      "query saved to durable-footing-95814:_7f939837d73fe18145c1d220d8cea862f339ce2f.anon87eda3ba6531bfeb6c1b8c62706b1a8ad7b0ed27\n",
      "returning head only\n",
      "Waiting on bqjob_r5a120a06557b41ac_0000014e9c0b7527_304 ... (0s) Current status: DONE   \n",
      "Waiting on bqjob_r4cb854e2fce5536a_0000014e9c0b7c7b_305 ... (0s) Current status: DONE   \n",
      "Waiting on bqjob_r76d990c8a4c53861_0000014e9c0b83b4_306 ... (0s) Current status: DONE   \n",
      "query saved to durable-footing-95814:_7f939837d73fe18145c1d220d8cea862f339ce2f.anon63f62c7379f33e4e4caad2ce0bdb11da67d27d42\n",
      "returning head only\n",
      "Waiting on bqjob_r57a80d0048cd9248_0000014e9c0b8752_307 ... (0s) Current status: DONE   \n",
      "Waiting on bqjob_r47a2799add990c6a_0000014e9c0b89e9_308 ... (0s) Current status: DONE   \n",
      "Waiting on bqjob_r33a999b7b95fe139_0000014e9c0b92fa_309 ... (0s) Current status: DONE   \n",
      "query saved to durable-footing-95814:_7f939837d73fe18145c1d220d8cea862f339ce2f.anonf01bd50252f6b932ff0355f12ce8a0aba7c5a978\n",
      "returning head only\n",
      "Waiting on bqjob_r3bfc36f55b04f9fc_0000014e9c0b95f5_310 ... (0s) Current status: DONE   \n",
      "Waiting on bqjob_r788bb84515f48f6e_0000014e9c0b9cec_311 ... (0s) Current status: DONE   \n",
      "Waiting on bqjob_r6d2e4ef104d9cbc1_0000014e9c0b9fe5_312 ... (0s) Current status: DONE   \n",
      "query saved to durable-footing-95814:_7f939837d73fe18145c1d220d8cea862f339ce2f.anonde0f9abce15cd965c30b72a59b76d92413c37e20\n",
      "returning head only\n",
      "Waiting on bqjob_r334138430bb4d529_0000014e9c0ba7cc_313 ... (0s) Current status: DONE   \n",
      "Waiting on bqjob_r3dc3242166f5cc15_0000014e9c0bab1f_314 ... (0s) Current status: DONE   \n",
      "Waiting on bqjob_r7b3f93b68d4cf3d0_0000014e9c0baf8b_315 ... (0s) Current status: DONE   \n",
      "query saved to durable-footing-95814:_7f939837d73fe18145c1d220d8cea862f339ce2f.anon05aa2dd56eb240081f981a6797015e941d4f309d\n",
      "returning head only\n",
      "Waiting on bqjob_r7721b70fd5a06e17_0000014e9c0bb28b_316 ... (0s) Current status: DONE   \n",
      "Waiting on bqjob_r6cae4464db570694_0000014e9c0bba82_317 ... (0s) Current status: DONE   \n",
      "Waiting on bqjob_r3053514f0eb08f81_0000014e9c0bbe43_318 ... (0s) Current status: DONE   \n",
      "query saved to durable-footing-95814:_7f939837d73fe18145c1d220d8cea862f339ce2f.anonac5759fb6c8e8ec677e9d6bc6272147090354c1b\n",
      "returning head only\n",
      "Waiting on bqjob_r1acbaab34dc89cdb_0000014e9c0bc189_319 ... (0s) Current status: DONE   \n",
      "Waiting on bqjob_r547f04029729ab59_0000014e9c0bc8ce_320 ... (0s) Current status: DONE   \n",
      "Waiting on bqjob_r39a8c6b190df509a_0000014e9c0bce05_321 ... (0s) Current status: DONE   \n",
      "query saved to durable-footing-95814:_7f939837d73fe18145c1d220d8cea862f339ce2f.anonafad91559e96dd75df7898e8dee671383a818174\n",
      "returning head only\n",
      "Waiting on bqjob_r760e8bf5f79d6836_0000014e9c0bd0f9_322 ... (0s) Current status: DONE   \n",
      "Waiting on bqjob_r239be87b64f700f1_0000014e9c0bd488_323 ... (0s) Current status: DONE   \n"
     ]
    },
    {
     "data": {
      "text/html": [
       "<div>\n",
       "<table border=\"1\" class=\"dataframe\">\n",
       "  <thead>\n",
       "    <tr style=\"text-align: right;\">\n",
       "      <th></th>\n",
       "      <th>c_posts</th>\n",
       "      <th>downs</th>\n",
       "      <th>num_comments</th>\n",
       "      <th>score</th>\n",
       "      <th>ups</th>\n",
       "    </tr>\n",
       "  </thead>\n",
       "  <tbody>\n",
       "    <tr>\n",
       "      <th>count</th>\n",
       "      <td>2499.000000</td>\n",
       "      <td>2499.000000</td>\n",
       "      <td>2499.000000</td>\n",
       "      <td>2499.000000</td>\n",
       "      <td>2499.000000</td>\n",
       "    </tr>\n",
       "    <tr>\n",
       "      <th>min</th>\n",
       "      <td>1.000000</td>\n",
       "      <td>5.000000</td>\n",
       "      <td>0.000000</td>\n",
       "      <td>0.000000</td>\n",
       "      <td>2.000000</td>\n",
       "    </tr>\n",
       "    <tr>\n",
       "      <th>25th percentile</th>\n",
       "      <td>998.000000</td>\n",
       "      <td>3394.000000</td>\n",
       "      <td>5246.000000</td>\n",
       "      <td>17573.000000</td>\n",
       "      <td>20659.000000</td>\n",
       "    </tr>\n",
       "    <tr>\n",
       "      <th>50th percentile</th>\n",
       "      <td>1000.000000</td>\n",
       "      <td>7686.000000</td>\n",
       "      <td>13268.000000</td>\n",
       "      <td>41837.000000</td>\n",
       "      <td>50101.000000</td>\n",
       "    </tr>\n",
       "    <tr>\n",
       "      <th>75th percentile</th>\n",
       "      <td>1000.000000</td>\n",
       "      <td>20081.000000</td>\n",
       "      <td>27698.000000</td>\n",
       "      <td>116226.000000</td>\n",
       "      <td>133010.000000</td>\n",
       "    </tr>\n",
       "    <tr>\n",
       "      <th>max</th>\n",
       "      <td>1000.000000</td>\n",
       "      <td>26229952.000000</td>\n",
       "      <td>8082530.000000</td>\n",
       "      <td>3752388.000000</td>\n",
       "      <td>29943636.000000</td>\n",
       "    </tr>\n",
       "    <tr>\n",
       "      <th>mean</th>\n",
       "      <td>907.201681</td>\n",
       "      <td>146470.777911</td>\n",
       "      <td>38274.599840</td>\n",
       "      <td>155449.649460</td>\n",
       "      <td>301906.845538</td>\n",
       "    </tr>\n",
       "    <tr>\n",
       "      <th>std</th>\n",
       "      <td>218.490716</td>\n",
       "      <td>1113991.053720</td>\n",
       "      <td>191561.184023</td>\n",
       "      <td>349534.889161</td>\n",
       "      <td>1395142.130842</td>\n",
       "    </tr>\n",
       "    <tr>\n",
       "      <th>mode</th>\n",
       "      <td>1730.000000</td>\n",
       "      <td>3.000000</td>\n",
       "      <td>3.000000</td>\n",
       "      <td>2.000000</td>\n",
       "      <td>3.000000</td>\n",
       "    </tr>\n",
       "  </tbody>\n",
       "</table>\n",
       "</div>"
      ],
      "text/plain": [
       "                     c_posts            downs    num_comments           score  \\\n",
       "count            2499.000000      2499.000000     2499.000000     2499.000000   \n",
       "min                 1.000000         5.000000        0.000000        0.000000   \n",
       "25th percentile   998.000000      3394.000000     5246.000000    17573.000000   \n",
       "50th percentile  1000.000000      7686.000000    13268.000000    41837.000000   \n",
       "75th percentile  1000.000000     20081.000000    27698.000000   116226.000000   \n",
       "max              1000.000000  26229952.000000  8082530.000000  3752388.000000   \n",
       "mean              907.201681    146470.777911    38274.599840   155449.649460   \n",
       "std               218.490716   1113991.053720   191561.184023   349534.889161   \n",
       "mode             1730.000000         3.000000        3.000000        2.000000   \n",
       "\n",
       "                             ups  \n",
       "count                2499.000000  \n",
       "min                     2.000000  \n",
       "25th percentile     20659.000000  \n",
       "50th percentile     50101.000000  \n",
       "75th percentile    133010.000000  \n",
       "max              29943636.000000  \n",
       "mean               301906.845538  \n",
       "std               1395142.130842  \n",
       "mode                    3.000000  "
      ]
     },
     "execution_count": 102,
     "metadata": {},
     "output_type": "execute_result"
    }
   ],
   "source": [
    "df1.describe()"
   ]
  },
  {
   "cell_type": "markdown",
   "metadata": {},
   "source": [
    "## Joining and filtering"
   ]
  },
  {
   "cell_type": "code",
   "execution_count": 46,
   "metadata": {
    "collapsed": false
   },
   "outputs": [
    {
     "name": "stdout",
     "output_type": "stream",
     "text": [
      "Waiting on bqjob_r61976833b7cb662_0000014e9bfb87ba_142 ... (0s) Current status: DONE   \n",
      "Waiting on bqjob_rc38fd243c733d71_0000014e9bfb8a7f_143 ... (0s) Current status: DONE   \n",
      "Waiting on bqjob_r1d21abb42829bd6a_0000014e9bfb9187_144 ... (0s) Current status: DONE   \n",
      "2499\n",
      "Waiting on bqjob_r3790a9dd31000fcf_0000014e9bfb94ef_145 ... (0s) Current status: DONE   \n",
      "Waiting on bqjob_r410ac9b5d73cdf3a_0000014e9bfb9c4d_146 ... (0s) Current status: DONE   \n",
      "Waiting on bqjob_re236457da2448d6_0000014e9bfb9f2c_147 ... (0s) Current status: DONE   \n",
      "21\n",
      "Waiting on bqjob_r30ce2d0578cda824_0000014e9bfba6f3_148 ... (0s) Current status: DONE   \n",
      "Waiting on bqjob_r243ede896fed1ab8_0000014e9bfbaeef_149 ... (0s) Current status: DONE   \n",
      "Waiting on bqjob_r6dd12035ca3ec4dd_0000014e9bfbb70f_150 ... (0s) Current status: DONE   \n",
      "6\n"
     ]
    }
   ],
   "source": [
    "# df.where is used for filtering the table.\n",
    "# each condition is expressed as it's own string argument\n",
    "# only simple equality, greater than, less than are currently supported\n",
    "print len(df1)\n",
    "ndf = df1.where('num_comments>500000')\n",
    "print len(ndf.local)\n",
    "ndf = df1.where('num_comments>500000', 'score <2000000')\n",
    "print len(ndf.local)"
   ]
  },
  {
   "cell_type": "code",
   "execution_count": 106,
   "metadata": {
    "collapsed": false,
    "tags": [
     "worksheet-0"
    ]
   },
   "outputs": [
    {
     "name": "stdout",
     "output_type": "stream",
     "text": [
      "fetching from local cache\n",
      "Waiting on bqjob_r35b2fe3937ba5d6c_0000014e9c0e362d_327 ... (0s) Current status: DONE   \n",
      "fetching from local cache\n"
     ]
    }
   ],
   "source": [
    "#join two tables\n",
    "#note this returns a new BQDF object with a reference to the resulting table\n",
    "ndf=df1.join(df2, on='subr', how='inner')"
   ]
  },
  {
   "cell_type": "code",
   "execution_count": 48,
   "metadata": {
    "collapsed": false
   },
   "outputs": [
    {
     "data": {
      "text/plain": [
       "u'[durable-footing-95814:_7f939837d73fe18145c1d220d8cea862f339ce2f.anon28b5b8b485f49cb4a4e98c0050fc19ad20099d86]'"
      ]
     },
     "execution_count": 48,
     "metadata": {},
     "output_type": "execute_result"
    }
   ],
   "source": [
    "#references temporary table created by query\n",
    "ndf.remote"
   ]
  },
  {
   "cell_type": "code",
   "execution_count": 49,
   "metadata": {
    "collapsed": false,
    "tags": [
     "worksheet-0"
    ]
   },
   "outputs": [
    {
     "data": {
      "text/html": [
       "<div>\n",
       "<table border=\"1\" class=\"dataframe\">\n",
       "  <thead>\n",
       "    <tr style=\"text-align: right;\">\n",
       "      <th></th>\n",
       "      <th>df1_subr</th>\n",
       "      <th>df1_created_utc</th>\n",
       "      <th>df1_score</th>\n",
       "      <th>df1_num_comments</th>\n",
       "      <th>df1_c_posts</th>\n",
       "      <th>df1_ups</th>\n",
       "      <th>df1_downs</th>\n",
       "      <th>df2_subr</th>\n",
       "      <th>df2_sum_score</th>\n",
       "    </tr>\n",
       "  </thead>\n",
       "  <tbody>\n",
       "    <tr>\n",
       "      <th>0</th>\n",
       "      <td>worldnews</td>\n",
       "      <td>1245520828</td>\n",
       "      <td>2876818</td>\n",
       "      <td>1520393</td>\n",
       "      <td>1000</td>\n",
       "      <td>12232641</td>\n",
       "      <td>9355823</td>\n",
       "      <td>worldnews</td>\n",
       "      <td>2876818</td>\n",
       "    </tr>\n",
       "    <tr>\n",
       "      <th>1</th>\n",
       "      <td>WTF</td>\n",
       "      <td>1222835012</td>\n",
       "      <td>2665757</td>\n",
       "      <td>1138484</td>\n",
       "      <td>1000</td>\n",
       "      <td>15478789</td>\n",
       "      <td>12813032</td>\n",
       "      <td>WTF</td>\n",
       "      <td>2665757</td>\n",
       "    </tr>\n",
       "    <tr>\n",
       "      <th>2</th>\n",
       "      <td>funny</td>\n",
       "      <td>1221430088</td>\n",
       "      <td>3713684</td>\n",
       "      <td>838031</td>\n",
       "      <td>1000</td>\n",
       "      <td>29943636</td>\n",
       "      <td>26229952</td>\n",
       "      <td>funny</td>\n",
       "      <td>3713684</td>\n",
       "    </tr>\n",
       "    <tr>\n",
       "      <th>3</th>\n",
       "      <td>gaming</td>\n",
       "      <td>1253397497</td>\n",
       "      <td>2633408</td>\n",
       "      <td>976844</td>\n",
       "      <td>1000</td>\n",
       "      <td>16049758</td>\n",
       "      <td>13416350</td>\n",
       "      <td>gaming</td>\n",
       "      <td>2633408</td>\n",
       "    </tr>\n",
       "    <tr>\n",
       "      <th>4</th>\n",
       "      <td>gifs</td>\n",
       "      <td>1308299210</td>\n",
       "      <td>2615749</td>\n",
       "      <td>267366</td>\n",
       "      <td>1000</td>\n",
       "      <td>11088214</td>\n",
       "      <td>8472465</td>\n",
       "      <td>gifs</td>\n",
       "      <td>2615749</td>\n",
       "    </tr>\n",
       "    <tr>\n",
       "      <th>5</th>\n",
       "      <td>mildlyinteresting</td>\n",
       "      <td>1339002701</td>\n",
       "      <td>2487454</td>\n",
       "      <td>220753</td>\n",
       "      <td>1000</td>\n",
       "      <td>7632646</td>\n",
       "      <td>5145192</td>\n",
       "      <td>mildlyinteresting</td>\n",
       "      <td>2487454</td>\n",
       "    </tr>\n",
       "    <tr>\n",
       "      <th>6</th>\n",
       "      <td>cringepics</td>\n",
       "      <td>1353378477</td>\n",
       "      <td>2320307</td>\n",
       "      <td>310899</td>\n",
       "      <td>999</td>\n",
       "      <td>4956013</td>\n",
       "      <td>2635706</td>\n",
       "      <td>cringepics</td>\n",
       "      <td>2320307</td>\n",
       "    </tr>\n",
       "    <tr>\n",
       "      <th>7</th>\n",
       "      <td>pics</td>\n",
       "      <td>1232129032</td>\n",
       "      <td>3752388</td>\n",
       "      <td>1119747</td>\n",
       "      <td>1000</td>\n",
       "      <td>28512455</td>\n",
       "      <td>24760067</td>\n",
       "      <td>pics</td>\n",
       "      <td>3752388</td>\n",
       "    </tr>\n",
       "    <tr>\n",
       "      <th>8</th>\n",
       "      <td>politics</td>\n",
       "      <td>1213054866</td>\n",
       "      <td>3157350</td>\n",
       "      <td>1529645</td>\n",
       "      <td>999</td>\n",
       "      <td>12994846</td>\n",
       "      <td>9837496</td>\n",
       "      <td>politics</td>\n",
       "      <td>3157350</td>\n",
       "    </tr>\n",
       "    <tr>\n",
       "      <th>9</th>\n",
       "      <td>reactiongifs</td>\n",
       "      <td>1329098282</td>\n",
       "      <td>2320331</td>\n",
       "      <td>127718</td>\n",
       "      <td>1000</td>\n",
       "      <td>5915530</td>\n",
       "      <td>3595199</td>\n",
       "      <td>reactiongifs</td>\n",
       "      <td>2320331</td>\n",
       "    </tr>\n",
       "    <tr>\n",
       "      <th>10</th>\n",
       "      <td>science</td>\n",
       "      <td>1217517776</td>\n",
       "      <td>2320319</td>\n",
       "      <td>714853</td>\n",
       "      <td>1000</td>\n",
       "      <td>7341078</td>\n",
       "      <td>5020759</td>\n",
       "      <td>science</td>\n",
       "      <td>2320319</td>\n",
       "    </tr>\n",
       "    <tr>\n",
       "      <th>11</th>\n",
       "      <td>4chan</td>\n",
       "      <td>1305031597</td>\n",
       "      <td>2443942</td>\n",
       "      <td>173514</td>\n",
       "      <td>1000</td>\n",
       "      <td>6844122</td>\n",
       "      <td>4400180</td>\n",
       "      <td>4chan</td>\n",
       "      <td>2443942</td>\n",
       "    </tr>\n",
       "    <tr>\n",
       "      <th>12</th>\n",
       "      <td>AdviceAnimals</td>\n",
       "      <td>1297153839</td>\n",
       "      <td>2614179</td>\n",
       "      <td>522694</td>\n",
       "      <td>1000</td>\n",
       "      <td>17740332</td>\n",
       "      <td>15126153</td>\n",
       "      <td>AdviceAnimals</td>\n",
       "      <td>2614179</td>\n",
       "    </tr>\n",
       "    <tr>\n",
       "      <th>13</th>\n",
       "      <td>AskReddit</td>\n",
       "      <td>1249243560</td>\n",
       "      <td>2198059</td>\n",
       "      <td>8082530</td>\n",
       "      <td>1000</td>\n",
       "      <td>9855658</td>\n",
       "      <td>7657599</td>\n",
       "      <td>AskReddit</td>\n",
       "      <td>2198059</td>\n",
       "    </tr>\n",
       "    <tr>\n",
       "      <th>14</th>\n",
       "      <td>atheism</td>\n",
       "      <td>1277917555</td>\n",
       "      <td>2254504</td>\n",
       "      <td>753590</td>\n",
       "      <td>1000</td>\n",
       "      <td>10770010</td>\n",
       "      <td>8515506</td>\n",
       "      <td>atheism</td>\n",
       "      <td>2254504</td>\n",
       "    </tr>\n",
       "    <tr>\n",
       "      <th>15</th>\n",
       "      <td>aww</td>\n",
       "      <td>1308442867</td>\n",
       "      <td>2857179</td>\n",
       "      <td>354705</td>\n",
       "      <td>1000</td>\n",
       "      <td>16376370</td>\n",
       "      <td>13519191</td>\n",
       "      <td>aww</td>\n",
       "      <td>2857179</td>\n",
       "    </tr>\n",
       "    <tr>\n",
       "      <th>16</th>\n",
       "      <td>technology</td>\n",
       "      <td>1225732641</td>\n",
       "      <td>2894626</td>\n",
       "      <td>1185205</td>\n",
       "      <td>1000</td>\n",
       "      <td>11552270</td>\n",
       "      <td>8657644</td>\n",
       "      <td>technology</td>\n",
       "      <td>2894626</td>\n",
       "    </tr>\n",
       "    <tr>\n",
       "      <th>17</th>\n",
       "      <td>todayilearned</td>\n",
       "      <td>1288032442</td>\n",
       "      <td>2636914</td>\n",
       "      <td>863943</td>\n",
       "      <td>1000</td>\n",
       "      <td>12923797</td>\n",
       "      <td>10286883</td>\n",
       "      <td>todayilearned</td>\n",
       "      <td>2636914</td>\n",
       "    </tr>\n",
       "    <tr>\n",
       "      <th>18</th>\n",
       "      <td>trees</td>\n",
       "      <td>1283370888</td>\n",
       "      <td>2239064</td>\n",
       "      <td>328240</td>\n",
       "      <td>1000</td>\n",
       "      <td>6903259</td>\n",
       "      <td>4664195</td>\n",
       "      <td>trees</td>\n",
       "      <td>2239064</td>\n",
       "    </tr>\n",
       "    <tr>\n",
       "      <th>19</th>\n",
       "      <td>videos</td>\n",
       "      <td>1297504140</td>\n",
       "      <td>3201899</td>\n",
       "      <td>1143620</td>\n",
       "      <td>1000</td>\n",
       "      <td>13595085</td>\n",
       "      <td>10393186</td>\n",
       "      <td>videos</td>\n",
       "      <td>3201899</td>\n",
       "    </tr>\n",
       "  </tbody>\n",
       "</table>\n",
       "</div>"
      ],
      "text/plain": [
       "             df1_subr  df1_created_utc  df1_score  df1_num_comments  \\\n",
       "0           worldnews       1245520828    2876818           1520393   \n",
       "1                 WTF       1222835012    2665757           1138484   \n",
       "2               funny       1221430088    3713684            838031   \n",
       "3              gaming       1253397497    2633408            976844   \n",
       "4                gifs       1308299210    2615749            267366   \n",
       "5   mildlyinteresting       1339002701    2487454            220753   \n",
       "6          cringepics       1353378477    2320307            310899   \n",
       "7                pics       1232129032    3752388           1119747   \n",
       "8            politics       1213054866    3157350           1529645   \n",
       "9        reactiongifs       1329098282    2320331            127718   \n",
       "10            science       1217517776    2320319            714853   \n",
       "11              4chan       1305031597    2443942            173514   \n",
       "12      AdviceAnimals       1297153839    2614179            522694   \n",
       "13          AskReddit       1249243560    2198059           8082530   \n",
       "14            atheism       1277917555    2254504            753590   \n",
       "15                aww       1308442867    2857179            354705   \n",
       "16         technology       1225732641    2894626           1185205   \n",
       "17      todayilearned       1288032442    2636914            863943   \n",
       "18              trees       1283370888    2239064            328240   \n",
       "19             videos       1297504140    3201899           1143620   \n",
       "\n",
       "    df1_c_posts   df1_ups  df1_downs           df2_subr  df2_sum_score  \n",
       "0          1000  12232641    9355823          worldnews        2876818  \n",
       "1          1000  15478789   12813032                WTF        2665757  \n",
       "2          1000  29943636   26229952              funny        3713684  \n",
       "3          1000  16049758   13416350             gaming        2633408  \n",
       "4          1000  11088214    8472465               gifs        2615749  \n",
       "5          1000   7632646    5145192  mildlyinteresting        2487454  \n",
       "6           999   4956013    2635706         cringepics        2320307  \n",
       "7          1000  28512455   24760067               pics        3752388  \n",
       "8           999  12994846    9837496           politics        3157350  \n",
       "9          1000   5915530    3595199       reactiongifs        2320331  \n",
       "10         1000   7341078    5020759            science        2320319  \n",
       "11         1000   6844122    4400180              4chan        2443942  \n",
       "12         1000  17740332   15126153      AdviceAnimals        2614179  \n",
       "13         1000   9855658    7657599          AskReddit        2198059  \n",
       "14         1000  10770010    8515506            atheism        2254504  \n",
       "15         1000  16376370   13519191                aww        2857179  \n",
       "16         1000  11552270    8657644         technology        2894626  \n",
       "17         1000  12923797   10286883      todayilearned        2636914  \n",
       "18         1000   6903259    4664195              trees        2239064  \n",
       "19         1000  13595085   10393186             videos        3201899  "
      ]
     },
     "execution_count": 49,
     "metadata": {},
     "output_type": "execute_result"
    }
   ],
   "source": [
    "#because fetch defaults to True, remote table was fetched to ndf.local\n",
    "ndf.local"
   ]
  },
  {
   "cell_type": "markdown",
   "metadata": {},
   "source": [
    "## More flexible querying"
   ]
  },
  {
   "cell_type": "code",
   "execution_count": 107,
   "metadata": {
    "collapsed": false,
    "tags": [
     "worksheet-0"
    ]
   },
   "outputs": [
    {
     "name": "stdout",
     "output_type": "stream",
     "text": [
      "Waiting on bqjob_r32bde585b7276dcb_0000014e9c0e7d6c_328 ... (0s) Current status: DONE   \n"
     ]
    }
   ],
   "source": [
    "#execute arbitrary sql commands and return as df and source\n",
    "#note: raw_query does not return a BQDF object\n",
    "querystr = \"\"\"\n",
    "SELECT subr, num_comments, score, c_posts FROM %s  LIMIT 1000\n",
    "\"\"\" %table1\n",
    "df, source = bqdf.raw_query(con, querystr)"
   ]
  },
  {
   "cell_type": "code",
   "execution_count": 53,
   "metadata": {
    "collapsed": false
   },
   "outputs": [
    {
     "data": {
      "text/html": [
       "<div>\n",
       "<table border=\"1\" class=\"dataframe\">\n",
       "  <thead>\n",
       "    <tr style=\"text-align: right;\">\n",
       "      <th></th>\n",
       "      <th>subr</th>\n",
       "      <th>num_comments</th>\n",
       "      <th>score</th>\n",
       "      <th>c_posts</th>\n",
       "    </tr>\n",
       "  </thead>\n",
       "  <tbody>\n",
       "    <tr>\n",
       "      <th>0</th>\n",
       "      <td>Winnipeg</td>\n",
       "      <td>23782</td>\n",
       "      <td>35017</td>\n",
       "      <td>1000</td>\n",
       "    </tr>\n",
       "    <tr>\n",
       "      <th>1</th>\n",
       "      <td>winterporn</td>\n",
       "      <td>1858</td>\n",
       "      <td>61256</td>\n",
       "      <td>1000</td>\n",
       "    </tr>\n",
       "    <tr>\n",
       "      <th>2</th>\n",
       "      <td>wisconsin</td>\n",
       "      <td>24893</td>\n",
       "      <td>71500</td>\n",
       "      <td>999</td>\n",
       "    </tr>\n",
       "    <tr>\n",
       "      <th>3</th>\n",
       "      <td>woahdude</td>\n",
       "      <td>126829</td>\n",
       "      <td>2089822</td>\n",
       "      <td>1000</td>\n",
       "    </tr>\n",
       "    <tr>\n",
       "      <th>4</th>\n",
       "      <td>women</td>\n",
       "      <td>12128</td>\n",
       "      <td>63478</td>\n",
       "      <td>1000</td>\n",
       "    </tr>\n",
       "  </tbody>\n",
       "</table>\n",
       "</div>"
      ],
      "text/plain": [
       "         subr  num_comments    score  c_posts\n",
       "0    Winnipeg         23782    35017     1000\n",
       "1  winterporn          1858    61256     1000\n",
       "2   wisconsin         24893    71500      999\n",
       "3    woahdude        126829  2089822     1000\n",
       "4       women         12128    63478     1000"
      ]
     },
     "execution_count": 53,
     "metadata": {},
     "output_type": "execute_result"
    }
   ],
   "source": [
    "df.head()"
   ]
  },
  {
   "cell_type": "code",
   "execution_count": 54,
   "metadata": {
    "collapsed": false,
    "tags": [
     "worksheet-0"
    ]
   },
   "outputs": [
    {
     "name": "stdout",
     "output_type": "stream",
     "text": [
      "durable-footing-95814:_7f939837d73fe18145c1d220d8cea862f339ce2f.anona2dafbb18ce408e7080759002199b8e1936d5c0b\n"
     ]
    }
   ],
   "source": [
    "tablename=util.stringify(source)\n",
    "print tablename"
   ]
  },
  {
   "cell_type": "code",
   "execution_count": 109,
   "metadata": {
    "collapsed": false,
    "tags": [
     "worksheet-0"
    ]
   },
   "outputs": [
    {
     "name": "stdout",
     "output_type": "stream",
     "text": [
      "Waiting on bqjob_r25c841a6b9079f25_0000014e9c0f93a4_329 ... (0s) Current status: DONE   \n",
      "Waiting on bqjob_r40f9ac289dfbfdc2_0000014e9c0f9b99_330 ... (0s) Current status: DONE   \n",
      "0.408462524414\n"
     ]
    }
   ],
   "source": [
    "#raw_query returns just a dataframe and a source reference, but we can make a BQDF instance pointing to the source\n",
    "tdf = bqdf.BQDF(con, '%s' %tablename)"
   ]
  },
  {
   "cell_type": "code",
   "execution_count": 110,
   "metadata": {
    "collapsed": false,
    "tags": [
     "worksheet-0"
    ]
   },
   "outputs": [
    {
     "data": {
      "text/plain": [
       "[u'subr', u'num_comments', u'score', u'c_posts']"
      ]
     },
     "execution_count": 110,
     "metadata": {},
     "output_type": "execute_result"
    }
   ],
   "source": [
    "tdf.columns"
   ]
  },
  {
   "cell_type": "markdown",
   "metadata": {},
   "source": [
    "##Plotting"
   ]
  },
  {
   "cell_type": "code",
   "execution_count": 111,
   "metadata": {
    "collapsed": false,
    "tags": [
     "worksheet-0"
    ]
   },
   "outputs": [
    {
     "name": "stdout",
     "output_type": "stream",
     "text": [
      "fetching from local cache\n",
      "Waiting on bqjob_r76a08ee6ec89d489_0000014e9c0fcbb4_331 ... (0s) Current status: DONE   \n",
      "fetching from local cache\n",
      "fetching from local cache\n",
      "Waiting on bqjob_r1426ca2c02b7ae77_0000014e9c0fcead_332 ... (0s) Current status: DONE   \n",
      "fetching from local cache\n",
      "Waiting on bqjob_r33769476d549f7fd_0000014e9c0fd249_333 ... (0s) Current status: DONE   \n",
      "0.414665222168\n",
      "Waiting on bqjob_r4579156b2985b25_0000014e9c0fd86c_334 ... (0s) Current status: DONE   \n",
      "Waiting on bqjob_r30812ce6a64bed6_0000014e9c0fdff9_335 ... (0s) Current status: DONE   \n",
      "0.479141235352\n"
     ]
    },
    {
     "data": {
      "image/png": "[encoded data removed]",
      "text/plain": [
       "<matplotlib.figure.Figure at 0x113eaa6d0>"
      ]
     },
     "metadata": {},
     "output_type": "display_data"
    }
   ],
   "source": [
    "#create a histogram of a column's values\n",
    "histdf=df1['score'].hist(bins=100)"
   ]
  },
  {
   "cell_type": "code",
   "execution_count": 112,
   "metadata": {
    "collapsed": false,
    "tags": [
     "worksheet-0"
    ]
   },
   "outputs": [
    {
     "name": "stdout",
     "output_type": "stream",
     "text": [
      "Waiting on bqjob_r5184417b804558ef_0000014e9c101819_336 ... (0s) Current status: DONE   \n",
      "0.492477416992\n",
      "Waiting on bqjob_r355d92d17df024e4_0000014e9c101bfd_337 ... (0s) Current status: DONE   \n",
      "Waiting on bqjob_r68422f0de06796f0_0000014e9c101f8d_338 ... (0s) Current status: DONE   \n",
      "0.498565673828\n"
     ]
    },
    {
     "data": {
      "text/plain": [
       "<matplotlib.axes._subplots.AxesSubplot at 0x113ed5bd0>"
      ]
     },
     "execution_count": 112,
     "metadata": {},
     "output_type": "execute_result"
    },
    {
     "data": {
      "image/png": "[encoded data removed]",
      "text/plain": [
       "<matplotlib.figure.Figure at 0x113e1b290>"
      ]
     },
     "metadata": {},
     "output_type": "display_data"
    }
   ],
   "source": [
    "#create a simple plot (mean +/- 1 SEM) of value_col, broken down by grouping_col\n",
    "value_col='score'\n",
    "grouping_col='c_posts'\n",
    "df1.plot(grouping_col, value_col, kind='bar')"
   ]
  },
  {
   "cell_type": "code",
   "execution_count": 113,
   "metadata": {
    "collapsed": true
   },
   "outputs": [],
   "source": [
    "con.update()"
   ]
  },
  {
   "cell_type": "code",
   "execution_count": 114,
   "metadata": {
    "collapsed": false
   },
   "outputs": [
    {
     "name": "stdout",
     "output_type": "stream",
     "text": [
      "Waiting on bqjob_r5446ea84859d2408_0000014e9c108526_339 ... (0s) Current status: DONE   \n",
      "0.000267028808594\n",
      "Waiting on bqjob_r254a7a18c87ae0a3_0000014e9c108822_340 ... (0s) Current status: DONE   \n",
      "Waiting on bqjob_r13cbc6b92c94b718_0000014e9c108b40_341 ... (0s) Current status: DONE   \n",
      "0.00558471679688\n",
      "Waiting on bqjob_r470bd9571cb96a81_0000014e9c109321_342 ... (0s) Current status: DONE   \n",
      "0.0102310180664\n",
      "Waiting on bqjob_r70edbaee454db3dc_0000014e9c1099ca_343 ... (0s) Current status: DONE   \n",
      "Waiting on bqjob_r68e0ea3c6440532a_0000014e9c10a133_344 ... (0s) Current status: DONE   \n",
      "0.0151901245117\n"
     ]
    },
    {
     "data": {
      "image/png": "[encoded data removed]",
      "text/plain": [
       "<matplotlib.figure.Figure at 0x115288750>"
      ]
     },
     "metadata": {},
     "output_type": "display_data"
    }
   ],
   "source": [
    "#create scatter plot of x vs. y (since bins > total number of datapoints, will plot all data)\n",
    "scatterseries=df1.scatter('num_comments', 'score', bins=5000)"
   ]
  },
  {
   "cell_type": "code",
   "execution_count": 60,
   "metadata": {
    "collapsed": false
   },
   "outputs": [
    {
     "name": "stdout",
     "output_type": "stream",
     "text": [
      "Waiting on bqjob_r57465fd7070b45b_0000014e9bfcca94_175 ... (0s) Current status: DONE   \n",
      "Waiting on bqjob_r5c068c203eb4093c_0000014e9bfccd5a_176 ... (0s) Current status: DONE   \n",
      "Waiting on bqjob_r8ffe5f69ef98ff9_0000014e9bfcd244_177 ... (0s) Current status: DONE   \n",
      "Waiting on bqjob_r449e1df5c4378473_0000014e9bfcd989_178 ... (0s) Current status: DONE   \n",
      "query saved to durable-footing-95814:_7f939837d73fe18145c1d220d8cea862f339ce2f.anon95ee7e5b5fafebb5e597a3541b0640d971cc0d93\n",
      "returning head only\n",
      "Waiting on bqjob_r185516469de6755b_0000014e9bfcdcb6_179 ... (0s) Current status: DONE   \n",
      "Waiting on bqjob_r143c60795e77f250_0000014e9bfce3e6_180 ... (0s) Current status: DONE   \n",
      "Waiting on bqjob_r2fa60537e947ca0c_0000014e9bfceb68_181 ... (0s) Current status: DONE   \n",
      "query saved to durable-footing-95814:_7f939837d73fe18145c1d220d8cea862f339ce2f.anon58daa3ca68c9e2778f67288fe354a2d0260271f1\n",
      "returning head only\n",
      "Waiting on bqjob_r63168006009c68a8_0000014e9bfcedcc_182 ... (0s) Current status: DONE   \n",
      "Waiting on bqjob_r240a716fa473ca56_0000014e9bfcf5c3_183 ... (0s) Current status: DONE   \n",
      "Waiting on bqjob_r4e3a88dffef02125_0000014e9bfcfcb8_184 ... (2s) Current status: DONE   \n",
      "Waiting on bqjob_r795ff5c32769a3c3_0000014e9bfd118f_185 ... (0s) Current status: DONE   \n",
      "Waiting on bqjob_r3eaac0e309b4072f_0000014e9bfd18de_186 ... (0s) Current status: DONE   \n",
      "Waiting on bqjob_r119071c5108d2239_0000014e9bfd20a3_187 ... (2s) Current status: DONE   \n",
      "Waiting on bqjob_r95aee436662341a_0000014e9bfd340f_188 ... (0s) Current status: DONE   \n",
      "Waiting on bqjob_r171db110fe48a099_0000014e9bfd3b4a_189 ... (0s) Current status: DONE   \n",
      "Waiting on bqjob_r138b115b0ba984f7_0000014e9bfd43a2_190 ... (0s) Current status: DONE   \n",
      "Waiting on bqjob_r7dbcd18c1c51e863_0000014e9bfd5009_191 ... (0s) Current status: DONE   \n",
      "Waiting on bqjob_r46e5ecde0658ea6d_0000014e9bfd5707_192 ... (0s) Current status: DONE   \n"
     ]
    },
    {
     "data": {
      "image/png": "[encoded data removed]",
      "text/plain": [
       "<matplotlib.figure.Figure at 0x113e69190>"
      ]
     },
     "metadata": {},
     "output_type": "display_data"
    }
   ],
   "source": [
    "#create a downsampled scatter plot of x vs. y\n",
    "plotdf=df1.scatter('num_comments', 'score', bins=200)"
   ]
  },
  {
   "cell_type": "markdown",
   "metadata": {},
   "source": [
    "##Misc/ToDo"
   ]
  },
  {
   "cell_type": "markdown",
   "metadata": {
    "collapsed": false
   },
   "source": [
    "- get costs stats?\n",
    "- groupby.apply functionality where apply logic is run locally in python (but only has to pull down one group at a time)\n",
    "- compare to dask"
   ]
  },
  {
   "cell_type": "code",
   "execution_count": null,
   "metadata": {
    "collapsed": true
   },
   "outputs": [],
   "source": []
  }
 ],
 "metadata": {
  "kernelspec": {
   "display_name": "Python 2",
   "language": "python",
   "name": "python2"
  },
  "language_info": {
   "codemirror_mode": {
    "name": "ipython",
    "version": 2
   },
   "file_extension": ".py",
   "mimetype": "text/x-python",
   "name": "python",
   "nbconvert_exporter": "python",
   "pygments_lexer": "ipython2",
   "version": "2.7.6"
  },
  "name": "bq_template.ipynb"
 },
 "nbformat": 4,
 "nbformat_minor": 0
}
