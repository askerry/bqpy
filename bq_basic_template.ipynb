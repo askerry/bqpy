{
 "cells": [
  {
   "cell_type": "code",
   "execution_count": 1,
   "metadata": {
    "collapsed": false,
    "tags": [
     "worksheet-0"
    ]
   },
   "outputs": [
    {
     "name": "stdout",
     "output_type": "stream",
     "text": [
      "Populating the interactive namespace from numpy and matplotlib\n"
     ]
    }
   ],
   "source": [
    "pylab inline"
   ]
  },
  {
   "cell_type": "code",
   "execution_count": 2,
   "metadata": {
    "collapsed": false,
    "tags": [
     "worksheet-0"
    ]
   },
   "outputs": [],
   "source": [
    "%load_ext autoreload"
   ]
  },
  {
   "cell_type": "code",
   "execution_count": 3,
   "metadata": {
    "collapsed": false,
    "tags": [
     "worksheet-0"
    ]
   },
   "outputs": [],
   "source": [
    "% autoreload 2"
   ]
  },
  {
   "cell_type": "code",
   "execution_count": 74,
   "metadata": {
    "collapsed": false,
    "tags": [
     "worksheet-0"
    ]
   },
   "outputs": [],
   "source": [
    "import pandas as pd\n",
    "import matplotlib.pyplot as plt\n",
    "import numpy as np\n",
    "import seaborn as sns\n",
    "sns.set_style('white')\n",
    "import sys\n",
    "sys.path.append('/users/amyskerry/documents/projects')\n",
    "from pybq import core, util, bqdf\n",
    "from pybq import credentialscfg as cfg"
   ]
  },
  {
   "cell_type": "markdown",
   "metadata": {},
   "source": [
    "#Utility functions for viewing/modifying what data are available "
   ]
  },
  {
   "cell_type": "markdown",
   "metadata": {},
   "source": [
    "service=util.get_service()\n",
    "projects=util.list_projects(service)\n",
    "datasets=util.list_datasets(service, 'durable-footing-95814')\n",
    "tables=util.list_tables(service, 'eeg4kaggle', 'eeg')\n",
    "util.delete_table(service, 'eeg4kaggle', 'eeg', 'temp2')\n",
    "util.copy_table(source, destination)"
   ]
  },
  {
   "cell_type": "markdown",
   "metadata": {},
   "source": [
    "#Connect to a project"
   ]
  },
  {
   "cell_type": "code",
   "execution_count": 75,
   "metadata": {
    "collapsed": false
   },
   "outputs": [
    {
     "data": {
      "text/plain": [
       "'durable-footing-95814'"
      ]
     },
     "execution_count": 75,
     "metadata": {},
     "output_type": "execute_result"
    }
   ],
   "source": [
    "cfg.project_id"
   ]
  },
  {
   "cell_type": "code",
   "execution_count": 90,
   "metadata": {
    "collapsed": false,
    "tags": [
     "worksheet-0"
    ]
   },
   "outputs": [],
   "source": [
    "#connect to project via project_id\n",
    "client = core.bigquery_connect(project_id=cfg.project_id, logging_file=cfg.log)"
   ]
  },
  {
   "cell_type": "code",
   "execution_count": 91,
   "metadata": {
    "collapsed": false,
    "tags": [
     "worksheet-0"
    ]
   },
   "outputs": [],
   "source": [
    "#specify bq paths to tables\n",
    "#format: project:dataset.tablename (if dataset is in current project_id, can use just dataset.tablename)\n",
    "table1 = '[fh-bigquery:reddit.subreddits]' \n",
    "table2 = '[fh-bigquery:reddit.top20]'"
   ]
  },
  {
   "cell_type": "markdown",
   "metadata": {
    "collapsed": true,
    "tags": [
     "worksheet-0"
    ]
   },
   "source": [
    "# Dataframe-ish abstraction for bigquery table"
   ]
  },
  {
   "cell_type": "code",
   "execution_count": 92,
   "metadata": {
    "collapsed": false,
    "tags": [
     "worksheet-0"
    ]
   },
   "outputs": [],
   "source": [
    "#create bqdf table connection\n",
    "df1 = bqdf.BQDF(client, table1)\n",
    "df2 = bqdf.BQDF(client, table2)"
   ]
  },
  {
   "cell_type": "code",
   "execution_count": 93,
   "metadata": {
    "collapsed": false
   },
   "outputs": [
    {
     "name": "stdout",
     "output_type": "stream",
     "text": [
      "[fh-bigquery:reddit.subreddits]\n"
     ]
    }
   ],
   "source": [
    "#these are not actually dataframes, but rather references to connected bigquery tables\n",
    "#table referenced:\n",
    "print df1.remote"
   ]
  },
  {
   "cell_type": "code",
   "execution_count": 94,
   "metadata": {
    "collapsed": false
   },
   "outputs": [
    {
     "name": "stdout",
     "output_type": "stream",
     "text": [
      "<bigquery_client.BigqueryClient object at 0x10495b150>\n"
     ]
    }
   ],
   "source": [
    "#connected to project by client\n",
    "print df1.client"
   ]
  },
  {
   "cell_type": "code",
   "execution_count": 95,
   "metadata": {
    "collapsed": false
   },
   "outputs": [
    {
     "data": {
      "text/html": [
       "<div>\n",
       "<table border=\"1\" class=\"dataframe\">\n",
       "  <thead>\n",
       "    <tr style=\"text-align: right;\">\n",
       "      <th></th>\n",
       "      <th>subr</th>\n",
       "      <th>created_utc</th>\n",
       "      <th>score</th>\n",
       "      <th>num_comments</th>\n",
       "      <th>c_posts</th>\n",
       "      <th>ups</th>\n",
       "      <th>downs</th>\n",
       "    </tr>\n",
       "  </thead>\n",
       "  <tbody>\n",
       "    <tr>\n",
       "      <th>0</th>\n",
       "      <td>Winnipeg</td>\n",
       "      <td>1271800307</td>\n",
       "      <td>35017</td>\n",
       "      <td>23782</td>\n",
       "      <td>1000</td>\n",
       "      <td>41170</td>\n",
       "      <td>6153</td>\n",
       "    </tr>\n",
       "    <tr>\n",
       "      <th>1</th>\n",
       "      <td>winterporn</td>\n",
       "      <td>1322432778</td>\n",
       "      <td>61256</td>\n",
       "      <td>1858</td>\n",
       "      <td>1000</td>\n",
       "      <td>66831</td>\n",
       "      <td>5575</td>\n",
       "    </tr>\n",
       "    <tr>\n",
       "      <th>2</th>\n",
       "      <td>wisconsin</td>\n",
       "      <td>1288755087</td>\n",
       "      <td>71500</td>\n",
       "      <td>24893</td>\n",
       "      <td>999</td>\n",
       "      <td>87718</td>\n",
       "      <td>16218</td>\n",
       "    </tr>\n",
       "    <tr>\n",
       "      <th>3</th>\n",
       "      <td>woahdude</td>\n",
       "      <td>1272095272</td>\n",
       "      <td>2089822</td>\n",
       "      <td>126829</td>\n",
       "      <td>1000</td>\n",
       "      <td>4970101</td>\n",
       "      <td>2880279</td>\n",
       "    </tr>\n",
       "    <tr>\n",
       "      <th>4</th>\n",
       "      <td>women</td>\n",
       "      <td>1221247390</td>\n",
       "      <td>63478</td>\n",
       "      <td>12128</td>\n",
       "      <td>1000</td>\n",
       "      <td>74948</td>\n",
       "      <td>11470</td>\n",
       "    </tr>\n",
       "  </tbody>\n",
       "</table>\n",
       "</div>"
      ],
      "text/plain": [
       "         subr  created_utc    score  num_comments  c_posts      ups    downs\n",
       "0    Winnipeg   1271800307    35017         23782     1000    41170     6153\n",
       "1  winterporn   1322432778    61256          1858     1000    66831     5575\n",
       "2   wisconsin   1288755087    71500         24893      999    87718    16218\n",
       "3    woahdude   1272095272  2089822        126829     1000  4970101  2880279\n",
       "4       women   1221247390    63478         12128     1000    74948    11470"
      ]
     },
     "execution_count": 95,
     "metadata": {},
     "output_type": "execute_result"
    }
   ],
   "source": [
    "#a local copy or sample of the data is stored in df.local\n",
    "#by default, local contains only a copy of the first 5 rows (the table's \"head\")\n",
    "#but bqdf queries (incl built in joins, group bys, etc.) can also copy full result to df.local (if fetch=True)\n",
    "df1.local"
   ]
  },
  {
   "cell_type": "markdown",
   "metadata": {},
   "source": [
    "##Basic convenience operations"
   ]
  },
  {
   "cell_type": "code",
   "execution_count": 54,
   "metadata": {
    "collapsed": false
   },
   "outputs": [
    {
     "data": {
      "text/html": [
       "<div>\n",
       "<table border=\"1\" class=\"dataframe\">\n",
       "  <thead>\n",
       "    <tr style=\"text-align: right;\">\n",
       "      <th></th>\n",
       "      <th>subr</th>\n",
       "      <th>created_utc</th>\n",
       "      <th>score</th>\n",
       "      <th>num_comments</th>\n",
       "      <th>c_posts</th>\n",
       "      <th>ups</th>\n",
       "      <th>downs</th>\n",
       "    </tr>\n",
       "  </thead>\n",
       "  <tbody>\n",
       "    <tr>\n",
       "      <th>0</th>\n",
       "      <td>Winnipeg</td>\n",
       "      <td>1271800307</td>\n",
       "      <td>35017</td>\n",
       "      <td>23782</td>\n",
       "      <td>1000</td>\n",
       "      <td>41170</td>\n",
       "      <td>6153</td>\n",
       "    </tr>\n",
       "    <tr>\n",
       "      <th>1</th>\n",
       "      <td>winterporn</td>\n",
       "      <td>1322432778</td>\n",
       "      <td>61256</td>\n",
       "      <td>1858</td>\n",
       "      <td>1000</td>\n",
       "      <td>66831</td>\n",
       "      <td>5575</td>\n",
       "    </tr>\n",
       "    <tr>\n",
       "      <th>2</th>\n",
       "      <td>wisconsin</td>\n",
       "      <td>1288755087</td>\n",
       "      <td>71500</td>\n",
       "      <td>24893</td>\n",
       "      <td>999</td>\n",
       "      <td>87718</td>\n",
       "      <td>16218</td>\n",
       "    </tr>\n",
       "    <tr>\n",
       "      <th>3</th>\n",
       "      <td>woahdude</td>\n",
       "      <td>1272095272</td>\n",
       "      <td>2089822</td>\n",
       "      <td>126829</td>\n",
       "      <td>1000</td>\n",
       "      <td>4970101</td>\n",
       "      <td>2880279</td>\n",
       "    </tr>\n",
       "    <tr>\n",
       "      <th>4</th>\n",
       "      <td>women</td>\n",
       "      <td>1221247390</td>\n",
       "      <td>63478</td>\n",
       "      <td>12128</td>\n",
       "      <td>1000</td>\n",
       "      <td>74948</td>\n",
       "      <td>11470</td>\n",
       "    </tr>\n",
       "  </tbody>\n",
       "</table>\n",
       "</div>"
      ],
      "text/plain": [
       "         subr  created_utc    score  num_comments  c_posts      ups    downs\n",
       "0    Winnipeg   1271800307    35017         23782     1000    41170     6153\n",
       "1  winterporn   1322432778    61256          1858     1000    66831     5575\n",
       "2   wisconsin   1288755087    71500         24893      999    87718    16218\n",
       "3    woahdude   1272095272  2089822        126829     1000  4970101  2880279\n",
       "4       women   1221247390    63478         12128     1000    74948    11470"
      ]
     },
     "execution_count": 54,
     "metadata": {},
     "output_type": "execute_result"
    }
   ],
   "source": [
    "# standard df head\n",
    "df1.head()"
   ]
  },
  {
   "cell_type": "code",
   "execution_count": 96,
   "metadata": {
    "collapsed": false,
    "tags": [
     "worksheet-0"
    ]
   },
   "outputs": [
    {
     "data": {
      "text/plain": [
       "[u'subr',\n",
       " u'created_utc',\n",
       " u'score',\n",
       " u'num_comments',\n",
       " u'c_posts',\n",
       " u'ups',\n",
       " u'downs']"
      ]
     },
     "execution_count": 96,
     "metadata": {},
     "output_type": "execute_result"
    }
   ],
   "source": [
    "# columns of table\n",
    "df1.columns"
   ]
  },
  {
   "cell_type": "code",
   "execution_count": 47,
   "metadata": {
    "collapsed": false,
    "tags": [
     "worksheet-0"
    ]
   },
   "outputs": [
    {
     "name": "stdout",
     "output_type": "stream",
     "text": [
      "Table Schema for [fh-bigquery:reddit.subreddits]\n",
      "subr (STRING) :   mode-NULLABLE\n",
      "created_utc (TIMESTAMP) :   mode-NULLABLE\n",
      "score (INTEGER) :   mode-NULLABLE\n",
      "num_comments (INTEGER) :   mode-NULLABLE\n",
      "c_posts (INTEGER) :   mode-NULLABLE\n",
      "ups (INTEGER) :   mode-NULLABLE\n",
      "downs (INTEGER) :   mode-NULLABLE\n"
     ]
    }
   ],
   "source": [
    "# view schema details\n",
    "schema=df1.table_schema"
   ]
  },
  {
   "cell_type": "code",
   "execution_count": 51,
   "metadata": {
    "collapsed": false,
    "tags": [
     "worksheet-0"
    ]
   },
   "outputs": [
    {
     "data": {
      "text/plain": [
       "(2499, 7)"
      ]
     },
     "execution_count": 51,
     "metadata": {},
     "output_type": "execute_result"
    }
   ],
   "source": [
    "#shape of table\n",
    "df1.size"
   ]
  },
  {
   "cell_type": "code",
   "execution_count": 56,
   "metadata": {
    "collapsed": false,
    "tags": [
     "worksheet-0"
    ]
   },
   "outputs": [
    {
     "name": "stdout",
     "output_type": "stream",
     "text": [
      "['Winnipeg' 'winterporn' 'wisconsin' ..., 'windowshots' 'windowsphone'\n",
      " 'wine']\n"
     ]
    }
   ],
   "source": [
    "#distinct elements in column\n",
    "uniques=df1.unique('subr')\n",
    "print uniques"
   ]
  },
  {
   "cell_type": "code",
   "execution_count": 12,
   "metadata": {
    "collapsed": false,
    "tags": [
     "worksheet-0"
    ]
   },
   "outputs": [
    {
     "name": "stdout",
     "output_type": "stream",
     "text": [
      "388468674\n",
      "388468674\n"
     ]
    }
   ],
   "source": [
    "#columnar operations (min, max, mean, std, mode, unique, count) can be accessed in one of two ways\n",
    "print df1.sum('score')\n",
    "print df1.score.sum()"
   ]
  },
  {
   "cell_type": "code",
   "execution_count": 43,
   "metadata": {
    "collapsed": false,
    "tags": [
     "worksheet-0"
    ]
   },
   "outputs": [
    {
     "data": {
      "text/plain": [
       "155449.64945978392"
      ]
     },
     "execution_count": 43,
     "metadata": {},
     "output_type": "execute_result"
    }
   ],
   "source": [
    "# mean of column\n",
    "df1.mean('score')"
   ]
  },
  {
   "cell_type": "code",
   "execution_count": 14,
   "metadata": {
    "collapsed": false,
    "tags": [
     "worksheet-0"
    ]
   },
   "outputs": [
    {
     "data": {
      "text/plain": [
       "349534.8891608803"
      ]
     },
     "execution_count": 14,
     "metadata": {},
     "output_type": "execute_result"
    }
   ],
   "source": [
    "#standard deviation of column\n",
    "df1.score.std()"
   ]
  },
  {
   "cell_type": "code",
   "execution_count": 15,
   "metadata": {
    "collapsed": false,
    "tags": [
     "worksheet-0"
    ]
   },
   "outputs": [
    {
     "data": {
      "text/plain": [
       "3"
      ]
     },
     "execution_count": 15,
     "metadata": {},
     "output_type": "execute_result"
    }
   ],
   "source": [
    "#mode of column (if multiple, returns first)\n",
    "df1.num_comments.mode()"
   ]
  },
  {
   "cell_type": "code",
   "execution_count": 16,
   "metadata": {
    "collapsed": false,
    "tags": [
     "worksheet-0"
    ]
   },
   "outputs": [
    {
     "data": {
      "text/plain": [
       "8082530"
      ]
     },
     "execution_count": 16,
     "metadata": {},
     "output_type": "execute_result"
    }
   ],
   "source": [
    "#max value in column\n",
    "df1.num_comments.max()"
   ]
  },
  {
   "cell_type": "code",
   "execution_count": 24,
   "metadata": {
    "collapsed": false
   },
   "outputs": [
    {
     "data": {
      "text/plain": [
       "2499"
      ]
     },
     "execution_count": 24,
     "metadata": {},
     "output_type": "execute_result"
    }
   ],
   "source": [
    "# non-null entries in column\n",
    "df1.num_comments.count()"
   ]
  },
  {
   "cell_type": "code",
   "execution_count": null,
   "metadata": {
    "collapsed": true
   },
   "outputs": [],
   "source": [
    "df1.describe()"
   ]
  },
  {
   "cell_type": "markdown",
   "metadata": {},
   "source": [
    "## Joining and filtering"
   ]
  },
  {
   "cell_type": "code",
   "execution_count": 105,
   "metadata": {
    "collapsed": false
   },
   "outputs": [
    {
     "name": "stdout",
     "output_type": "stream",
     "text": [
      "2499\n",
      "21\n",
      "6\n"
     ]
    }
   ],
   "source": [
    "# df.where is used for filtering the table.\n",
    "# each condition is expressed as it's own string argument\n",
    "# only simple equality, greater than, less than are currently supported\n",
    "print len(df1)\n",
    "ndf = df1.where('num_comments>500000')\n",
    "print len(ndf.local)\n",
    "ndf = df1.where('num_comments>500000', 'score <2000000')\n",
    "print len(ndf.local)"
   ]
  },
  {
   "cell_type": "code",
   "execution_count": 32,
   "metadata": {
    "collapsed": false,
    "tags": [
     "worksheet-0"
    ]
   },
   "outputs": [],
   "source": [
    "#join two tables\n",
    "#note this returns a new BQDF object with a reference to the resulting table\n",
    "ndf=df1.join(df2, on='subr', how='inner')"
   ]
  },
  {
   "cell_type": "code",
   "execution_count": 33,
   "metadata": {
    "collapsed": false
   },
   "outputs": [
    {
     "data": {
      "text/plain": [
       "u'[durable-footing-95814:_7f939837d73fe18145c1d220d8cea862f339ce2f.anon28b5b8b485f49cb4a4e98c0050fc19ad20099d86]'"
      ]
     },
     "execution_count": 33,
     "metadata": {},
     "output_type": "execute_result"
    }
   ],
   "source": [
    "#references temporary table created by query\n",
    "ndf.remote"
   ]
  },
  {
   "cell_type": "code",
   "execution_count": 57,
   "metadata": {
    "collapsed": false,
    "tags": [
     "worksheet-0"
    ]
   },
   "outputs": [
    {
     "data": {
      "text/html": [
       "<div>\n",
       "<table border=\"1\" class=\"dataframe\">\n",
       "  <thead>\n",
       "    <tr style=\"text-align: right;\">\n",
       "      <th></th>\n",
       "      <th>subr</th>\n",
       "      <th>created_utc</th>\n",
       "      <th>score</th>\n",
       "      <th>num_comments</th>\n",
       "      <th>c_posts</th>\n",
       "      <th>ups</th>\n",
       "      <th>downs</th>\n",
       "    </tr>\n",
       "  </thead>\n",
       "  <tbody>\n",
       "    <tr>\n",
       "      <th>0</th>\n",
       "      <td>Games</td>\n",
       "      <td>1321547453</td>\n",
       "      <td>1409348</td>\n",
       "      <td>653297</td>\n",
       "      <td>1000</td>\n",
       "      <td>2672942</td>\n",
       "      <td>1263594</td>\n",
       "    </tr>\n",
       "    <tr>\n",
       "      <th>1</th>\n",
       "      <td>Music</td>\n",
       "      <td>1250180677</td>\n",
       "      <td>1690562</td>\n",
       "      <td>823953</td>\n",
       "      <td>1000</td>\n",
       "      <td>5578324</td>\n",
       "      <td>3887762</td>\n",
       "    </tr>\n",
       "    <tr>\n",
       "      <th>2</th>\n",
       "      <td>news</td>\n",
       "      <td>1278527159</td>\n",
       "      <td>1839663</td>\n",
       "      <td>703301</td>\n",
       "      <td>999</td>\n",
       "      <td>4013902</td>\n",
       "      <td>2174239</td>\n",
       "    </tr>\n",
       "    <tr>\n",
       "      <th>3</th>\n",
       "      <td>nfl</td>\n",
       "      <td>1315495803</td>\n",
       "      <td>1321473</td>\n",
       "      <td>681162</td>\n",
       "      <td>1000</td>\n",
       "      <td>2230155</td>\n",
       "      <td>908682</td>\n",
       "    </tr>\n",
       "    <tr>\n",
       "      <th>4</th>\n",
       "      <td>leagueoflegends</td>\n",
       "      <td>1324643747</td>\n",
       "      <td>1681668</td>\n",
       "      <td>604216</td>\n",
       "      <td>1000</td>\n",
       "      <td>3810605</td>\n",
       "      <td>2128937</td>\n",
       "    </tr>\n",
       "    <tr>\n",
       "      <th>5</th>\n",
       "      <td>blog</td>\n",
       "      <td>1258479187</td>\n",
       "      <td>362626</td>\n",
       "      <td>580063</td>\n",
       "      <td>244</td>\n",
       "      <td>1472579</td>\n",
       "      <td>1109960</td>\n",
       "    </tr>\n",
       "  </tbody>\n",
       "</table>\n",
       "</div>"
      ],
      "text/plain": [
       "              subr  created_utc    score  num_comments  c_posts      ups  \\\n",
       "0            Games   1321547453  1409348        653297     1000  2672942   \n",
       "1            Music   1250180677  1690562        823953     1000  5578324   \n",
       "2             news   1278527159  1839663        703301      999  4013902   \n",
       "3              nfl   1315495803  1321473        681162     1000  2230155   \n",
       "4  leagueoflegends   1324643747  1681668        604216     1000  3810605   \n",
       "5             blog   1258479187   362626        580063      244  1472579   \n",
       "\n",
       "     downs  \n",
       "0  1263594  \n",
       "1  3887762  \n",
       "2  2174239  \n",
       "3   908682  \n",
       "4  2128937  \n",
       "5  1109960  "
      ]
     },
     "execution_count": 57,
     "metadata": {},
     "output_type": "execute_result"
    }
   ],
   "source": [
    "#because fetch defaults to True, remote table was fetched to ndf.local\n",
    "ndf.local"
   ]
  },
  {
   "cell_type": "markdown",
   "metadata": {},
   "source": [
    "## More flexible querying"
   ]
  },
  {
   "cell_type": "code",
   "execution_count": 50,
   "metadata": {
    "collapsed": false,
    "tags": [
     "worksheet-0"
    ]
   },
   "outputs": [
    {
     "name": "stdout",
     "output_type": "stream",
     "text": [
      "Waiting on bqjob_r20cf8fc2837f8874_0000014e8f452f1c_105 ... (0s) Current status: DONE   \n"
     ]
    }
   ],
   "source": [
    "#execute arbitrary sql commands and return as df and source\n",
    "#note: raw_query does not return a BQDF object\n",
    "querystr = \"\"\"\n",
    "SELECT subr, num_comments, score, c_posts FROM %s  LIMIT 1000\n",
    "\"\"\" %table1\n",
    "df, source = bqdf.raw_query(client, querystr)"
   ]
  },
  {
   "cell_type": "code",
   "execution_count": 51,
   "metadata": {
    "collapsed": false
   },
   "outputs": [
    {
     "data": {
      "text/html": [
       "<div>\n",
       "<table border=\"1\" class=\"dataframe\">\n",
       "  <thead>\n",
       "    <tr style=\"text-align: right;\">\n",
       "      <th></th>\n",
       "      <th>subr</th>\n",
       "      <th>num_comments</th>\n",
       "      <th>score</th>\n",
       "      <th>c_posts</th>\n",
       "    </tr>\n",
       "  </thead>\n",
       "  <tbody>\n",
       "    <tr>\n",
       "      <th>0</th>\n",
       "      <td>Winnipeg</td>\n",
       "      <td>23782</td>\n",
       "      <td>35017</td>\n",
       "      <td>1000</td>\n",
       "    </tr>\n",
       "    <tr>\n",
       "      <th>1</th>\n",
       "      <td>winterporn</td>\n",
       "      <td>1858</td>\n",
       "      <td>61256</td>\n",
       "      <td>1000</td>\n",
       "    </tr>\n",
       "    <tr>\n",
       "      <th>2</th>\n",
       "      <td>wisconsin</td>\n",
       "      <td>24893</td>\n",
       "      <td>71500</td>\n",
       "      <td>999</td>\n",
       "    </tr>\n",
       "    <tr>\n",
       "      <th>3</th>\n",
       "      <td>woahdude</td>\n",
       "      <td>126829</td>\n",
       "      <td>2089822</td>\n",
       "      <td>1000</td>\n",
       "    </tr>\n",
       "    <tr>\n",
       "      <th>4</th>\n",
       "      <td>women</td>\n",
       "      <td>12128</td>\n",
       "      <td>63478</td>\n",
       "      <td>1000</td>\n",
       "    </tr>\n",
       "  </tbody>\n",
       "</table>\n",
       "</div>"
      ],
      "text/plain": [
       "         subr  num_comments    score  c_posts\n",
       "0    Winnipeg         23782    35017     1000\n",
       "1  winterporn          1858    61256     1000\n",
       "2   wisconsin         24893    71500      999\n",
       "3    woahdude        126829  2089822     1000\n",
       "4       women         12128    63478     1000"
      ]
     },
     "execution_count": 51,
     "metadata": {},
     "output_type": "execute_result"
    }
   ],
   "source": [
    "df.head()"
   ]
  },
  {
   "cell_type": "code",
   "execution_count": 52,
   "metadata": {
    "collapsed": false,
    "tags": [
     "worksheet-0"
    ]
   },
   "outputs": [
    {
     "name": "stdout",
     "output_type": "stream",
     "text": [
      "durable-footing-95814:_7f939837d73fe18145c1d220d8cea862f339ce2f.anona2dafbb18ce408e7080759002199b8e1936d5c0b\n"
     ]
    }
   ],
   "source": [
    "tablename=util.stringify(source)\n",
    "print tablename"
   ]
  },
  {
   "cell_type": "code",
   "execution_count": 53,
   "metadata": {
    "collapsed": false,
    "tags": [
     "worksheet-0"
    ]
   },
   "outputs": [],
   "source": [
    "#raw_query returns just a dataframe and a source reference, but we can make a BQDF instance pointing to the source\n",
    "tdf = bqdf.BQDF(client, '[%s]' %tablename)"
   ]
  },
  {
   "cell_type": "code",
   "execution_count": 54,
   "metadata": {
    "collapsed": false,
    "tags": [
     "worksheet-0"
    ]
   },
   "outputs": [
    {
     "data": {
      "text/plain": [
       "[u'subr', u'num_comments', u'score', u'c_posts']"
      ]
     },
     "execution_count": 54,
     "metadata": {},
     "output_type": "execute_result"
    }
   ],
   "source": [
    "tdf.columns"
   ]
  },
  {
   "cell_type": "markdown",
   "metadata": {},
   "source": [
    "##Plotting"
   ]
  },
  {
   "cell_type": "code",
   "execution_count": 34,
   "metadata": {
    "collapsed": false,
    "tags": [
     "worksheet-0"
    ]
   },
   "outputs": [
    {
     "name": "stdout",
     "output_type": "stream",
     "text": [
      "Waiting on bqjob_r6ff973f12b070333_0000014e8f1aea24_33 ... (0s) Current status: DONE   \n"
     ]
    },
    {
     "data": {
      "image/png": "[encoded data removed]",
      "text/plain": [
       "<matplotlib.figure.Figure at 0x106ccb510>"
      ]
     },
     "metadata": {},
     "output_type": "display_data"
    }
   ],
   "source": [
    "#create a histogram of a column's values\n",
    "histdf=df1.score.hist(bins=50)"
   ]
  },
  {
   "cell_type": "code",
   "execution_count": 32,
   "metadata": {
    "collapsed": false,
    "tags": [
     "worksheet-0"
    ]
   },
   "outputs": [
    {
     "name": "stdout",
     "output_type": "stream",
     "text": [
      "SELECT c_posts, AVG(score) score_mean , STDDEV(score) score_std , COUNT(score) score_count  FROM [fh-bigquery:reddit.subreddits] GROUP BY c_posts LIMIT 10000000\n"
     ]
    },
    {
     "data": {
      "text/plain": [
       "<matplotlib.axes._subplots.AxesSubplot at 0x106a6b990>"
      ]
     },
     "execution_count": 32,
     "metadata": {},
     "output_type": "execute_result"
    },
    {
     "data": {
      "image/png": "[encoded data removed]",
      "text/plain": [
       "<matplotlib.figure.Figure at 0x106a6b290>"
      ]
     },
     "metadata": {},
     "output_type": "display_data"
    }
   ],
   "source": [
    "#create a simple plot (mean +/- 1 SEM) of value_col, broken down by grouping_col\n",
    "value_col='score'\n",
    "grouping_col='c_posts'\n",
    "df1.plot(grouping_col, value_col, kind='bar')"
   ]
  },
  {
   "cell_type": "markdown",
   "metadata": {},
   "source": [
    "##Misc"
   ]
  },
  {
   "cell_type": "code",
   "execution_count": 108,
   "metadata": {
    "collapsed": false
   },
   "outputs": [
    {
     "data": {
      "text/plain": [
       "['CancelJob',\n",
       " 'ConfigureFormatter',\n",
       " 'ConstructObjectInfo',\n",
       " 'ConstructObjectReference',\n",
       " 'CopyTable',\n",
       " 'CreateDataset',\n",
       " 'CreateTable',\n",
       " 'DatasetExists',\n",
       " 'DeleteDataset',\n",
       " 'DeleteTable',\n",
       " 'ExecuteJob',\n",
       " 'Extract',\n",
       " 'FormatAcl',\n",
       " 'FormatDatasetInfo',\n",
       " 'FormatInfoByKind',\n",
       " 'FormatJobInfo',\n",
       " 'FormatProjectInfo',\n",
       " 'FormatSchema',\n",
       " 'FormatTableInfo',\n",
       " 'FormatTime',\n",
       " 'GetDatasetReference',\n",
       " 'GetDiscoveryUrl',\n",
       " 'GetHttp',\n",
       " 'GetJobReference',\n",
       " 'GetJobTypeName',\n",
       " 'GetObjectInfo',\n",
       " 'GetProjectReference',\n",
       " 'GetQueryResults',\n",
       " 'GetReference',\n",
       " 'GetTableReference',\n",
       " 'GetTableSchema',\n",
       " 'InsertTableRows',\n",
       " 'IsFailedJob',\n",
       " 'ListDatasetRefs',\n",
       " 'ListDatasets',\n",
       " 'ListJobRefs',\n",
       " 'ListJobs',\n",
       " 'ListProjectRefs',\n",
       " 'ListProjects',\n",
       " 'ListTableRefs',\n",
       " 'ListTables',\n",
       " 'Load',\n",
       " 'NormalizeWait',\n",
       " 'PollJob',\n",
       " 'ProcessSources',\n",
       " 'Query',\n",
       " 'QuietWaitPrinter',\n",
       " 'RaiseError',\n",
       " 'RaiseIfJobError',\n",
       " 'ReadSchema',\n",
       " 'ReadSchemaAndJobRows',\n",
       " 'ReadSchemaAndRows',\n",
       " 'RunJobSynchronously',\n",
       " 'RunQuery',\n",
       " 'RunQueryRpc',\n",
       " 'StartJob',\n",
       " 'TableExists',\n",
       " 'TransitionWaitPrinter',\n",
       " 'UpdateDataset',\n",
       " 'UpdateTable',\n",
       " 'ValidatePrintFormat',\n",
       " 'VerboseWaitPrinter',\n",
       " 'WaitJob',\n",
       " 'WaitPrinter',\n",
       " 'WaitPrinterHelper',\n",
       " '_KindToName',\n",
       " '_NormalizeProjectReference',\n",
       " '_ParseIdentifier',\n",
       " '_PrepareListRequest',\n",
       " '_StartQueryRpc',\n",
       " '__class__',\n",
       " '__delattr__',\n",
       " '__dict__',\n",
       " '__doc__',\n",
       " '__format__',\n",
       " '__getattribute__',\n",
       " '__hash__',\n",
       " '__init__',\n",
       " '__module__',\n",
       " '__new__',\n",
       " '__reduce__',\n",
       " '__reduce_ex__',\n",
       " '__repr__',\n",
       " '__setattr__',\n",
       " '__sizeof__',\n",
       " '__str__',\n",
       " '__subclasshook__',\n",
       " '__weakref__',\n",
       " '_apiclient',\n",
       " 'api',\n",
       " 'api_version',\n",
       " 'apiclient',\n",
       " 'credential_file',\n",
       " 'credentials',\n",
       " 'dataset_id',\n",
       " 'discovery_document',\n",
       " 'job_id_generator',\n",
       " 'job_property',\n",
       " 'logging_file',\n",
       " 'max_rows_per_request',\n",
       " 'project_id',\n",
       " 'sync',\n",
       " 'trace',\n",
       " 'wait_printer_factory']"
      ]
     },
     "execution_count": 108,
     "metadata": {},
     "output_type": "execute_result"
    }
   ],
   "source": [
    "dir(client)"
   ]
  },
  {
   "cell_type": "code",
   "execution_count": 69,
   "metadata": {
    "collapsed": true
   },
   "outputs": [],
   "source": []
  },
  {
   "cell_type": "code",
   "execution_count": null,
   "metadata": {
    "collapsed": true
   },
   "outputs": [],
   "source": []
  }
 ],
 "metadata": {
  "kernelspec": {
   "display_name": "Python 2",
   "language": "python",
   "name": "python2"
  },
  "language_info": {
   "codemirror_mode": {
    "name": "ipython",
    "version": 2
   },
   "file_extension": ".py",
   "mimetype": "text/x-python",
   "name": "python",
   "nbconvert_exporter": "python",
   "pygments_lexer": "ipython2",
   "version": "2.7.6"
  },
  "name": "bq_template.ipynb"
 },
 "nbformat": 4,
 "nbformat_minor": 0
}
