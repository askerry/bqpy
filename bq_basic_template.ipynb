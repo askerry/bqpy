{
 "cells": [
  {
   "cell_type": "code",
   "execution_count": 1,
   "metadata": {
    "collapsed": false,
    "tags": [
     "worksheet-0"
    ]
   },
   "outputs": [
    {
     "name": "stdout",
     "output_type": "stream",
     "text": [
      "Populating the interactive namespace from numpy and matplotlib\n"
     ]
    }
   ],
   "source": [
    "pylab inline"
   ]
  },
  {
   "cell_type": "code",
   "execution_count": 2,
   "metadata": {
    "collapsed": false,
    "tags": [
     "worksheet-0"
    ]
   },
   "outputs": [],
   "source": [
    "%load_ext autoreload"
   ]
  },
  {
   "cell_type": "code",
   "execution_count": 3,
   "metadata": {
    "collapsed": false,
    "tags": [
     "worksheet-0"
    ]
   },
   "outputs": [],
   "source": [
    "% autoreload 2"
   ]
  },
  {
   "cell_type": "code",
   "execution_count": 50,
   "metadata": {
    "collapsed": false,
    "tags": [
     "worksheet-0"
    ]
   },
   "outputs": [],
   "source": [
    "import pandas as pd\n",
    "import matplotlib.pyplot as plt\n",
    "import numpy as np\n",
    "import seaborn as sns\n",
    "sns.set_style('white')\n",
    "import sys\n",
    "sys.path.append('/users/amyskerry/documents/projects')\n",
    "from pybq import bqdf, core, util\n",
    "from pybq import credentialscfg as cred"
   ]
  },
  {
   "cell_type": "code",
   "execution_count": 5,
   "metadata": {
    "collapsed": false
   },
   "outputs": [
    {
     "data": {
      "text/plain": [
       "False"
      ]
     },
     "execution_count": 5,
     "metadata": {},
     "output_type": "execute_result"
    }
   ],
   "source": [
    "bqdf.cfg.DEBUG"
   ]
  },
  {
   "cell_type": "code",
   "execution_count": 6,
   "metadata": {
    "collapsed": false
   },
   "outputs": [
    {
     "data": {
      "text/plain": [
       "False"
      ]
     },
     "execution_count": 6,
     "metadata": {},
     "output_type": "execute_result"
    }
   ],
   "source": [
    "bqdf.cfg.FETCH_BY_DEFAULT"
   ]
  },
  {
   "cell_type": "markdown",
   "metadata": {},
   "source": [
    "#Connect to a project"
   ]
  },
  {
   "cell_type": "code",
   "execution_count": 7,
   "metadata": {
    "collapsed": false,
    "tags": [
     "worksheet-0"
    ]
   },
   "outputs": [],
   "source": [
    "#connect to bigquery project via project_id\n",
    "con = bqdf.Connection(project_id=cred.project_id, logging_file=cred.log)"
   ]
  },
  {
   "cell_type": "code",
   "execution_count": 10,
   "metadata": {
    "collapsed": false
   },
   "outputs": [
    {
     "name": "stdout",
     "output_type": "stream",
     "text": [
      "Tables list:\n",
      "names\n",
      "natality\n",
      "\n",
      "\n"
     ]
    }
   ],
   "source": [
    "tables=con.list_tables('lomulation', 'temp')"
   ]
  },
  {
   "cell_type": "code",
   "execution_count": 11,
   "metadata": {
    "collapsed": false
   },
   "outputs": [],
   "source": [
    "for t in tables:\n",
    "    if t not in ['names', 'natality']:\n",
    "        con.delete_table('lomulation', 'temp', t)"
   ]
  },
  {
   "cell_type": "code",
   "execution_count": 12,
   "metadata": {
    "collapsed": false,
    "tags": [
     "worksheet-0"
    ]
   },
   "outputs": [],
   "source": [
    "#specify bq paths to tables\n",
    "#format: project:dataset.tablename (if dataset is in current project_id, can use just dataset.tablename)\n",
    "table1 = 'lomulation:temp.natality' \n",
    "table2 = 'lomulation:temp.names'"
   ]
  },
  {
   "cell_type": "markdown",
   "metadata": {
    "collapsed": true,
    "tags": [
     "worksheet-0"
    ]
   },
   "source": [
    "# Dataframe-ish abstraction for bigquery table"
   ]
  },
  {
   "cell_type": "code",
   "execution_count": 76,
   "metadata": {
    "collapsed": false,
    "tags": [
     "worksheet-0"
    ]
   },
   "outputs": [],
   "source": [
    "#create bqdf table connection\n",
    "df1 = bqdf.BQDF(con, table1)\n",
    "df2 = bqdf.BQDF(con, table2)"
   ]
  },
  {
   "cell_type": "code",
   "execution_count": 14,
   "metadata": {
    "collapsed": false
   },
   "outputs": [
    {
     "name": "stdout",
     "output_type": "stream",
     "text": [
      "lomulation:temp.natality\n"
     ]
    }
   ],
   "source": [
    "#these are not actually dataframes, but rather references to connected bigquery tables\n",
    "#table referenced:\n",
    "print df1.remote"
   ]
  },
  {
   "cell_type": "code",
   "execution_count": 15,
   "metadata": {
    "collapsed": false
   },
   "outputs": [
    {
     "name": "stdout",
     "output_type": "stream",
     "text": [
      "<pybq.core.Connection object at 0x10b3b50d0>\n"
     ]
    }
   ],
   "source": [
    "#we can access the connection object\n",
    "print df1.con"
   ]
  },
  {
   "cell_type": "code",
   "execution_count": 16,
   "metadata": {
    "collapsed": false
   },
   "outputs": [
    {
     "name": "stdout",
     "output_type": "stream",
     "text": [
      "<bigquery_client.BigqueryClient object at 0x10b3b5110>\n"
     ]
    }
   ],
   "source": [
    "#which is connected to project by bq api client\n",
    "print df1.con.client"
   ]
  },
  {
   "cell_type": "code",
   "execution_count": 17,
   "metadata": {
    "collapsed": false
   },
   "outputs": [
    {
     "data": {
      "text/html": [
       "<div>\n",
       "<table border=\"1\" class=\"dataframe\">\n",
       "  <thead>\n",
       "    <tr style=\"text-align: right;\">\n",
       "      <th></th>\n",
       "      <th>source_year</th>\n",
       "      <th>year</th>\n",
       "      <th>month</th>\n",
       "      <th>day</th>\n",
       "      <th>wday</th>\n",
       "      <th>state</th>\n",
       "      <th>is_male</th>\n",
       "      <th>child_race</th>\n",
       "      <th>weight_pounds</th>\n",
       "      <th>plurality</th>\n",
       "      <th>...</th>\n",
       "      <th>alcohol_use</th>\n",
       "      <th>drinks_per_week</th>\n",
       "      <th>weight_gain_pounds</th>\n",
       "      <th>born_alive_alive</th>\n",
       "      <th>born_alive_dead</th>\n",
       "      <th>born_dead</th>\n",
       "      <th>ever_born</th>\n",
       "      <th>father_race</th>\n",
       "      <th>father_age</th>\n",
       "      <th>record_weight</th>\n",
       "    </tr>\n",
       "  </thead>\n",
       "  <tbody>\n",
       "    <tr>\n",
       "      <th>0</th>\n",
       "      <td>1969</td>\n",
       "      <td>1969</td>\n",
       "      <td>11</td>\n",
       "      <td>18</td>\n",
       "      <td>NaN</td>\n",
       "      <td>CA</td>\n",
       "      <td>True</td>\n",
       "      <td>1</td>\n",
       "      <td>10.74974</td>\n",
       "      <td>NaN</td>\n",
       "      <td>...</td>\n",
       "      <td>True</td>\n",
       "      <td>NaN</td>\n",
       "      <td>NaN</td>\n",
       "      <td>2</td>\n",
       "      <td>0</td>\n",
       "      <td>0</td>\n",
       "      <td>3</td>\n",
       "      <td>1</td>\n",
       "      <td>35</td>\n",
       "      <td>2</td>\n",
       "    </tr>\n",
       "    <tr>\n",
       "      <th>1</th>\n",
       "      <td>1970</td>\n",
       "      <td>1970</td>\n",
       "      <td>6</td>\n",
       "      <td>13</td>\n",
       "      <td>NaN</td>\n",
       "      <td>CA</td>\n",
       "      <td>True</td>\n",
       "      <td>1</td>\n",
       "      <td>10.74974</td>\n",
       "      <td>NaN</td>\n",
       "      <td>...</td>\n",
       "      <td>True</td>\n",
       "      <td>NaN</td>\n",
       "      <td>NaN</td>\n",
       "      <td>2</td>\n",
       "      <td>0</td>\n",
       "      <td>0</td>\n",
       "      <td>3</td>\n",
       "      <td>1</td>\n",
       "      <td>32</td>\n",
       "      <td>2</td>\n",
       "    </tr>\n",
       "    <tr>\n",
       "      <th>2</th>\n",
       "      <td>1970</td>\n",
       "      <td>1970</td>\n",
       "      <td>5</td>\n",
       "      <td>21</td>\n",
       "      <td>NaN</td>\n",
       "      <td>MI</td>\n",
       "      <td>True</td>\n",
       "      <td>1</td>\n",
       "      <td>10.74974</td>\n",
       "      <td>NaN</td>\n",
       "      <td>...</td>\n",
       "      <td>True</td>\n",
       "      <td>NaN</td>\n",
       "      <td>NaN</td>\n",
       "      <td>0</td>\n",
       "      <td>0</td>\n",
       "      <td>0</td>\n",
       "      <td>1</td>\n",
       "      <td>1</td>\n",
       "      <td>22</td>\n",
       "      <td>2</td>\n",
       "    </tr>\n",
       "    <tr>\n",
       "      <th>3</th>\n",
       "      <td>1970</td>\n",
       "      <td>1970</td>\n",
       "      <td>8</td>\n",
       "      <td>30</td>\n",
       "      <td>NaN</td>\n",
       "      <td>NJ</td>\n",
       "      <td>True</td>\n",
       "      <td>1</td>\n",
       "      <td>10.74974</td>\n",
       "      <td>NaN</td>\n",
       "      <td>...</td>\n",
       "      <td>True</td>\n",
       "      <td>NaN</td>\n",
       "      <td>NaN</td>\n",
       "      <td>3</td>\n",
       "      <td>55</td>\n",
       "      <td>55</td>\n",
       "      <td>4</td>\n",
       "      <td>1</td>\n",
       "      <td>48</td>\n",
       "      <td>2</td>\n",
       "    </tr>\n",
       "    <tr>\n",
       "      <th>4</th>\n",
       "      <td>1970</td>\n",
       "      <td>1970</td>\n",
       "      <td>1</td>\n",
       "      <td>23</td>\n",
       "      <td>NaN</td>\n",
       "      <td>OH</td>\n",
       "      <td>True</td>\n",
       "      <td>1</td>\n",
       "      <td>10.74974</td>\n",
       "      <td>NaN</td>\n",
       "      <td>...</td>\n",
       "      <td>True</td>\n",
       "      <td>NaN</td>\n",
       "      <td>NaN</td>\n",
       "      <td>1</td>\n",
       "      <td>0</td>\n",
       "      <td>0</td>\n",
       "      <td>2</td>\n",
       "      <td>1</td>\n",
       "      <td>27</td>\n",
       "      <td>2</td>\n",
       "    </tr>\n",
       "  </tbody>\n",
       "</table>\n",
       "<p>5 rows × 31 columns</p>\n",
       "</div>"
      ],
      "text/plain": [
       "   source_year  year  month  day  wday state is_male  child_race  \\\n",
       "0         1969  1969     11   18   NaN    CA    True           1   \n",
       "1         1970  1970      6   13   NaN    CA    True           1   \n",
       "2         1970  1970      5   21   NaN    MI    True           1   \n",
       "3         1970  1970      8   30   NaN    NJ    True           1   \n",
       "4         1970  1970      1   23   NaN    OH    True           1   \n",
       "\n",
       "   weight_pounds  plurality      ...       alcohol_use  drinks_per_week  \\\n",
       "0       10.74974        NaN      ...              True              NaN   \n",
       "1       10.74974        NaN      ...              True              NaN   \n",
       "2       10.74974        NaN      ...              True              NaN   \n",
       "3       10.74974        NaN      ...              True              NaN   \n",
       "4       10.74974        NaN      ...              True              NaN   \n",
       "\n",
       "  weight_gain_pounds  born_alive_alive  born_alive_dead  born_dead ever_born  \\\n",
       "0                NaN                 2                0          0         3   \n",
       "1                NaN                 2                0          0         3   \n",
       "2                NaN                 0                0          0         1   \n",
       "3                NaN                 3               55         55         4   \n",
       "4                NaN                 1                0          0         2   \n",
       "\n",
       "  father_race father_age record_weight  \n",
       "0           1         35             2  \n",
       "1           1         32             2  \n",
       "2           1         22             2  \n",
       "3           1         48             2  \n",
       "4           1         27             2  \n",
       "\n",
       "[5 rows x 31 columns]"
      ]
     },
     "execution_count": 17,
     "metadata": {},
     "output_type": "execute_result"
    }
   ],
   "source": [
    "#a local copy or sample of the data is stored in df.local\n",
    "#if FETCH_BY_DEFAULT is False, local contains only a copy of the first 5 rows (the table's \"head\")\n",
    "df1.local"
   ]
  },
  {
   "cell_type": "markdown",
   "metadata": {},
   "source": [
    "##Basic access to table data"
   ]
  },
  {
   "cell_type": "code",
   "execution_count": 18,
   "metadata": {
    "collapsed": false
   },
   "outputs": [
    {
     "data": {
      "text/html": [
       "<div>\n",
       "<table border=\"1\" class=\"dataframe\">\n",
       "  <thead>\n",
       "    <tr style=\"text-align: right;\">\n",
       "      <th></th>\n",
       "      <th>source_year</th>\n",
       "      <th>year</th>\n",
       "      <th>month</th>\n",
       "      <th>day</th>\n",
       "      <th>wday</th>\n",
       "      <th>state</th>\n",
       "      <th>is_male</th>\n",
       "      <th>child_race</th>\n",
       "      <th>weight_pounds</th>\n",
       "      <th>plurality</th>\n",
       "      <th>...</th>\n",
       "      <th>alcohol_use</th>\n",
       "      <th>drinks_per_week</th>\n",
       "      <th>weight_gain_pounds</th>\n",
       "      <th>born_alive_alive</th>\n",
       "      <th>born_alive_dead</th>\n",
       "      <th>born_dead</th>\n",
       "      <th>ever_born</th>\n",
       "      <th>father_race</th>\n",
       "      <th>father_age</th>\n",
       "      <th>record_weight</th>\n",
       "    </tr>\n",
       "  </thead>\n",
       "  <tbody>\n",
       "    <tr>\n",
       "      <th>0</th>\n",
       "      <td>1969</td>\n",
       "      <td>1969</td>\n",
       "      <td>11</td>\n",
       "      <td>18</td>\n",
       "      <td>NaN</td>\n",
       "      <td>CA</td>\n",
       "      <td>True</td>\n",
       "      <td>1</td>\n",
       "      <td>10.74974</td>\n",
       "      <td>NaN</td>\n",
       "      <td>...</td>\n",
       "      <td>True</td>\n",
       "      <td>NaN</td>\n",
       "      <td>NaN</td>\n",
       "      <td>2</td>\n",
       "      <td>0</td>\n",
       "      <td>0</td>\n",
       "      <td>3</td>\n",
       "      <td>1</td>\n",
       "      <td>35</td>\n",
       "      <td>2</td>\n",
       "    </tr>\n",
       "    <tr>\n",
       "      <th>1</th>\n",
       "      <td>1970</td>\n",
       "      <td>1970</td>\n",
       "      <td>6</td>\n",
       "      <td>13</td>\n",
       "      <td>NaN</td>\n",
       "      <td>CA</td>\n",
       "      <td>True</td>\n",
       "      <td>1</td>\n",
       "      <td>10.74974</td>\n",
       "      <td>NaN</td>\n",
       "      <td>...</td>\n",
       "      <td>True</td>\n",
       "      <td>NaN</td>\n",
       "      <td>NaN</td>\n",
       "      <td>2</td>\n",
       "      <td>0</td>\n",
       "      <td>0</td>\n",
       "      <td>3</td>\n",
       "      <td>1</td>\n",
       "      <td>32</td>\n",
       "      <td>2</td>\n",
       "    </tr>\n",
       "    <tr>\n",
       "      <th>2</th>\n",
       "      <td>1970</td>\n",
       "      <td>1970</td>\n",
       "      <td>5</td>\n",
       "      <td>21</td>\n",
       "      <td>NaN</td>\n",
       "      <td>MI</td>\n",
       "      <td>True</td>\n",
       "      <td>1</td>\n",
       "      <td>10.74974</td>\n",
       "      <td>NaN</td>\n",
       "      <td>...</td>\n",
       "      <td>True</td>\n",
       "      <td>NaN</td>\n",
       "      <td>NaN</td>\n",
       "      <td>0</td>\n",
       "      <td>0</td>\n",
       "      <td>0</td>\n",
       "      <td>1</td>\n",
       "      <td>1</td>\n",
       "      <td>22</td>\n",
       "      <td>2</td>\n",
       "    </tr>\n",
       "    <tr>\n",
       "      <th>3</th>\n",
       "      <td>1970</td>\n",
       "      <td>1970</td>\n",
       "      <td>8</td>\n",
       "      <td>30</td>\n",
       "      <td>NaN</td>\n",
       "      <td>NJ</td>\n",
       "      <td>True</td>\n",
       "      <td>1</td>\n",
       "      <td>10.74974</td>\n",
       "      <td>NaN</td>\n",
       "      <td>...</td>\n",
       "      <td>True</td>\n",
       "      <td>NaN</td>\n",
       "      <td>NaN</td>\n",
       "      <td>3</td>\n",
       "      <td>55</td>\n",
       "      <td>55</td>\n",
       "      <td>4</td>\n",
       "      <td>1</td>\n",
       "      <td>48</td>\n",
       "      <td>2</td>\n",
       "    </tr>\n",
       "    <tr>\n",
       "      <th>4</th>\n",
       "      <td>1970</td>\n",
       "      <td>1970</td>\n",
       "      <td>1</td>\n",
       "      <td>23</td>\n",
       "      <td>NaN</td>\n",
       "      <td>OH</td>\n",
       "      <td>True</td>\n",
       "      <td>1</td>\n",
       "      <td>10.74974</td>\n",
       "      <td>NaN</td>\n",
       "      <td>...</td>\n",
       "      <td>True</td>\n",
       "      <td>NaN</td>\n",
       "      <td>NaN</td>\n",
       "      <td>1</td>\n",
       "      <td>0</td>\n",
       "      <td>0</td>\n",
       "      <td>2</td>\n",
       "      <td>1</td>\n",
       "      <td>27</td>\n",
       "      <td>2</td>\n",
       "    </tr>\n",
       "  </tbody>\n",
       "</table>\n",
       "<p>5 rows × 31 columns</p>\n",
       "</div>"
      ],
      "text/plain": [
       "   source_year  year  month  day  wday state is_male  child_race  \\\n",
       "0         1969  1969     11   18   NaN    CA    True           1   \n",
       "1         1970  1970      6   13   NaN    CA    True           1   \n",
       "2         1970  1970      5   21   NaN    MI    True           1   \n",
       "3         1970  1970      8   30   NaN    NJ    True           1   \n",
       "4         1970  1970      1   23   NaN    OH    True           1   \n",
       "\n",
       "   weight_pounds  plurality      ...       alcohol_use  drinks_per_week  \\\n",
       "0       10.74974        NaN      ...              True              NaN   \n",
       "1       10.74974        NaN      ...              True              NaN   \n",
       "2       10.74974        NaN      ...              True              NaN   \n",
       "3       10.74974        NaN      ...              True              NaN   \n",
       "4       10.74974        NaN      ...              True              NaN   \n",
       "\n",
       "  weight_gain_pounds  born_alive_alive  born_alive_dead  born_dead ever_born  \\\n",
       "0                NaN                 2                0          0         3   \n",
       "1                NaN                 2                0          0         3   \n",
       "2                NaN                 0                0          0         1   \n",
       "3                NaN                 3               55         55         4   \n",
       "4                NaN                 1                0          0         2   \n",
       "\n",
       "  father_race father_age record_weight  \n",
       "0           1         35             2  \n",
       "1           1         32             2  \n",
       "2           1         22             2  \n",
       "3           1         48             2  \n",
       "4           1         27             2  \n",
       "\n",
       "[5 rows x 31 columns]"
      ]
     },
     "execution_count": 18,
     "metadata": {},
     "output_type": "execute_result"
    }
   ],
   "source": [
    "#standard dataframe.head()\n",
    "df1.head()"
   ]
  },
  {
   "cell_type": "code",
   "execution_count": 19,
   "metadata": {
    "collapsed": false
   },
   "outputs": [
    {
     "name": "stdout",
     "output_type": "stream",
     "text": [
      "state (STRING) :   mode-NULLABLE\n",
      "gender (STRING) :   mode-NULLABLE\n",
      "year (INTEGER) :   mode-NULLABLE\n",
      "name (STRING) :   mode-NULLABLE\n",
      "day (INTEGER) :   mode-NULLABLE\n"
     ]
    }
   ],
   "source": [
    "#can also view schema\n",
    "schema=df2.table_schema()"
   ]
  },
  {
   "cell_type": "code",
   "execution_count": 20,
   "metadata": {
    "collapsed": false
   },
   "outputs": [
    {
     "data": {
      "text/plain": [
       "[u'state', u'gender', u'year', u'name', u'day']"
      ]
     },
     "execution_count": 20,
     "metadata": {},
     "output_type": "execute_result"
    }
   ],
   "source": [
    "#get dataframe columns\n",
    "df2.columns"
   ]
  },
  {
   "cell_type": "code",
   "execution_count": 21,
   "metadata": {
    "collapsed": false
   },
   "outputs": [
    {
     "data": {
      "text/plain": [
       "array([u'Loretta', u'Tanya', u'Arlene', ..., u'Kristal', u'Josefina',\n",
       "       u'Rhiannon'], dtype=object)"
      ]
     },
     "execution_count": 21,
     "metadata": {},
     "output_type": "execute_result"
    }
   ],
   "source": [
    "#get specific column values\n",
    "df2['name'].values"
   ]
  },
  {
   "cell_type": "code",
   "execution_count": 22,
   "metadata": {
    "collapsed": false
   },
   "outputs": [
    {
     "data": {
      "text/plain": [
       "array([11,  6,  5,  8,  1,  9,  2, 12,  4,  7, 10,  3])"
      ]
     },
     "execution_count": 22,
     "metadata": {},
     "output_type": "execute_result"
    }
   ],
   "source": [
    "#unique values of month\n",
    "df1['month'].unique()"
   ]
  },
  {
   "cell_type": "code",
   "execution_count": 23,
   "metadata": {
    "collapsed": false
   },
   "outputs": [
    {
     "data": {
      "text/html": [
       "<div>\n",
       "<table border=\"1\" class=\"dataframe\">\n",
       "  <thead>\n",
       "    <tr style=\"text-align: right;\">\n",
       "      <th></th>\n",
       "      <th>month</th>\n",
       "      <th>count</th>\n",
       "    </tr>\n",
       "  </thead>\n",
       "  <tbody>\n",
       "    <tr>\n",
       "      <th>0</th>\n",
       "      <td>8</td>\n",
       "      <td>11055</td>\n",
       "    </tr>\n",
       "    <tr>\n",
       "      <th>1</th>\n",
       "      <td>9</td>\n",
       "      <td>10928</td>\n",
       "    </tr>\n",
       "    <tr>\n",
       "      <th>2</th>\n",
       "      <td>10</td>\n",
       "      <td>10892</td>\n",
       "    </tr>\n",
       "  </tbody>\n",
       "</table>\n",
       "</div>"
      ],
      "text/plain": [
       "   month  count\n",
       "0      8  11055\n",
       "1      9  10928\n",
       "2     10  10892"
      ]
     },
     "execution_count": 23,
     "metadata": {},
     "output_type": "execute_result"
    }
   ],
   "source": [
    "#top most frequently occuring values in column\n",
    "top=df1['month'].topk(3)\n",
    "top.local"
   ]
  },
  {
   "cell_type": "code",
   "execution_count": 24,
   "metadata": {
    "collapsed": false
   },
   "outputs": [
    {
     "data": {
      "text/plain": [
       "(126059, 31)"
      ]
     },
     "execution_count": 24,
     "metadata": {},
     "output_type": "execute_result"
    }
   ],
   "source": [
    "#shape of table\n",
    "df1.size"
   ]
  },
  {
   "cell_type": "code",
   "execution_count": 55,
   "metadata": {
    "collapsed": false
   },
   "outputs": [
    {
     "data": {
      "text/html": [
       "<div>\n",
       "<table border=\"1\" class=\"dataframe\">\n",
       "  <thead>\n",
       "    <tr style=\"text-align: right;\">\n",
       "      <th></th>\n",
       "      <th>alcohol_use</th>\n",
       "      <th>apgar_1min</th>\n",
       "      <th>apgar_5min</th>\n",
       "      <th>born_alive_alive</th>\n",
       "      <th>born_alive_dead</th>\n",
       "      <th>born_dead</th>\n",
       "      <th>child_race</th>\n",
       "      <th>cigarette_use</th>\n",
       "      <th>cigarettes_per_day</th>\n",
       "      <th>day</th>\n",
       "      <th>...</th>\n",
       "      <th>mother_age</th>\n",
       "      <th>mother_birth_state</th>\n",
       "      <th>mother_race</th>\n",
       "      <th>plurality</th>\n",
       "      <th>record_weight</th>\n",
       "      <th>source_year</th>\n",
       "      <th>wday</th>\n",
       "      <th>weight_gain_pounds</th>\n",
       "      <th>weight_pounds</th>\n",
       "      <th>year</th>\n",
       "    </tr>\n",
       "  </thead>\n",
       "  <tbody>\n",
       "    <tr>\n",
       "      <th>count</th>\n",
       "      <td>0</td>\n",
       "      <td>0</td>\n",
       "      <td>0</td>\n",
       "      <td>4997.000000</td>\n",
       "      <td>4994.000000</td>\n",
       "      <td>4993.000000</td>\n",
       "      <td>5000.000000</td>\n",
       "      <td>0</td>\n",
       "      <td>0</td>\n",
       "      <td>5000.000000</td>\n",
       "      <td>...</td>\n",
       "      <td>5000.000000</td>\n",
       "      <td>0</td>\n",
       "      <td>5000.00000</td>\n",
       "      <td>0</td>\n",
       "      <td>5000</td>\n",
       "      <td>5000</td>\n",
       "      <td>0</td>\n",
       "      <td>0</td>\n",
       "      <td>4963.000000</td>\n",
       "      <td>5000</td>\n",
       "    </tr>\n",
       "    <tr>\n",
       "      <th>min</th>\n",
       "      <td>NaN</td>\n",
       "      <td>NaN</td>\n",
       "      <td>NaN</td>\n",
       "      <td>0.000000</td>\n",
       "      <td>0.000000</td>\n",
       "      <td>0.000000</td>\n",
       "      <td>1.000000</td>\n",
       "      <td>NaN</td>\n",
       "      <td>NaN</td>\n",
       "      <td>1.000000</td>\n",
       "      <td>...</td>\n",
       "      <td>13.000000</td>\n",
       "      <td>NaN</td>\n",
       "      <td>1.00000</td>\n",
       "      <td>NaN</td>\n",
       "      <td>2</td>\n",
       "      <td>1969</td>\n",
       "      <td>NaN</td>\n",
       "      <td>NaN</td>\n",
       "      <td>0.687842</td>\n",
       "      <td>1969</td>\n",
       "    </tr>\n",
       "    <tr>\n",
       "      <th>25th percentile</th>\n",
       "      <td>NaN</td>\n",
       "      <td>NaN</td>\n",
       "      <td>NaN</td>\n",
       "      <td>0.000000</td>\n",
       "      <td>0.000000</td>\n",
       "      <td>0.000000</td>\n",
       "      <td>1.000000</td>\n",
       "      <td>NaN</td>\n",
       "      <td>NaN</td>\n",
       "      <td>8.000000</td>\n",
       "      <td>...</td>\n",
       "      <td>20.000000</td>\n",
       "      <td>NaN</td>\n",
       "      <td>1.00000</td>\n",
       "      <td>NaN</td>\n",
       "      <td>2</td>\n",
       "      <td>1969</td>\n",
       "      <td>NaN</td>\n",
       "      <td>NaN</td>\n",
       "      <td>6.437498</td>\n",
       "      <td>1969</td>\n",
       "    </tr>\n",
       "    <tr>\n",
       "      <th>50th percentile</th>\n",
       "      <td>NaN</td>\n",
       "      <td>NaN</td>\n",
       "      <td>NaN</td>\n",
       "      <td>1.000000</td>\n",
       "      <td>0.000000</td>\n",
       "      <td>0.000000</td>\n",
       "      <td>1.000000</td>\n",
       "      <td>NaN</td>\n",
       "      <td>NaN</td>\n",
       "      <td>15.000000</td>\n",
       "      <td>...</td>\n",
       "      <td>23.000000</td>\n",
       "      <td>NaN</td>\n",
       "      <td>1.00000</td>\n",
       "      <td>NaN</td>\n",
       "      <td>2</td>\n",
       "      <td>1969</td>\n",
       "      <td>NaN</td>\n",
       "      <td>NaN</td>\n",
       "      <td>7.187070</td>\n",
       "      <td>1969</td>\n",
       "    </tr>\n",
       "    <tr>\n",
       "      <th>75th percentile</th>\n",
       "      <td>NaN</td>\n",
       "      <td>NaN</td>\n",
       "      <td>NaN</td>\n",
       "      <td>2.000000</td>\n",
       "      <td>0.000000</td>\n",
       "      <td>0.000000</td>\n",
       "      <td>1.000000</td>\n",
       "      <td>NaN</td>\n",
       "      <td>NaN</td>\n",
       "      <td>22.000000</td>\n",
       "      <td>...</td>\n",
       "      <td>27.000000</td>\n",
       "      <td>NaN</td>\n",
       "      <td>1.00000</td>\n",
       "      <td>NaN</td>\n",
       "      <td>2</td>\n",
       "      <td>1969</td>\n",
       "      <td>NaN</td>\n",
       "      <td>NaN</td>\n",
       "      <td>7.874912</td>\n",
       "      <td>1969</td>\n",
       "    </tr>\n",
       "    <tr>\n",
       "      <th>max</th>\n",
       "      <td>NaN</td>\n",
       "      <td>NaN</td>\n",
       "      <td>NaN</td>\n",
       "      <td>77.000000</td>\n",
       "      <td>77.000000</td>\n",
       "      <td>77.000000</td>\n",
       "      <td>9.000000</td>\n",
       "      <td>NaN</td>\n",
       "      <td>NaN</td>\n",
       "      <td>99.000000</td>\n",
       "      <td>...</td>\n",
       "      <td>48.000000</td>\n",
       "      <td>NaN</td>\n",
       "      <td>9.00000</td>\n",
       "      <td>NaN</td>\n",
       "      <td>2</td>\n",
       "      <td>1969</td>\n",
       "      <td>NaN</td>\n",
       "      <td>NaN</td>\n",
       "      <td>13.999354</td>\n",
       "      <td>1969</td>\n",
       "    </tr>\n",
       "    <tr>\n",
       "      <th>mean</th>\n",
       "      <td>NaN</td>\n",
       "      <td>NaN</td>\n",
       "      <td>NaN</td>\n",
       "      <td>1.780668</td>\n",
       "      <td>1.138366</td>\n",
       "      <td>1.258362</td>\n",
       "      <td>1.333200</td>\n",
       "      <td>NaN</td>\n",
       "      <td>NaN</td>\n",
       "      <td>15.615200</td>\n",
       "      <td>...</td>\n",
       "      <td>24.578600</td>\n",
       "      <td>NaN</td>\n",
       "      <td>1.32200</td>\n",
       "      <td>NaN</td>\n",
       "      <td>2</td>\n",
       "      <td>1969</td>\n",
       "      <td>NaN</td>\n",
       "      <td>NaN</td>\n",
       "      <td>7.192860</td>\n",
       "      <td>1969</td>\n",
       "    </tr>\n",
       "    <tr>\n",
       "      <th>std</th>\n",
       "      <td>NaN</td>\n",
       "      <td>NaN</td>\n",
       "      <td>NaN</td>\n",
       "      <td>5.773542</td>\n",
       "      <td>8.320288</td>\n",
       "      <td>8.462383</td>\n",
       "      <td>0.978146</td>\n",
       "      <td>NaN</td>\n",
       "      <td>NaN</td>\n",
       "      <td>8.918847</td>\n",
       "      <td>...</td>\n",
       "      <td>5.693356</td>\n",
       "      <td>NaN</td>\n",
       "      <td>0.96649</td>\n",
       "      <td>NaN</td>\n",
       "      <td>0</td>\n",
       "      <td>0</td>\n",
       "      <td>NaN</td>\n",
       "      <td>NaN</td>\n",
       "      <td>1.301148</td>\n",
       "      <td>0</td>\n",
       "    </tr>\n",
       "    <tr>\n",
       "      <th>mode</th>\n",
       "      <td>NaN</td>\n",
       "      <td>NaN</td>\n",
       "      <td>NaN</td>\n",
       "      <td>0.000000</td>\n",
       "      <td>0.000000</td>\n",
       "      <td>0.000000</td>\n",
       "      <td>1.000000</td>\n",
       "      <td>NaN</td>\n",
       "      <td>NaN</td>\n",
       "      <td>15.000000</td>\n",
       "      <td>...</td>\n",
       "      <td>21.000000</td>\n",
       "      <td>NaN</td>\n",
       "      <td>1.00000</td>\n",
       "      <td>NaN</td>\n",
       "      <td>2</td>\n",
       "      <td>1969</td>\n",
       "      <td>NaN</td>\n",
       "      <td>NaN</td>\n",
       "      <td>6.999677</td>\n",
       "      <td>1969</td>\n",
       "    </tr>\n",
       "  </tbody>\n",
       "</table>\n",
       "<p>9 rows × 26 columns</p>\n",
       "</div>"
      ],
      "text/plain": [
       "                 alcohol_use  apgar_1min  apgar_5min  born_alive_alive  \\\n",
       "count                      0           0           0       4997.000000   \n",
       "min                      NaN         NaN         NaN          0.000000   \n",
       "25th percentile          NaN         NaN         NaN          0.000000   \n",
       "50th percentile          NaN         NaN         NaN          1.000000   \n",
       "75th percentile          NaN         NaN         NaN          2.000000   \n",
       "max                      NaN         NaN         NaN         77.000000   \n",
       "mean                     NaN         NaN         NaN          1.780668   \n",
       "std                      NaN         NaN         NaN          5.773542   \n",
       "mode                     NaN         NaN         NaN          0.000000   \n",
       "\n",
       "                 born_alive_dead    born_dead   child_race  cigarette_use  \\\n",
       "count                4994.000000  4993.000000  5000.000000              0   \n",
       "min                     0.000000     0.000000     1.000000            NaN   \n",
       "25th percentile         0.000000     0.000000     1.000000            NaN   \n",
       "50th percentile         0.000000     0.000000     1.000000            NaN   \n",
       "75th percentile         0.000000     0.000000     1.000000            NaN   \n",
       "max                    77.000000    77.000000     9.000000            NaN   \n",
       "mean                    1.138366     1.258362     1.333200            NaN   \n",
       "std                     8.320288     8.462383     0.978146            NaN   \n",
       "mode                    0.000000     0.000000     1.000000            NaN   \n",
       "\n",
       "                 cigarettes_per_day          day  ...    mother_age  \\\n",
       "count                             0  5000.000000  ...   5000.000000   \n",
       "min                             NaN     1.000000  ...     13.000000   \n",
       "25th percentile                 NaN     8.000000  ...     20.000000   \n",
       "50th percentile                 NaN    15.000000  ...     23.000000   \n",
       "75th percentile                 NaN    22.000000  ...     27.000000   \n",
       "max                             NaN    99.000000  ...     48.000000   \n",
       "mean                            NaN    15.615200  ...     24.578600   \n",
       "std                             NaN     8.918847  ...      5.693356   \n",
       "mode                            NaN    15.000000  ...     21.000000   \n",
       "\n",
       "                 mother_birth_state  mother_race  plurality  record_weight  \\\n",
       "count                             0   5000.00000          0           5000   \n",
       "min                             NaN      1.00000        NaN              2   \n",
       "25th percentile                 NaN      1.00000        NaN              2   \n",
       "50th percentile                 NaN      1.00000        NaN              2   \n",
       "75th percentile                 NaN      1.00000        NaN              2   \n",
       "max                             NaN      9.00000        NaN              2   \n",
       "mean                            NaN      1.32200        NaN              2   \n",
       "std                             NaN      0.96649        NaN              0   \n",
       "mode                            NaN      1.00000        NaN              2   \n",
       "\n",
       "                 source_year  wday  weight_gain_pounds  weight_pounds  year  \n",
       "count                   5000     0                   0    4963.000000  5000  \n",
       "min                     1969   NaN                 NaN       0.687842  1969  \n",
       "25th percentile         1969   NaN                 NaN       6.437498  1969  \n",
       "50th percentile         1969   NaN                 NaN       7.187070  1969  \n",
       "75th percentile         1969   NaN                 NaN       7.874912  1969  \n",
       "max                     1969   NaN                 NaN      13.999354  1969  \n",
       "mean                    1969   NaN                 NaN       7.192860  1969  \n",
       "std                        0   NaN                 NaN       1.301148     0  \n",
       "mode                    1969   NaN                 NaN       6.999677  1969  \n",
       "\n",
       "[9 rows x 26 columns]"
      ]
     },
     "execution_count": 55,
     "metadata": {},
     "output_type": "execute_result"
    }
   ],
   "source": [
    "df1.describe()"
   ]
  },
  {
   "cell_type": "markdown",
   "metadata": {},
   "source": [
    "## Basic summary operations over columns"
   ]
  },
  {
   "cell_type": "code",
   "execution_count": 22,
   "metadata": {
    "collapsed": false
   },
   "outputs": [
    {
     "data": {
      "text/plain": [
       "8.1174901048650057"
      ]
     },
     "execution_count": 22,
     "metadata": {},
     "output_type": "execute_result"
    }
   ],
   "source": [
    "df1['weight_pounds'].mean()"
   ]
  },
  {
   "cell_type": "code",
   "execution_count": 23,
   "metadata": {
    "collapsed": false
   },
   "outputs": [
    {
     "data": {
      "text/plain": [
       "1.2628743825952706"
      ]
     },
     "execution_count": 23,
     "metadata": {},
     "output_type": "execute_result"
    }
   ],
   "source": [
    "df1['weight_pounds'].std()"
   ]
  },
  {
   "cell_type": "code",
   "execution_count": 24,
   "metadata": {
    "collapsed": false
   },
   "outputs": [
    {
     "data": {
      "text/plain": [
       "0.00097173454719847395"
      ]
     },
     "execution_count": 24,
     "metadata": {},
     "output_type": "execute_result"
    }
   ],
   "source": [
    "df1['weight_pounds'].sem()"
   ]
  },
  {
   "cell_type": "code",
   "execution_count": 25,
   "metadata": {
    "collapsed": false
   },
   "outputs": [
    {
     "data": {
      "text/plain": [
       "17.074802191899998"
      ]
     },
     "execution_count": 25,
     "metadata": {},
     "output_type": "execute_result"
    }
   ],
   "source": [
    "df1['weight_pounds'].max()"
   ]
  },
  {
   "cell_type": "code",
   "execution_count": 26,
   "metadata": {
    "collapsed": false
   },
   "outputs": [
    {
     "data": {
      "text/plain": [
       "0.60847584312000003"
      ]
     },
     "execution_count": 26,
     "metadata": {},
     "output_type": "execute_result"
    }
   ],
   "source": [
    "df1['weight_pounds'].min()"
   ]
  },
  {
   "cell_type": "code",
   "execution_count": 27,
   "metadata": {
    "collapsed": false
   },
   "outputs": [
    {
     "data": {
      "text/plain": [
       "13710294.672295108"
      ]
     },
     "execution_count": 27,
     "metadata": {},
     "output_type": "execute_result"
    }
   ],
   "source": [
    "df1['weight_pounds'].sum()"
   ]
  },
  {
   "cell_type": "code",
   "execution_count": 28,
   "metadata": {
    "collapsed": false
   },
   "outputs": [
    {
     "data": {
      "text/plain": [
       "8"
      ]
     },
     "execution_count": 28,
     "metadata": {},
     "output_type": "execute_result"
    }
   ],
   "source": [
    "df1['month'].mode()"
   ]
  },
  {
   "cell_type": "markdown",
   "metadata": {},
   "source": [
    "## Row-based operations"
   ]
  },
  {
   "cell_type": "code",
   "execution_count": 29,
   "metadata": {
    "collapsed": false
   },
   "outputs": [
    {
     "data": {
      "text/html": [
       "<div>\n",
       "<table border=\"1\" class=\"dataframe\">\n",
       "  <thead>\n",
       "    <tr style=\"text-align: right;\">\n",
       "      <th></th>\n",
       "      <th>zscore</th>\n",
       "    </tr>\n",
       "  </thead>\n",
       "  <tbody>\n",
       "    <tr>\n",
       "      <th>0</th>\n",
       "      <td>0.748858</td>\n",
       "    </tr>\n",
       "    <tr>\n",
       "      <th>1</th>\n",
       "      <td>0.748858</td>\n",
       "    </tr>\n",
       "    <tr>\n",
       "      <th>2</th>\n",
       "      <td>2.134958</td>\n",
       "    </tr>\n",
       "    <tr>\n",
       "      <th>3</th>\n",
       "      <td>0.748858</td>\n",
       "    </tr>\n",
       "    <tr>\n",
       "      <th>4</th>\n",
       "      <td>0.748858</td>\n",
       "    </tr>\n",
       "  </tbody>\n",
       "</table>\n",
       "</div>"
      ],
      "text/plain": [
       "     zscore\n",
       "0  0.748858\n",
       "1  0.748858\n",
       "2  2.134958\n",
       "3  0.748858\n",
       "4  0.748858"
      ]
     },
     "execution_count": 29,
     "metadata": {},
     "output_type": "execute_result"
    }
   ],
   "source": [
    "zscored=df1['weight_pounds'].zscore()\n",
    "zscored.local"
   ]
  },
  {
   "cell_type": "code",
   "execution_count": 30,
   "metadata": {
    "collapsed": false
   },
   "outputs": [
    {
     "data": {
      "text/html": [
       "<div>\n",
       "<table border=\"1\" class=\"dataframe\">\n",
       "  <thead>\n",
       "    <tr style=\"text-align: right;\">\n",
       "      <th></th>\n",
       "      <th>sqrt</th>\n",
       "    </tr>\n",
       "  </thead>\n",
       "  <tbody>\n",
       "    <tr>\n",
       "      <th>0</th>\n",
       "      <td>3.010516</td>\n",
       "    </tr>\n",
       "    <tr>\n",
       "      <th>1</th>\n",
       "      <td>3.010516</td>\n",
       "    </tr>\n",
       "    <tr>\n",
       "      <th>2</th>\n",
       "      <td>3.288415</td>\n",
       "    </tr>\n",
       "    <tr>\n",
       "      <th>3</th>\n",
       "      <td>3.010516</td>\n",
       "    </tr>\n",
       "    <tr>\n",
       "      <th>4</th>\n",
       "      <td>3.010516</td>\n",
       "    </tr>\n",
       "  </tbody>\n",
       "</table>\n",
       "</div>"
      ],
      "text/plain": [
       "       sqrt\n",
       "0  3.010516\n",
       "1  3.010516\n",
       "2  3.288415\n",
       "3  3.010516\n",
       "4  3.010516"
      ]
     },
     "execution_count": 30,
     "metadata": {},
     "output_type": "execute_result"
    }
   ],
   "source": [
    "sqrt=df1['weight_pounds'].sqrt()\n",
    "sqrt.local"
   ]
  },
  {
   "cell_type": "code",
   "execution_count": 31,
   "metadata": {
    "collapsed": false
   },
   "outputs": [
    {
     "data": {
      "text/html": [
       "<div>\n",
       "<table border=\"1\" class=\"dataframe\">\n",
       "  <thead>\n",
       "    <tr style=\"text-align: right;\">\n",
       "      <th></th>\n",
       "      <th>log</th>\n",
       "    </tr>\n",
       "  </thead>\n",
       "  <tbody>\n",
       "    <tr>\n",
       "      <th>0</th>\n",
       "      <td>2.204223</td>\n",
       "    </tr>\n",
       "    <tr>\n",
       "      <th>1</th>\n",
       "      <td>2.204223</td>\n",
       "    </tr>\n",
       "    <tr>\n",
       "      <th>2</th>\n",
       "      <td>2.380811</td>\n",
       "    </tr>\n",
       "    <tr>\n",
       "      <th>3</th>\n",
       "      <td>2.204223</td>\n",
       "    </tr>\n",
       "    <tr>\n",
       "      <th>4</th>\n",
       "      <td>2.204223</td>\n",
       "    </tr>\n",
       "  </tbody>\n",
       "</table>\n",
       "</div>"
      ],
      "text/plain": [
       "        log\n",
       "0  2.204223\n",
       "1  2.204223\n",
       "2  2.380811\n",
       "3  2.204223\n",
       "4  2.204223"
      ]
     },
     "execution_count": 31,
     "metadata": {},
     "output_type": "execute_result"
    }
   ],
   "source": [
    "log = df1['weight_pounds'].log()\n",
    "log.local"
   ]
  },
  {
   "cell_type": "code",
   "execution_count": 32,
   "metadata": {
    "collapsed": false
   },
   "outputs": [
    {
     "data": {
      "text/html": [
       "<div>\n",
       "<table border=\"1\" class=\"dataframe\">\n",
       "  <thead>\n",
       "    <tr style=\"text-align: right;\">\n",
       "      <th></th>\n",
       "      <th>round</th>\n",
       "    </tr>\n",
       "  </thead>\n",
       "  <tbody>\n",
       "    <tr>\n",
       "      <th>0</th>\n",
       "      <td>9.06</td>\n",
       "    </tr>\n",
       "    <tr>\n",
       "      <th>1</th>\n",
       "      <td>9.06</td>\n",
       "    </tr>\n",
       "    <tr>\n",
       "      <th>2</th>\n",
       "      <td>9.06</td>\n",
       "    </tr>\n",
       "    <tr>\n",
       "      <th>3</th>\n",
       "      <td>9.06</td>\n",
       "    </tr>\n",
       "    <tr>\n",
       "      <th>4</th>\n",
       "      <td>9.06</td>\n",
       "    </tr>\n",
       "  </tbody>\n",
       "</table>\n",
       "</div>"
      ],
      "text/plain": [
       "   round\n",
       "0   9.06\n",
       "1   9.06\n",
       "2   9.06\n",
       "3   9.06\n",
       "4   9.06"
      ]
     },
     "execution_count": 32,
     "metadata": {},
     "output_type": "execute_result"
    }
   ],
   "source": [
    "rounded = df1['weight_pounds'].round(dig=2)\n",
    "rounded.local"
   ]
  },
  {
   "cell_type": "markdown",
   "metadata": {},
   "source": [
    "## Manipulating table data"
   ]
  },
  {
   "cell_type": "code",
   "execution_count": 33,
   "metadata": {
    "collapsed": false
   },
   "outputs": [],
   "source": [
    "df2.add_index(inplace=True)"
   ]
  },
  {
   "cell_type": "code",
   "execution_count": 34,
   "metadata": {
    "collapsed": false
   },
   "outputs": [
    {
     "data": {
      "text/html": [
       "<div>\n",
       "<table border=\"1\" class=\"dataframe\">\n",
       "  <thead>\n",
       "    <tr style=\"text-align: right;\">\n",
       "      <th></th>\n",
       "      <th>index</th>\n",
       "      <th>state</th>\n",
       "      <th>gender</th>\n",
       "      <th>year</th>\n",
       "      <th>name</th>\n",
       "      <th>day</th>\n",
       "    </tr>\n",
       "  </thead>\n",
       "  <tbody>\n",
       "    <tr>\n",
       "      <th>0</th>\n",
       "      <td>1</td>\n",
       "      <td>ID</td>\n",
       "      <td>F</td>\n",
       "      <td>1946</td>\n",
       "      <td>Loretta</td>\n",
       "      <td>10</td>\n",
       "    </tr>\n",
       "    <tr>\n",
       "      <th>1</th>\n",
       "      <td>2</td>\n",
       "      <td>ID</td>\n",
       "      <td>F</td>\n",
       "      <td>1946</td>\n",
       "      <td>Tanya</td>\n",
       "      <td>8</td>\n",
       "    </tr>\n",
       "    <tr>\n",
       "      <th>2</th>\n",
       "      <td>3</td>\n",
       "      <td>ID</td>\n",
       "      <td>F</td>\n",
       "      <td>1946</td>\n",
       "      <td>Arlene</td>\n",
       "      <td>7</td>\n",
       "    </tr>\n",
       "    <tr>\n",
       "      <th>3</th>\n",
       "      <td>4</td>\n",
       "      <td>ID</td>\n",
       "      <td>F</td>\n",
       "      <td>1946</td>\n",
       "      <td>Harriet</td>\n",
       "      <td>5</td>\n",
       "    </tr>\n",
       "    <tr>\n",
       "      <th>4</th>\n",
       "      <td>5</td>\n",
       "      <td>ID</td>\n",
       "      <td>F</td>\n",
       "      <td>1947</td>\n",
       "      <td>Susan</td>\n",
       "      <td>142</td>\n",
       "    </tr>\n",
       "  </tbody>\n",
       "</table>\n",
       "</div>"
      ],
      "text/plain": [
       "   index state gender  year     name  day\n",
       "0      1    ID      F  1946  Loretta   10\n",
       "1      2    ID      F  1946    Tanya    8\n",
       "2      3    ID      F  1946   Arlene    7\n",
       "3      4    ID      F  1946  Harriet    5\n",
       "4      5    ID      F  1947    Susan  142"
      ]
     },
     "execution_count": 34,
     "metadata": {},
     "output_type": "execute_result"
    }
   ],
   "source": [
    "df2.head()"
   ]
  },
  {
   "cell_type": "code",
   "execution_count": 35,
   "metadata": {
    "collapsed": true
   },
   "outputs": [],
   "source": [
    "del df2['index']"
   ]
  },
  {
   "cell_type": "code",
   "execution_count": 36,
   "metadata": {
    "collapsed": false
   },
   "outputs": [
    {
     "data": {
      "text/html": [
       "<div>\n",
       "<table border=\"1\" class=\"dataframe\">\n",
       "  <thead>\n",
       "    <tr style=\"text-align: right;\">\n",
       "      <th></th>\n",
       "      <th>state</th>\n",
       "      <th>gender</th>\n",
       "      <th>year</th>\n",
       "      <th>name</th>\n",
       "      <th>day</th>\n",
       "    </tr>\n",
       "  </thead>\n",
       "  <tbody>\n",
       "    <tr>\n",
       "      <th>0</th>\n",
       "      <td>ID</td>\n",
       "      <td>F</td>\n",
       "      <td>1946</td>\n",
       "      <td>Loretta</td>\n",
       "      <td>10</td>\n",
       "    </tr>\n",
       "    <tr>\n",
       "      <th>1</th>\n",
       "      <td>ID</td>\n",
       "      <td>F</td>\n",
       "      <td>1946</td>\n",
       "      <td>Tanya</td>\n",
       "      <td>8</td>\n",
       "    </tr>\n",
       "    <tr>\n",
       "      <th>2</th>\n",
       "      <td>ID</td>\n",
       "      <td>F</td>\n",
       "      <td>1946</td>\n",
       "      <td>Arlene</td>\n",
       "      <td>7</td>\n",
       "    </tr>\n",
       "    <tr>\n",
       "      <th>3</th>\n",
       "      <td>ID</td>\n",
       "      <td>F</td>\n",
       "      <td>1946</td>\n",
       "      <td>Harriet</td>\n",
       "      <td>5</td>\n",
       "    </tr>\n",
       "    <tr>\n",
       "      <th>4</th>\n",
       "      <td>ID</td>\n",
       "      <td>F</td>\n",
       "      <td>1947</td>\n",
       "      <td>Susan</td>\n",
       "      <td>142</td>\n",
       "    </tr>\n",
       "  </tbody>\n",
       "</table>\n",
       "</div>"
      ],
      "text/plain": [
       "  state gender  year     name  day\n",
       "0    ID      F  1946  Loretta   10\n",
       "1    ID      F  1946    Tanya    8\n",
       "2    ID      F  1946   Arlene    7\n",
       "3    ID      F  1946  Harriet    5\n",
       "4    ID      F  1947    Susan  142"
      ]
     },
     "execution_count": 36,
     "metadata": {},
     "output_type": "execute_result"
    }
   ],
   "source": [
    "df2.head()"
   ]
  },
  {
   "cell_type": "code",
   "execution_count": 37,
   "metadata": {
    "collapsed": false
   },
   "outputs": [],
   "source": [
    "#return table with subset of columns\n",
    "limited=df1[['day', 'year', 'state', 'is_male']]"
   ]
  },
  {
   "cell_type": "code",
   "execution_count": 38,
   "metadata": {
    "collapsed": false
   },
   "outputs": [
    {
     "data": {
      "text/plain": [
       "126059"
      ]
     },
     "execution_count": 38,
     "metadata": {},
     "output_type": "execute_result"
    }
   ],
   "source": [
    "#NOTE: this will inherit fetch status of the source (e.g. since df1.fetched=False, limited is not fetched locally)\n",
    "len(limited.local)"
   ]
  },
  {
   "cell_type": "code",
   "execution_count": 39,
   "metadata": {
    "collapsed": false
   },
   "outputs": [],
   "source": [
    "#but we can explicitly fetch the data\n",
    "limited.fetch()"
   ]
  },
  {
   "cell_type": "code",
   "execution_count": 40,
   "metadata": {
    "collapsed": false
   },
   "outputs": [
    {
     "data": {
      "text/plain": [
       "126059"
      ]
     },
     "execution_count": 40,
     "metadata": {},
     "output_type": "execute_result"
    }
   ],
   "source": [
    "len(limited.local)"
   ]
  },
  {
   "cell_type": "code",
   "execution_count": 77,
   "metadata": {
    "collapsed": false
   },
   "outputs": [
    {
     "data": {
      "text/html": [
       "<div>\n",
       "<table border=\"1\" class=\"dataframe\">\n",
       "  <thead>\n",
       "    <tr style=\"text-align: right;\">\n",
       "      <th></th>\n",
       "      <th>source_year</th>\n",
       "      <th>year</th>\n",
       "      <th>month</th>\n",
       "      <th>day</th>\n",
       "      <th>wday</th>\n",
       "      <th>state</th>\n",
       "      <th>is_male</th>\n",
       "      <th>child_race</th>\n",
       "      <th>weight_pounds</th>\n",
       "      <th>plurality</th>\n",
       "      <th>...</th>\n",
       "      <th>alcohol_use</th>\n",
       "      <th>drinks_per_week</th>\n",
       "      <th>weight_gain_pounds</th>\n",
       "      <th>born_alive_alive</th>\n",
       "      <th>born_alive_dead</th>\n",
       "      <th>born_dead</th>\n",
       "      <th>ever_born</th>\n",
       "      <th>father_race</th>\n",
       "      <th>father_age</th>\n",
       "      <th>record_weight</th>\n",
       "    </tr>\n",
       "  </thead>\n",
       "  <tbody>\n",
       "    <tr>\n",
       "      <th>0</th>\n",
       "      <td>1969</td>\n",
       "      <td>1969</td>\n",
       "      <td>5</td>\n",
       "      <td>26</td>\n",
       "      <td>NaN</td>\n",
       "      <td>AR</td>\n",
       "      <td>True</td>\n",
       "      <td>1</td>\n",
       "      <td>10.74974</td>\n",
       "      <td>NaN</td>\n",
       "      <td>...</td>\n",
       "      <td>True</td>\n",
       "      <td>NaN</td>\n",
       "      <td>NaN</td>\n",
       "      <td>1</td>\n",
       "      <td>0</td>\n",
       "      <td>0</td>\n",
       "      <td>2</td>\n",
       "      <td>1</td>\n",
       "      <td>26</td>\n",
       "      <td>2</td>\n",
       "    </tr>\n",
       "    <tr>\n",
       "      <th>1</th>\n",
       "      <td>1969</td>\n",
       "      <td>1969</td>\n",
       "      <td>5</td>\n",
       "      <td>5</td>\n",
       "      <td>NaN</td>\n",
       "      <td>MI</td>\n",
       "      <td>True</td>\n",
       "      <td>1</td>\n",
       "      <td>10.74974</td>\n",
       "      <td>NaN</td>\n",
       "      <td>...</td>\n",
       "      <td>True</td>\n",
       "      <td>NaN</td>\n",
       "      <td>NaN</td>\n",
       "      <td>6</td>\n",
       "      <td>0</td>\n",
       "      <td>0</td>\n",
       "      <td>7</td>\n",
       "      <td>1</td>\n",
       "      <td>31</td>\n",
       "      <td>2</td>\n",
       "    </tr>\n",
       "    <tr>\n",
       "      <th>2</th>\n",
       "      <td>1969</td>\n",
       "      <td>1969</td>\n",
       "      <td>1</td>\n",
       "      <td>2</td>\n",
       "      <td>NaN</td>\n",
       "      <td>MS</td>\n",
       "      <td>True</td>\n",
       "      <td>1</td>\n",
       "      <td>10.74974</td>\n",
       "      <td>NaN</td>\n",
       "      <td>...</td>\n",
       "      <td>True</td>\n",
       "      <td>NaN</td>\n",
       "      <td>NaN</td>\n",
       "      <td>0</td>\n",
       "      <td>0</td>\n",
       "      <td>0</td>\n",
       "      <td>1</td>\n",
       "      <td>1</td>\n",
       "      <td>21</td>\n",
       "      <td>2</td>\n",
       "    </tr>\n",
       "    <tr>\n",
       "      <th>3</th>\n",
       "      <td>1969</td>\n",
       "      <td>1969</td>\n",
       "      <td>2</td>\n",
       "      <td>5</td>\n",
       "      <td>NaN</td>\n",
       "      <td>NJ</td>\n",
       "      <td>True</td>\n",
       "      <td>1</td>\n",
       "      <td>10.74974</td>\n",
       "      <td>NaN</td>\n",
       "      <td>...</td>\n",
       "      <td>True</td>\n",
       "      <td>NaN</td>\n",
       "      <td>NaN</td>\n",
       "      <td>1</td>\n",
       "      <td>0</td>\n",
       "      <td>0</td>\n",
       "      <td>2</td>\n",
       "      <td>1</td>\n",
       "      <td>27</td>\n",
       "      <td>2</td>\n",
       "    </tr>\n",
       "    <tr>\n",
       "      <th>4</th>\n",
       "      <td>1969</td>\n",
       "      <td>1969</td>\n",
       "      <td>4</td>\n",
       "      <td>2</td>\n",
       "      <td>NaN</td>\n",
       "      <td>ND</td>\n",
       "      <td>True</td>\n",
       "      <td>1</td>\n",
       "      <td>10.74974</td>\n",
       "      <td>NaN</td>\n",
       "      <td>...</td>\n",
       "      <td>True</td>\n",
       "      <td>NaN</td>\n",
       "      <td>NaN</td>\n",
       "      <td>5</td>\n",
       "      <td>0</td>\n",
       "      <td>0</td>\n",
       "      <td>6</td>\n",
       "      <td>1</td>\n",
       "      <td>38</td>\n",
       "      <td>2</td>\n",
       "    </tr>\n",
       "  </tbody>\n",
       "</table>\n",
       "<p>5 rows × 31 columns</p>\n",
       "</div>"
      ],
      "text/plain": [
       "   source_year  year  month  day  wday state is_male  child_race  \\\n",
       "0         1969  1969      5   26   NaN    AR    True           1   \n",
       "1         1969  1969      5    5   NaN    MI    True           1   \n",
       "2         1969  1969      1    2   NaN    MS    True           1   \n",
       "3         1969  1969      2    5   NaN    NJ    True           1   \n",
       "4         1969  1969      4    2   NaN    ND    True           1   \n",
       "\n",
       "   weight_pounds  plurality      ...       alcohol_use  drinks_per_week  \\\n",
       "0       10.74974        NaN      ...              True              NaN   \n",
       "1       10.74974        NaN      ...              True              NaN   \n",
       "2       10.74974        NaN      ...              True              NaN   \n",
       "3       10.74974        NaN      ...              True              NaN   \n",
       "4       10.74974        NaN      ...              True              NaN   \n",
       "\n",
       "  weight_gain_pounds  born_alive_alive  born_alive_dead  born_dead ever_born  \\\n",
       "0                NaN                 1                0          0         2   \n",
       "1                NaN                 6                0          0         7   \n",
       "2                NaN                 0                0          0         1   \n",
       "3                NaN                 1                0          0         2   \n",
       "4                NaN                 5                0          0         6   \n",
       "\n",
       "  father_race father_age record_weight  \n",
       "0           1         26             2  \n",
       "1           1         31             2  \n",
       "2           1         21             2  \n",
       "3           1         27             2  \n",
       "4           1         38             2  \n",
       "\n",
       "[5 rows x 31 columns]"
      ]
     },
     "execution_count": 77,
     "metadata": {},
     "output_type": "execute_result"
    }
   ],
   "source": [
    "df1.head()"
   ]
  },
  {
   "cell_type": "code",
   "execution_count": 78,
   "metadata": {
    "collapsed": false
   },
   "outputs": [
    {
     "name": "stdout",
     "output_type": "stream",
     "text": [
      "SELECT source_year, year, month, day, wday, state, is_male, child_race, weight_pounds, plurality, apgar_1min, apgar_5min, mother_residence_state, mother_race, mother_age, gestation_weeks, lmp, mother_married, mother_birth_state, cigarette_use, cigarettes_per_day, alcohol_use, drinks_per_week, weight_gain_pounds, born_alive_alive, born_alive_dead, born_dead, ever_born, father_race, father_age, record_weight, test1 FROM (SELECT ROW_NUMBER() OVER() as index, * FROM lomulation:temp.natality_newcol_8550) as tb1 JOIN(SELECT ROW_NUMBER() OVER() as index, * from [lomulation:temp.natality]) tb2 on tb1.index==tb2.index\n",
      "2015-08-09 21:47:18.510000\n",
      "Waiting on bqjob_rb02380a2aed3184_0000014f15ba1985_51 ... (3s) Current status: DONE   \n"
     ]
    }
   ],
   "source": [
    "#add column with a specific value (could be useful for adding an intercept)\n",
    "t=df1.add_col('test1', 100, inplace=False)"
   ]
  },
  {
   "cell_type": "code",
   "execution_count": null,
   "metadata": {
    "collapsed": false
   },
   "outputs": [],
   "source": [
    "#add column with local list/array (of course must be able to fit single column in local RAM)\n",
    "df1.add_col('test2', [np.random.randint(1000) for i in range(len(df1))])"
   ]
  },
  {
   "cell_type": "code",
   "execution_count": null,
   "metadata": {
    "collapsed": true
   },
   "outputs": [],
   "source": [
    "#add column with remote column of equal length (often transformation of another column in df)\n",
    "df1.add_col('normalized_weight', df1['weight_pounds'].zscore())"
   ]
  },
  {
   "cell_type": "code",
   "execution_count": null,
   "metadata": {
    "collapsed": false
   },
   "outputs": [],
   "source": [
    "df1[['test1', 'test2', 'normalized_weight', 'weight_pounds']].head()"
   ]
  },
  {
   "cell_type": "code",
   "execution_count": 82,
   "metadata": {
    "collapsed": false
   },
   "outputs": [
    {
     "name": "stderr",
     "output_type": "stream",
     "text": [
      "/users/amyskerry/documents/projects/pybq/bqdf.py:148: UserWarning: failed to write new slice to bigquery\n",
      "  warnings.warn('failed to write new slice to bigquery')\n"
     ]
    }
   ],
   "source": [
    "mini=limited.slice(2,120)"
   ]
  },
  {
   "cell_type": "code",
   "execution_count": 83,
   "metadata": {
    "collapsed": false
   },
   "outputs": [
    {
     "data": {
      "text/html": [
       "<div>\n",
       "<table border=\"1\" class=\"dataframe\">\n",
       "  <thead>\n",
       "    <tr style=\"text-align: right;\">\n",
       "      <th></th>\n",
       "      <th>day</th>\n",
       "      <th>year</th>\n",
       "      <th>state</th>\n",
       "      <th>is_male</th>\n",
       "    </tr>\n",
       "  </thead>\n",
       "  <tbody>\n",
       "    <tr>\n",
       "      <th>0</th>\n",
       "      <td>24</td>\n",
       "      <td>1978</td>\n",
       "      <td>VA</td>\n",
       "      <td>True</td>\n",
       "    </tr>\n",
       "    <tr>\n",
       "      <th>1</th>\n",
       "      <td>9</td>\n",
       "      <td>1976</td>\n",
       "      <td>NE</td>\n",
       "      <td>True</td>\n",
       "    </tr>\n",
       "    <tr>\n",
       "      <th>2</th>\n",
       "      <td>20</td>\n",
       "      <td>1976</td>\n",
       "      <td>TX</td>\n",
       "      <td>True</td>\n",
       "    </tr>\n",
       "    <tr>\n",
       "      <th>3</th>\n",
       "      <td>5</td>\n",
       "      <td>1982</td>\n",
       "      <td>MD</td>\n",
       "      <td>True</td>\n",
       "    </tr>\n",
       "    <tr>\n",
       "      <th>4</th>\n",
       "      <td>7</td>\n",
       "      <td>1971</td>\n",
       "      <td>MO</td>\n",
       "      <td>True</td>\n",
       "    </tr>\n",
       "  </tbody>\n",
       "</table>\n",
       "</div>"
      ],
      "text/plain": [
       "   day  year state is_male\n",
       "0   24  1978    VA    True\n",
       "1    9  1976    NE    True\n",
       "2   20  1976    TX    True\n",
       "3    5  1982    MD    True\n",
       "4    7  1971    MO    True"
      ]
     },
     "execution_count": 83,
     "metadata": {},
     "output_type": "execute_result"
    }
   ],
   "source": [
    "mini.fetch()\n",
    "mini.head()"
   ]
  },
  {
   "cell_type": "code",
   "execution_count": 84,
   "metadata": {
    "collapsed": false
   },
   "outputs": [
    {
     "name": "stderr",
     "output_type": "stream",
     "text": [
      "/users/amyskerry/documents/projects/pybq/bqdf.py:219: UserWarning: remote writing of UDF apply function failed\n",
      "  warnings.warn('remote writing of UDF apply function failed')\n"
     ]
    }
   ],
   "source": [
    "def get_gender(x):\n",
    "    if x:\n",
    "        return 'Male'\n",
    "    else:\n",
    "        return 'Female'\n",
    "newmini=mini['is_male'].apply(get_gender)"
   ]
  },
  {
   "cell_type": "code",
   "execution_count": null,
   "metadata": {
    "collapsed": true
   },
   "outputs": [],
   "source": [
    "mini.replace('is_male', mini['is_male'].apply(get_gender))"
   ]
  },
  {
   "cell_type": "markdown",
   "metadata": {},
   "source": [
    "## Operations on pairs of columns"
   ]
  },
  {
   "cell_type": "code",
   "execution_count": 113,
   "metadata": {
    "collapsed": false
   },
   "outputs": [
    {
     "data": {
      "text/plain": [
       "234266.48007965862"
      ]
     },
     "execution_count": 113,
     "metadata": {},
     "output_type": "execute_result"
    }
   ],
   "source": [
    "df1.dot('month', 'weight_pounds')"
   ]
  },
  {
   "cell_type": "code",
   "execution_count": 115,
   "metadata": {
    "collapsed": false
   },
   "outputs": [
    {
     "data": {
      "text/plain": [
       "0.85775406307842916"
      ]
     },
     "execution_count": 115,
     "metadata": {},
     "output_type": "execute_result"
    }
   ],
   "source": [
    "df1.cos('day', 'weight_pounds')"
   ]
  },
  {
   "cell_type": "code",
   "execution_count": 116,
   "metadata": {
    "collapsed": false
   },
   "outputs": [
    {
     "data": {
      "text/plain": [
       "0.039757234078351092"
      ]
     },
     "execution_count": 116,
     "metadata": {},
     "output_type": "execute_result"
    }
   ],
   "source": [
    "df1.corr('month', 'weight_pounds')"
   ]
  },
  {
   "cell_type": "code",
   "execution_count": 117,
   "metadata": {
    "collapsed": false
   },
   "outputs": [
    {
     "data": {
      "text/plain": [
       "258.95662187561317"
      ]
     },
     "execution_count": 117,
     "metadata": {},
     "output_type": "execute_result"
    }
   ],
   "source": [
    "df1.euclidean('month', 'weight_pounds')"
   ]
  },
  {
   "cell_type": "code",
   "execution_count": 135,
   "metadata": {
    "collapsed": false
   },
   "outputs": [
    {
     "name": "stdout",
     "output_type": "stream",
     "text": [
      "Number of rows in remote table exceeds bqdf object's max_rows. Only max_rows have been fetched locally\n"
     ]
    },
    {
     "data": {
      "text/html": [
       "<div>\n",
       "<table border=\"1\" class=\"dataframe\">\n",
       "  <thead>\n",
       "    <tr style=\"text-align: right;\">\n",
       "      <th>day</th>\n",
       "      <th>1</th>\n",
       "      <th>2</th>\n",
       "      <th>3</th>\n",
       "      <th>4</th>\n",
       "      <th>5</th>\n",
       "      <th>6</th>\n",
       "      <th>7</th>\n",
       "      <th>8</th>\n",
       "      <th>9</th>\n",
       "      <th>10</th>\n",
       "      <th>...</th>\n",
       "      <th>23</th>\n",
       "      <th>24</th>\n",
       "      <th>25</th>\n",
       "      <th>26</th>\n",
       "      <th>27</th>\n",
       "      <th>28</th>\n",
       "      <th>29</th>\n",
       "      <th>30</th>\n",
       "      <th>31</th>\n",
       "      <th>99</th>\n",
       "    </tr>\n",
       "    <tr>\n",
       "      <th>month</th>\n",
       "      <th></th>\n",
       "      <th></th>\n",
       "      <th></th>\n",
       "      <th></th>\n",
       "      <th></th>\n",
       "      <th></th>\n",
       "      <th></th>\n",
       "      <th></th>\n",
       "      <th></th>\n",
       "      <th></th>\n",
       "      <th></th>\n",
       "      <th></th>\n",
       "      <th></th>\n",
       "      <th></th>\n",
       "      <th></th>\n",
       "      <th></th>\n",
       "      <th></th>\n",
       "      <th></th>\n",
       "      <th></th>\n",
       "      <th></th>\n",
       "      <th></th>\n",
       "    </tr>\n",
       "  </thead>\n",
       "  <tbody>\n",
       "    <tr>\n",
       "      <th>1</th>\n",
       "      <td>10</td>\n",
       "      <td>9</td>\n",
       "      <td>12</td>\n",
       "      <td>12</td>\n",
       "      <td>12</td>\n",
       "      <td>13</td>\n",
       "      <td>8</td>\n",
       "      <td>11</td>\n",
       "      <td>13</td>\n",
       "      <td>13</td>\n",
       "      <td>...</td>\n",
       "      <td>15</td>\n",
       "      <td>15</td>\n",
       "      <td>14</td>\n",
       "      <td>13</td>\n",
       "      <td>10</td>\n",
       "      <td>10</td>\n",
       "      <td>14</td>\n",
       "      <td>13</td>\n",
       "      <td>14</td>\n",
       "      <td>NaN</td>\n",
       "    </tr>\n",
       "    <tr>\n",
       "      <th>2</th>\n",
       "      <td>9</td>\n",
       "      <td>18</td>\n",
       "      <td>14</td>\n",
       "      <td>17</td>\n",
       "      <td>18</td>\n",
       "      <td>14</td>\n",
       "      <td>13</td>\n",
       "      <td>18</td>\n",
       "      <td>8</td>\n",
       "      <td>15</td>\n",
       "      <td>...</td>\n",
       "      <td>12</td>\n",
       "      <td>12</td>\n",
       "      <td>27</td>\n",
       "      <td>18</td>\n",
       "      <td>8</td>\n",
       "      <td>9</td>\n",
       "      <td>NaN</td>\n",
       "      <td>NaN</td>\n",
       "      <td>1</td>\n",
       "      <td>1</td>\n",
       "    </tr>\n",
       "    <tr>\n",
       "      <th>3</th>\n",
       "      <td>14</td>\n",
       "      <td>10</td>\n",
       "      <td>13</td>\n",
       "      <td>22</td>\n",
       "      <td>14</td>\n",
       "      <td>12</td>\n",
       "      <td>15</td>\n",
       "      <td>11</td>\n",
       "      <td>21</td>\n",
       "      <td>17</td>\n",
       "      <td>...</td>\n",
       "      <td>14</td>\n",
       "      <td>19</td>\n",
       "      <td>16</td>\n",
       "      <td>11</td>\n",
       "      <td>15</td>\n",
       "      <td>18</td>\n",
       "      <td>10</td>\n",
       "      <td>5</td>\n",
       "      <td>16</td>\n",
       "      <td>NaN</td>\n",
       "    </tr>\n",
       "    <tr>\n",
       "      <th>4</th>\n",
       "      <td>14</td>\n",
       "      <td>13</td>\n",
       "      <td>12</td>\n",
       "      <td>7</td>\n",
       "      <td>11</td>\n",
       "      <td>8</td>\n",
       "      <td>22</td>\n",
       "      <td>16</td>\n",
       "      <td>14</td>\n",
       "      <td>11</td>\n",
       "      <td>...</td>\n",
       "      <td>8</td>\n",
       "      <td>12</td>\n",
       "      <td>13</td>\n",
       "      <td>5</td>\n",
       "      <td>9</td>\n",
       "      <td>12</td>\n",
       "      <td>14</td>\n",
       "      <td>13</td>\n",
       "      <td>NaN</td>\n",
       "      <td>NaN</td>\n",
       "    </tr>\n",
       "    <tr>\n",
       "      <th>5</th>\n",
       "      <td>11</td>\n",
       "      <td>18</td>\n",
       "      <td>19</td>\n",
       "      <td>11</td>\n",
       "      <td>18</td>\n",
       "      <td>13</td>\n",
       "      <td>7</td>\n",
       "      <td>18</td>\n",
       "      <td>12</td>\n",
       "      <td>11</td>\n",
       "      <td>...</td>\n",
       "      <td>12</td>\n",
       "      <td>12</td>\n",
       "      <td>13</td>\n",
       "      <td>10</td>\n",
       "      <td>13</td>\n",
       "      <td>8</td>\n",
       "      <td>14</td>\n",
       "      <td>5</td>\n",
       "      <td>17</td>\n",
       "      <td>1</td>\n",
       "    </tr>\n",
       "    <tr>\n",
       "      <th>6</th>\n",
       "      <td>16</td>\n",
       "      <td>12</td>\n",
       "      <td>17</td>\n",
       "      <td>15</td>\n",
       "      <td>10</td>\n",
       "      <td>17</td>\n",
       "      <td>17</td>\n",
       "      <td>8</td>\n",
       "      <td>13</td>\n",
       "      <td>10</td>\n",
       "      <td>...</td>\n",
       "      <td>17</td>\n",
       "      <td>9</td>\n",
       "      <td>7</td>\n",
       "      <td>16</td>\n",
       "      <td>14</td>\n",
       "      <td>21</td>\n",
       "      <td>11</td>\n",
       "      <td>13</td>\n",
       "      <td>1</td>\n",
       "      <td>NaN</td>\n",
       "    </tr>\n",
       "    <tr>\n",
       "      <th>7</th>\n",
       "      <td>14</td>\n",
       "      <td>11</td>\n",
       "      <td>19</td>\n",
       "      <td>8</td>\n",
       "      <td>12</td>\n",
       "      <td>11</td>\n",
       "      <td>16</td>\n",
       "      <td>17</td>\n",
       "      <td>18</td>\n",
       "      <td>18</td>\n",
       "      <td>...</td>\n",
       "      <td>14</td>\n",
       "      <td>14</td>\n",
       "      <td>27</td>\n",
       "      <td>10</td>\n",
       "      <td>10</td>\n",
       "      <td>18</td>\n",
       "      <td>12</td>\n",
       "      <td>12</td>\n",
       "      <td>12</td>\n",
       "      <td>NaN</td>\n",
       "    </tr>\n",
       "    <tr>\n",
       "      <th>8</th>\n",
       "      <td>13</td>\n",
       "      <td>9</td>\n",
       "      <td>14</td>\n",
       "      <td>24</td>\n",
       "      <td>17</td>\n",
       "      <td>12</td>\n",
       "      <td>16</td>\n",
       "      <td>10</td>\n",
       "      <td>13</td>\n",
       "      <td>10</td>\n",
       "      <td>...</td>\n",
       "      <td>12</td>\n",
       "      <td>12</td>\n",
       "      <td>9</td>\n",
       "      <td>10</td>\n",
       "      <td>10</td>\n",
       "      <td>25</td>\n",
       "      <td>10</td>\n",
       "      <td>19</td>\n",
       "      <td>11</td>\n",
       "      <td>NaN</td>\n",
       "    </tr>\n",
       "    <tr>\n",
       "      <th>9</th>\n",
       "      <td>14</td>\n",
       "      <td>13</td>\n",
       "      <td>18</td>\n",
       "      <td>11</td>\n",
       "      <td>13</td>\n",
       "      <td>11</td>\n",
       "      <td>11</td>\n",
       "      <td>15</td>\n",
       "      <td>16</td>\n",
       "      <td>15</td>\n",
       "      <td>...</td>\n",
       "      <td>18</td>\n",
       "      <td>19</td>\n",
       "      <td>14</td>\n",
       "      <td>14</td>\n",
       "      <td>12</td>\n",
       "      <td>11</td>\n",
       "      <td>16</td>\n",
       "      <td>10</td>\n",
       "      <td>NaN</td>\n",
       "      <td>NaN</td>\n",
       "    </tr>\n",
       "    <tr>\n",
       "      <th>10</th>\n",
       "      <td>17</td>\n",
       "      <td>11</td>\n",
       "      <td>19</td>\n",
       "      <td>7</td>\n",
       "      <td>12</td>\n",
       "      <td>6</td>\n",
       "      <td>12</td>\n",
       "      <td>19</td>\n",
       "      <td>18</td>\n",
       "      <td>17</td>\n",
       "      <td>...</td>\n",
       "      <td>19</td>\n",
       "      <td>14</td>\n",
       "      <td>13</td>\n",
       "      <td>10</td>\n",
       "      <td>16</td>\n",
       "      <td>11</td>\n",
       "      <td>16</td>\n",
       "      <td>14</td>\n",
       "      <td>16</td>\n",
       "      <td>NaN</td>\n",
       "    </tr>\n",
       "    <tr>\n",
       "      <th>11</th>\n",
       "      <td>15</td>\n",
       "      <td>11</td>\n",
       "      <td>17</td>\n",
       "      <td>15</td>\n",
       "      <td>13</td>\n",
       "      <td>12</td>\n",
       "      <td>19</td>\n",
       "      <td>18</td>\n",
       "      <td>5</td>\n",
       "      <td>13</td>\n",
       "      <td>...</td>\n",
       "      <td>16</td>\n",
       "      <td>13</td>\n",
       "      <td>12</td>\n",
       "      <td>11</td>\n",
       "      <td>14</td>\n",
       "      <td>14</td>\n",
       "      <td>15</td>\n",
       "      <td>7</td>\n",
       "      <td>NaN</td>\n",
       "      <td>1</td>\n",
       "    </tr>\n",
       "    <tr>\n",
       "      <th>12</th>\n",
       "      <td>15</td>\n",
       "      <td>11</td>\n",
       "      <td>12</td>\n",
       "      <td>17</td>\n",
       "      <td>17</td>\n",
       "      <td>19</td>\n",
       "      <td>12</td>\n",
       "      <td>14</td>\n",
       "      <td>16</td>\n",
       "      <td>15</td>\n",
       "      <td>...</td>\n",
       "      <td>15</td>\n",
       "      <td>15</td>\n",
       "      <td>12</td>\n",
       "      <td>14</td>\n",
       "      <td>10</td>\n",
       "      <td>15</td>\n",
       "      <td>10</td>\n",
       "      <td>9</td>\n",
       "      <td>13</td>\n",
       "      <td>NaN</td>\n",
       "    </tr>\n",
       "  </tbody>\n",
       "</table>\n",
       "<p>12 rows × 32 columns</p>\n",
       "</div>"
      ],
      "text/plain": [
       "day    1   2   3   4   5   6   7   8   9   10 ...  23  24  25  26  27  28  29  \\\n",
       "month                                         ...                               \n",
       "1      10   9  12  12  12  13   8  11  13  13 ...  15  15  14  13  10  10  14   \n",
       "2       9  18  14  17  18  14  13  18   8  15 ...  12  12  27  18   8   9 NaN   \n",
       "3      14  10  13  22  14  12  15  11  21  17 ...  14  19  16  11  15  18  10   \n",
       "4      14  13  12   7  11   8  22  16  14  11 ...   8  12  13   5   9  12  14   \n",
       "5      11  18  19  11  18  13   7  18  12  11 ...  12  12  13  10  13   8  14   \n",
       "6      16  12  17  15  10  17  17   8  13  10 ...  17   9   7  16  14  21  11   \n",
       "7      14  11  19   8  12  11  16  17  18  18 ...  14  14  27  10  10  18  12   \n",
       "8      13   9  14  24  17  12  16  10  13  10 ...  12  12   9  10  10  25  10   \n",
       "9      14  13  18  11  13  11  11  15  16  15 ...  18  19  14  14  12  11  16   \n",
       "10     17  11  19   7  12   6  12  19  18  17 ...  19  14  13  10  16  11  16   \n",
       "11     15  11  17  15  13  12  19  18   5  13 ...  16  13  12  11  14  14  15   \n",
       "12     15  11  12  17  17  19  12  14  16  15 ...  15  15  12  14  10  15  10   \n",
       "\n",
       "day    30  31  99  \n",
       "month              \n",
       "1      13  14 NaN  \n",
       "2     NaN   1   1  \n",
       "3       5  16 NaN  \n",
       "4      13 NaN NaN  \n",
       "5       5  17   1  \n",
       "6      13   1 NaN  \n",
       "7      12  12 NaN  \n",
       "8      19  11 NaN  \n",
       "9      10 NaN NaN  \n",
       "10     14  16 NaN  \n",
       "11      7 NaN   1  \n",
       "12      9  13 NaN  \n",
       "\n",
       "[12 rows x 32 columns]"
      ]
     },
     "execution_count": 135,
     "metadata": {},
     "output_type": "execute_result"
    }
   ],
   "source": [
    "mat=df1.contingency_mat('month', 'day')\n",
    "mat"
   ]
  },
  {
   "cell_type": "markdown",
   "metadata": {
    "collapsed": false
   },
   "source": [
    "corrmat=df1.corr_mat()"
   ]
  },
  {
   "cell_type": "markdown",
   "metadata": {},
   "source": [
    "## Joining and filtering"
   ]
  },
  {
   "cell_type": "code",
   "execution_count": 351,
   "metadata": {
    "collapsed": false
   },
   "outputs": [
    {
     "name": "stdout",
     "output_type": "stream",
     "text": [
      "1688982\n",
      "Number of rows in remote table exceeds bqdf object's max_rows. Only max_rows have been fetched locally\n",
      "16491\n",
      "Number of rows in remote table exceeds bqdf object's max_rows. Only max_rows have been fetched locally\n",
      "78890\n"
     ]
    }
   ],
   "source": [
    "# df.where is used for filtering the table.\n",
    "# each condition is expressed as it's own string argument\n",
    "# only simple equality, greater than, less than are currently supported\n",
    "print len(df1)\n",
    "ndf = df1.where('day==4')\n",
    "print len(ndf)\n",
    "ndf = df1.where('weight_pounds>8', 'mother_age < 20', fetch=True)\n",
    "print len(ndf.local)"
   ]
  },
  {
   "cell_type": "code",
   "execution_count": 354,
   "metadata": {
    "collapsed": false
   },
   "outputs": [
    {
     "name": "stdout",
     "output_type": "stream",
     "text": [
      "8.02262171418\n",
      "19\n"
     ]
    }
   ],
   "source": [
    "print ndf['weight_pounds'].min()\n",
    "print ndf['mother_age'].max()"
   ]
  },
  {
   "cell_type": "code",
   "execution_count": null,
   "metadata": {
    "collapsed": true,
    "tags": [
     "worksheet-0"
    ]
   },
   "outputs": [],
   "source": [
    "#join two tables\n",
    "#note this returns a new BQDF object with a reference to the resulting table\n",
    "jdf=df1.join(df2, on='year', how='inner')"
   ]
  },
  {
   "cell_type": "markdown",
   "metadata": {},
   "source": [
    "## More flexible querying"
   ]
  },
  {
   "cell_type": "code",
   "execution_count": 107,
   "metadata": {
    "collapsed": false,
    "tags": [
     "worksheet-0"
    ]
   },
   "outputs": [
    {
     "name": "stdout",
     "output_type": "stream",
     "text": [
      "Waiting on bqjob_r32bde585b7276dcb_0000014e9c0e7d6c_328 ... (0s) Current status: DONE   \n"
     ]
    }
   ],
   "source": [
    "#execute arbitrary sql commands and return as df and source\n",
    "#note: raw_query does not return a BQDF object\n",
    "querystr = \"\"\"\n",
    "SELECT subr, num_comments, score, c_posts FROM %s  LIMIT 1000\n",
    "\"\"\" %table1\n",
    "df, source = bqdf.raw_query(con, querystr)"
   ]
  },
  {
   "cell_type": "code",
   "execution_count": 53,
   "metadata": {
    "collapsed": false
   },
   "outputs": [
    {
     "data": {
      "text/html": [
       "<div>\n",
       "<table border=\"1\" class=\"dataframe\">\n",
       "  <thead>\n",
       "    <tr style=\"text-align: right;\">\n",
       "      <th></th>\n",
       "      <th>subr</th>\n",
       "      <th>num_comments</th>\n",
       "      <th>score</th>\n",
       "      <th>c_posts</th>\n",
       "    </tr>\n",
       "  </thead>\n",
       "  <tbody>\n",
       "    <tr>\n",
       "      <th>0</th>\n",
       "      <td>Winnipeg</td>\n",
       "      <td>23782</td>\n",
       "      <td>35017</td>\n",
       "      <td>1000</td>\n",
       "    </tr>\n",
       "    <tr>\n",
       "      <th>1</th>\n",
       "      <td>winterporn</td>\n",
       "      <td>1858</td>\n",
       "      <td>61256</td>\n",
       "      <td>1000</td>\n",
       "    </tr>\n",
       "    <tr>\n",
       "      <th>2</th>\n",
       "      <td>wisconsin</td>\n",
       "      <td>24893</td>\n",
       "      <td>71500</td>\n",
       "      <td>999</td>\n",
       "    </tr>\n",
       "    <tr>\n",
       "      <th>3</th>\n",
       "      <td>woahdude</td>\n",
       "      <td>126829</td>\n",
       "      <td>2089822</td>\n",
       "      <td>1000</td>\n",
       "    </tr>\n",
       "    <tr>\n",
       "      <th>4</th>\n",
       "      <td>women</td>\n",
       "      <td>12128</td>\n",
       "      <td>63478</td>\n",
       "      <td>1000</td>\n",
       "    </tr>\n",
       "  </tbody>\n",
       "</table>\n",
       "</div>"
      ],
      "text/plain": [
       "         subr  num_comments    score  c_posts\n",
       "0    Winnipeg         23782    35017     1000\n",
       "1  winterporn          1858    61256     1000\n",
       "2   wisconsin         24893    71500      999\n",
       "3    woahdude        126829  2089822     1000\n",
       "4       women         12128    63478     1000"
      ]
     },
     "execution_count": 53,
     "metadata": {},
     "output_type": "execute_result"
    }
   ],
   "source": [
    "df1.query(querystr)"
   ]
  },
  {
   "cell_type": "markdown",
   "metadata": {},
   "source": [
    "##Plotting"
   ]
  },
  {
   "cell_type": "code",
   "execution_count": null,
   "metadata": {
    "collapsed": true,
    "tags": [
     "worksheet-0"
    ]
   },
   "outputs": [],
   "source": [
    "#create a histogram of a column's values\n",
    "histdf=df1['weight_pounds'].hist(bins=20)"
   ]
  },
  {
   "cell_type": "code",
   "execution_count": null,
   "metadata": {
    "collapsed": true,
    "tags": [
     "worksheet-0"
    ]
   },
   "outputs": [],
   "source": [
    "#create a simple plot (mean +/- 1 SEM) of value_col, broken down by grouping_col\n",
    "value_col='weight_pounds'\n",
    "grouping_col='month'\n",
    "df1.plot(grouping_col, value_col, kind='bar')"
   ]
  },
  {
   "cell_type": "code",
   "execution_count": 114,
   "metadata": {
    "collapsed": false
   },
   "outputs": [
    {
     "name": "stdout",
     "output_type": "stream",
     "text": [
      "Waiting on bqjob_r5446ea84859d2408_0000014e9c108526_339 ... (0s) Current status: DONE   \n",
      "0.000267028808594\n",
      "Waiting on bqjob_r254a7a18c87ae0a3_0000014e9c108822_340 ... (0s) Current status: DONE   \n",
      "Waiting on bqjob_r13cbc6b92c94b718_0000014e9c108b40_341 ... (0s) Current status: DONE   \n",
      "0.00558471679688\n",
      "Waiting on bqjob_r470bd9571cb96a81_0000014e9c109321_342 ... (0s) Current status: DONE   \n",
      "0.0102310180664\n",
      "Waiting on bqjob_r70edbaee454db3dc_0000014e9c1099ca_343 ... (0s) Current status: DONE   \n",
      "Waiting on bqjob_r68e0ea3c6440532a_0000014e9c10a133_344 ... (0s) Current status: DONE   \n",
      "0.0151901245117\n"
     ]
    },
    {
     "data": {
      "image/png": "[encoded data removed]",
      "text/plain": [
       "<matplotlib.figure.Figure at 0x115288750>"
      ]
     },
     "metadata": {},
     "output_type": "display_data"
    }
   ],
   "source": [
    "#create scatter plot of x vs. y (since bins > total number of datapoints, will plot all data)\n",
    "scatterseries=df1.scatter('weight_pounds', 'day', bins=1000)"
   ]
  },
  {
   "cell_type": "code",
   "execution_count": 60,
   "metadata": {
    "collapsed": false
   },
   "outputs": [
    {
     "name": "stdout",
     "output_type": "stream",
     "text": [
      "Waiting on bqjob_r57465fd7070b45b_0000014e9bfcca94_175 ... (0s) Current status: DONE   \n",
      "Waiting on bqjob_r5c068c203eb4093c_0000014e9bfccd5a_176 ... (0s) Current status: DONE   \n",
      "Waiting on bqjob_r8ffe5f69ef98ff9_0000014e9bfcd244_177 ... (0s) Current status: DONE   \n",
      "Waiting on bqjob_r449e1df5c4378473_0000014e9bfcd989_178 ... (0s) Current status: DONE   \n",
      "query saved to durable-footing-95814:_7f939837d73fe18145c1d220d8cea862f339ce2f.anon95ee7e5b5fafebb5e597a3541b0640d971cc0d93\n",
      "returning head only\n",
      "Waiting on bqjob_r185516469de6755b_0000014e9bfcdcb6_179 ... (0s) Current status: DONE   \n",
      "Waiting on bqjob_r143c60795e77f250_0000014e9bfce3e6_180 ... (0s) Current status: DONE   \n",
      "Waiting on bqjob_r2fa60537e947ca0c_0000014e9bfceb68_181 ... (0s) Current status: DONE   \n",
      "query saved to durable-footing-95814:_7f939837d73fe18145c1d220d8cea862f339ce2f.anon58daa3ca68c9e2778f67288fe354a2d0260271f1\n",
      "returning head only\n",
      "Waiting on bqjob_r63168006009c68a8_0000014e9bfcedcc_182 ... (0s) Current status: DONE   \n",
      "Waiting on bqjob_r240a716fa473ca56_0000014e9bfcf5c3_183 ... (0s) Current status: DONE   \n",
      "Waiting on bqjob_r4e3a88dffef02125_0000014e9bfcfcb8_184 ... (2s) Current status: DONE   \n",
      "Waiting on bqjob_r795ff5c32769a3c3_0000014e9bfd118f_185 ... (0s) Current status: DONE   \n",
      "Waiting on bqjob_r3eaac0e309b4072f_0000014e9bfd18de_186 ... (0s) Current status: DONE   \n",
      "Waiting on bqjob_r119071c5108d2239_0000014e9bfd20a3_187 ... (2s) Current status: DONE   \n",
      "Waiting on bqjob_r95aee436662341a_0000014e9bfd340f_188 ... (0s) Current status: DONE   \n",
      "Waiting on bqjob_r171db110fe48a099_0000014e9bfd3b4a_189 ... (0s) Current status: DONE   \n",
      "Waiting on bqjob_r138b115b0ba984f7_0000014e9bfd43a2_190 ... (0s) Current status: DONE   \n",
      "Waiting on bqjob_r7dbcd18c1c51e863_0000014e9bfd5009_191 ... (0s) Current status: DONE   \n",
      "Waiting on bqjob_r46e5ecde0658ea6d_0000014e9bfd5707_192 ... (0s) Current status: DONE   \n"
     ]
    },
    {
     "data": {
      "image/png": "[encoded data removed]",
      "text/plain": [
       "<matplotlib.figure.Figure at 0x113e69190>"
      ]
     },
     "metadata": {},
     "output_type": "display_data"
    }
   ],
   "source": [
    "#create a downsampled scatter plot of x vs. y\n",
    "plotdf=df1.scatter('weight_pounds', 'day', bins=200)"
   ]
  },
  {
   "cell_type": "code",
   "execution_count": null,
   "metadata": {
    "collapsed": true
   },
   "outputs": [],
   "source": []
  }
 ],
 "metadata": {
  "kernelspec": {
   "display_name": "Python 2",
   "language": "python",
   "name": "python2"
  },
  "language_info": {
   "codemirror_mode": {
    "name": "ipython",
    "version": 2
   },
   "file_extension": ".py",
   "mimetype": "text/x-python",
   "name": "python",
   "nbconvert_exporter": "python",
   "pygments_lexer": "ipython2",
   "version": "2.7.6"
  },
  "name": "bq_template.ipynb"
 },
 "nbformat": 4,
 "nbformat_minor": 0
}
