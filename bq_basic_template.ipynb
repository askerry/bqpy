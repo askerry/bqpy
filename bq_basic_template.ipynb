{
 "cells": [
  {
   "cell_type": "code",
   "execution_count": 1,
   "metadata": {
    "collapsed": false,
    "tags": [
     "worksheet-0"
    ]
   },
   "outputs": [
    {
     "name": "stdout",
     "output_type": "stream",
     "text": [
      "Populating the interactive namespace from numpy and matplotlib\n"
     ]
    }
   ],
   "source": [
    "pylab inline"
   ]
  },
  {
   "cell_type": "code",
   "execution_count": 2,
   "metadata": {
    "collapsed": false,
    "tags": [
     "worksheet-0"
    ]
   },
   "outputs": [],
   "source": [
    "%load_ext autoreload"
   ]
  },
  {
   "cell_type": "code",
   "execution_count": 3,
   "metadata": {
    "collapsed": false,
    "tags": [
     "worksheet-0"
    ]
   },
   "outputs": [],
   "source": [
    "% autoreload 2"
   ]
  },
  {
   "cell_type": "code",
   "execution_count": 7,
   "metadata": {
    "collapsed": false,
    "tags": [
     "worksheet-0"
    ]
   },
   "outputs": [],
   "source": [
    "import pandas as pd\n",
    "import matplotlib.pyplot as plt\n",
    "import numpy as np\n",
    "import seaborn as sns\n",
    "sns.set_style('white')\n",
    "import sys\n",
    "sys.path.append('/users/amyskerry/documents/projects')\n",
    "from pybq import core, util, bqdf\n",
    "from pybq import credentialscfg as cfg"
   ]
  },
  {
   "cell_type": "markdown",
   "metadata": {},
   "source": [
    "#Utility functions for viewing/modifying what data are available "
   ]
  },
  {
   "cell_type": "markdown",
   "metadata": {},
   "source": [
    "service=util.get_service()\n",
    "projects=util.list_projects(service)\n",
    "datasets=util.list_datasets(service, 'durable-footing-95814')\n",
    "tables=util.list_tables(service, 'eeg4kaggle', 'eeg')\n",
    "util.delete_table(service, 'eeg4kaggle', 'eeg', 'temp2')\n",
    "util.copy_table(source, destination)"
   ]
  },
  {
   "cell_type": "markdown",
   "metadata": {},
   "source": [
    "#Connect to a project"
   ]
  },
  {
   "cell_type": "code",
   "execution_count": 8,
   "metadata": {
    "collapsed": false
   },
   "outputs": [
    {
     "data": {
      "text/plain": [
       "'durable-footing-95814'"
      ]
     },
     "execution_count": 8,
     "metadata": {},
     "output_type": "execute_result"
    }
   ],
   "source": [
    "cfg.project_id"
   ]
  },
  {
   "cell_type": "code",
   "execution_count": 10,
   "metadata": {
    "collapsed": false,
    "tags": [
     "worksheet-0"
    ]
   },
   "outputs": [],
   "source": [
    "#connect to project via project_id\n",
    "client = core.bigquery_connect(project_id=cfg.project_id, logging_file=cfg.log)"
   ]
  },
  {
   "cell_type": "code",
   "execution_count": 7,
   "metadata": {
    "collapsed": false,
    "tags": [
     "worksheet-0"
    ]
   },
   "outputs": [],
   "source": [
    "#specify bq paths to tables\n",
    "#format: project:dataset.tablename (if dataset is in current project_id, can use just dataset.tablename)\n",
    "table1 = '[fh-bigquery:reddit.subreddits]' \n",
    "table2 = '[fh-bigquery:reddit.top20]'"
   ]
  },
  {
   "cell_type": "markdown",
   "metadata": {
    "collapsed": true,
    "tags": [
     "worksheet-0"
    ]
   },
   "source": [
    "# Dataframe-ish abstraction for bigquery table"
   ]
  },
  {
   "cell_type": "code",
   "execution_count": 8,
   "metadata": {
    "collapsed": false,
    "tags": [
     "worksheet-0"
    ]
   },
   "outputs": [],
   "source": [
    "#create bqdf table connection\n",
    "df1 = bqdf.BQDF(client, table1)\n",
    "df2 = bqdf.BQDF(client, table2)"
   ]
  },
  {
   "cell_type": "code",
   "execution_count": 9,
   "metadata": {
    "collapsed": false
   },
   "outputs": [
    {
     "name": "stdout",
     "output_type": "stream",
     "text": [
      "[fh-bigquery:reddit.subreddits]\n"
     ]
    }
   ],
   "source": [
    "#these are not actually dataframes, but rather references to connected bigquery tables\n",
    "#table referenced:\n",
    "print df1.remote"
   ]
  },
  {
   "cell_type": "code",
   "execution_count": 10,
   "metadata": {
    "collapsed": false
   },
   "outputs": [
    {
     "name": "stdout",
     "output_type": "stream",
     "text": [
      "<bigquery_client.BigqueryClient object at 0x106ff5090>\n"
     ]
    }
   ],
   "source": [
    "#connected to project by client\n",
    "print df1.client"
   ]
  },
  {
   "cell_type": "code",
   "execution_count": 11,
   "metadata": {
    "collapsed": false
   },
   "outputs": [
    {
     "data": {
      "text/html": [
       "<div>\n",
       "<table border=\"1\" class=\"dataframe\">\n",
       "  <thead>\n",
       "    <tr style=\"text-align: right;\">\n",
       "      <th></th>\n",
       "      <th>subr</th>\n",
       "      <th>created_utc</th>\n",
       "      <th>score</th>\n",
       "      <th>num_comments</th>\n",
       "      <th>c_posts</th>\n",
       "      <th>ups</th>\n",
       "      <th>downs</th>\n",
       "    </tr>\n",
       "  </thead>\n",
       "  <tbody>\n",
       "    <tr>\n",
       "      <th>0</th>\n",
       "      <td>Winnipeg</td>\n",
       "      <td>1271800307</td>\n",
       "      <td>35017</td>\n",
       "      <td>23782</td>\n",
       "      <td>1000</td>\n",
       "      <td>41170</td>\n",
       "      <td>6153</td>\n",
       "    </tr>\n",
       "    <tr>\n",
       "      <th>1</th>\n",
       "      <td>winterporn</td>\n",
       "      <td>1322432778</td>\n",
       "      <td>61256</td>\n",
       "      <td>1858</td>\n",
       "      <td>1000</td>\n",
       "      <td>66831</td>\n",
       "      <td>5575</td>\n",
       "    </tr>\n",
       "    <tr>\n",
       "      <th>2</th>\n",
       "      <td>wisconsin</td>\n",
       "      <td>1288755087</td>\n",
       "      <td>71500</td>\n",
       "      <td>24893</td>\n",
       "      <td>999</td>\n",
       "      <td>87718</td>\n",
       "      <td>16218</td>\n",
       "    </tr>\n",
       "    <tr>\n",
       "      <th>3</th>\n",
       "      <td>woahdude</td>\n",
       "      <td>1272095272</td>\n",
       "      <td>2089822</td>\n",
       "      <td>126829</td>\n",
       "      <td>1000</td>\n",
       "      <td>4970101</td>\n",
       "      <td>2880279</td>\n",
       "    </tr>\n",
       "    <tr>\n",
       "      <th>4</th>\n",
       "      <td>women</td>\n",
       "      <td>1221247390</td>\n",
       "      <td>63478</td>\n",
       "      <td>12128</td>\n",
       "      <td>1000</td>\n",
       "      <td>74948</td>\n",
       "      <td>11470</td>\n",
       "    </tr>\n",
       "  </tbody>\n",
       "</table>\n",
       "</div>"
      ],
      "text/plain": [
       "         subr  created_utc    score  num_comments  c_posts      ups    downs\n",
       "0    Winnipeg   1271800307    35017         23782     1000    41170     6153\n",
       "1  winterporn   1322432778    61256          1858     1000    66831     5575\n",
       "2   wisconsin   1288755087    71500         24893      999    87718    16218\n",
       "3    woahdude   1272095272  2089822        126829     1000  4970101  2880279\n",
       "4       women   1221247390    63478         12128     1000    74948    11470"
      ]
     },
     "execution_count": 11,
     "metadata": {},
     "output_type": "execute_result"
    }
   ],
   "source": [
    "#a local copy or sample of the data is stored in df.local\n",
    "#by default, local contains only a copy of the first 5 rows (the table's \"head\")\n",
    "#but bqdf queries (incl built in joins, group bys, etc.) can also copy full result to df.local (if fetch=True)\n",
    "df1.local"
   ]
  },
  {
   "cell_type": "markdown",
   "metadata": {},
   "source": [
    "##Basic convenience operations"
   ]
  },
  {
   "cell_type": "code",
   "execution_count": 12,
   "metadata": {
    "collapsed": false
   },
   "outputs": [
    {
     "data": {
      "text/html": [
       "<div>\n",
       "<table border=\"1\" class=\"dataframe\">\n",
       "  <thead>\n",
       "    <tr style=\"text-align: right;\">\n",
       "      <th></th>\n",
       "      <th>subr</th>\n",
       "      <th>created_utc</th>\n",
       "      <th>score</th>\n",
       "      <th>num_comments</th>\n",
       "      <th>c_posts</th>\n",
       "      <th>ups</th>\n",
       "      <th>downs</th>\n",
       "    </tr>\n",
       "  </thead>\n",
       "  <tbody>\n",
       "    <tr>\n",
       "      <th>0</th>\n",
       "      <td>Winnipeg</td>\n",
       "      <td>1271800307</td>\n",
       "      <td>35017</td>\n",
       "      <td>23782</td>\n",
       "      <td>1000</td>\n",
       "      <td>41170</td>\n",
       "      <td>6153</td>\n",
       "    </tr>\n",
       "    <tr>\n",
       "      <th>1</th>\n",
       "      <td>winterporn</td>\n",
       "      <td>1322432778</td>\n",
       "      <td>61256</td>\n",
       "      <td>1858</td>\n",
       "      <td>1000</td>\n",
       "      <td>66831</td>\n",
       "      <td>5575</td>\n",
       "    </tr>\n",
       "    <tr>\n",
       "      <th>2</th>\n",
       "      <td>wisconsin</td>\n",
       "      <td>1288755087</td>\n",
       "      <td>71500</td>\n",
       "      <td>24893</td>\n",
       "      <td>999</td>\n",
       "      <td>87718</td>\n",
       "      <td>16218</td>\n",
       "    </tr>\n",
       "    <tr>\n",
       "      <th>3</th>\n",
       "      <td>woahdude</td>\n",
       "      <td>1272095272</td>\n",
       "      <td>2089822</td>\n",
       "      <td>126829</td>\n",
       "      <td>1000</td>\n",
       "      <td>4970101</td>\n",
       "      <td>2880279</td>\n",
       "    </tr>\n",
       "    <tr>\n",
       "      <th>4</th>\n",
       "      <td>women</td>\n",
       "      <td>1221247390</td>\n",
       "      <td>63478</td>\n",
       "      <td>12128</td>\n",
       "      <td>1000</td>\n",
       "      <td>74948</td>\n",
       "      <td>11470</td>\n",
       "    </tr>\n",
       "  </tbody>\n",
       "</table>\n",
       "</div>"
      ],
      "text/plain": [
       "         subr  created_utc    score  num_comments  c_posts      ups    downs\n",
       "0    Winnipeg   1271800307    35017         23782     1000    41170     6153\n",
       "1  winterporn   1322432778    61256          1858     1000    66831     5575\n",
       "2   wisconsin   1288755087    71500         24893      999    87718    16218\n",
       "3    woahdude   1272095272  2089822        126829     1000  4970101  2880279\n",
       "4       women   1221247390    63478         12128     1000    74948    11470"
      ]
     },
     "execution_count": 12,
     "metadata": {},
     "output_type": "execute_result"
    }
   ],
   "source": [
    "# standard df head\n",
    "df1.head()"
   ]
  },
  {
   "cell_type": "code",
   "execution_count": 13,
   "metadata": {
    "collapsed": false,
    "tags": [
     "worksheet-0"
    ]
   },
   "outputs": [
    {
     "data": {
      "text/plain": [
       "[u'subr',\n",
       " u'created_utc',\n",
       " u'score',\n",
       " u'num_comments',\n",
       " u'c_posts',\n",
       " u'ups',\n",
       " u'downs']"
      ]
     },
     "execution_count": 13,
     "metadata": {},
     "output_type": "execute_result"
    }
   ],
   "source": [
    "# columns of table\n",
    "df1.columns"
   ]
  },
  {
   "cell_type": "code",
   "execution_count": 14,
   "metadata": {
    "collapsed": false
   },
   "outputs": [
    {
     "data": {
      "text/plain": [
       "array([  1.27180031e+09,   1.32243278e+09,   1.28875509e+09, ...,\n",
       "         1.23818118e+09,   1.33044594e+09,   1.26704815e+09])"
      ]
     },
     "execution_count": 14,
     "metadata": {},
     "output_type": "execute_result"
    }
   ],
   "source": [
    "#return all values of a column\n",
    "df1.created_utc.values"
   ]
  },
  {
   "cell_type": "code",
   "execution_count": 22,
   "metadata": {
    "collapsed": false
   },
   "outputs": [
    {
     "name": "stdout",
     "output_type": "stream",
     "text": [
      "fetching from local cache\n"
     ]
    },
    {
     "data": {
      "text/plain": [
       "array([ 35017,  61256,  71500, ...,  76969, 135079,  37549])"
      ]
     },
     "execution_count": 22,
     "metadata": {},
     "output_type": "execute_result"
    }
   ],
   "source": [
    "#attr or dict like references\n",
    "df1['score'].values"
   ]
  },
  {
   "cell_type": "code",
   "execution_count": 16,
   "metadata": {
    "collapsed": false,
    "tags": [
     "worksheet-0"
    ]
   },
   "outputs": [
    {
     "name": "stdout",
     "output_type": "stream",
     "text": [
      "Table Schema for [fh-bigquery:reddit.subreddits]\n",
      "subr (STRING) :   mode-NULLABLE\n",
      "created_utc (TIMESTAMP) :   mode-NULLABLE\n",
      "score (INTEGER) :   mode-NULLABLE\n",
      "num_comments (INTEGER) :   mode-NULLABLE\n",
      "c_posts (INTEGER) :   mode-NULLABLE\n",
      "ups (INTEGER) :   mode-NULLABLE\n",
      "downs (INTEGER) :   mode-NULLABLE\n"
     ]
    }
   ],
   "source": [
    "# view schema details\n",
    "schema=df1.table_schema"
   ]
  },
  {
   "cell_type": "code",
   "execution_count": 17,
   "metadata": {
    "collapsed": false
   },
   "outputs": [
    {
     "data": {
      "text/plain": [
       "['SELECT score FROM [fh-bigquery:reddit.subreddits]',\n",
       " 'SELECT * FROM [fh-bigquery:reddit.top20] LIMIT 5',\n",
       " 'SELECT created_utc FROM [fh-bigquery:reddit.subreddits]',\n",
       " 'SELECT * FROM [fh-bigquery:reddit.subreddits] LIMIT 5']"
      ]
     },
     "execution_count": 17,
     "metadata": {},
     "output_type": "execute_result"
    }
   ],
   "source": [
    "client.querycache.keys()"
   ]
  },
  {
   "cell_type": "code",
   "execution_count": 23,
   "metadata": {
    "collapsed": false,
    "tags": [
     "worksheet-0"
    ]
   },
   "outputs": [
    {
     "name": "stdout",
     "output_type": "stream",
     "text": [
      "fetching from local cache\n",
      "Waiting on bqjob_r5b99aa85f6c10068_0000014e99ef04e5_11 ... (0s) Current status: DONE   \n",
      "fetching from local cache\n"
     ]
    },
    {
     "data": {
      "text/plain": [
       "(2499, 7)"
      ]
     },
     "execution_count": 23,
     "metadata": {},
     "output_type": "execute_result"
    }
   ],
   "source": [
    "#shape of table\n",
    "df1.size"
   ]
  },
  {
   "cell_type": "code",
   "execution_count": 24,
   "metadata": {
    "collapsed": false,
    "tags": [
     "worksheet-0"
    ]
   },
   "outputs": [
    {
     "name": "stdout",
     "output_type": "stream",
     "text": [
      "Waiting on bqjob_r2eb1246d623d82d5_0000014e99ef1f07_12 ... (0s) Current status: DONE   \n",
      "Waiting on bqjob_r38c1abff9d3f068f_0000014e99ef228c_13 ... (0s) Current status: DONE   \n",
      "Waiting on bqjob_ra03f44d0717e82d_0000014e99ef2a2d_14 ... (0s) Current status: DONE   \n",
      "['Winnipeg' 'winterporn' 'wisconsin' ..., 'windowshots' 'windowsphone'\n",
      " 'wine']\n"
     ]
    }
   ],
   "source": [
    "#distinct elements in column\n",
    "uniques=df1.unique('subr')\n",
    "print uniques"
   ]
  },
  {
   "cell_type": "code",
   "execution_count": 27,
   "metadata": {
    "collapsed": false,
    "tags": [
     "worksheet-0"
    ]
   },
   "outputs": [
    {
     "name": "stdout",
     "output_type": "stream",
     "text": [
      "fetching from local cache\n",
      "Waiting on bqjob_r7fcd03544e8a0c2a_0000014e99f04d47_21 ... (0s) Current status: DONE   \n",
      "fetching from local cache\n",
      "388468674\n",
      "fetching from local cache\n",
      "Waiting on bqjob_r62a0b8618b75449a_0000014e99f052f4_22 ... (0s) Current status: DONE   \n",
      "fetching from local cache\n",
      "388468674\n"
     ]
    }
   ],
   "source": [
    "#columnar operations (min, max, mean, std, mode, unique, count) can be accessed in one of tw ways\n",
    "print df1.sum('score')\n",
    "print df1['score'].sum()"
   ]
  },
  {
   "cell_type": "code",
   "execution_count": 28,
   "metadata": {
    "collapsed": false,
    "tags": [
     "worksheet-0"
    ]
   },
   "outputs": [
    {
     "name": "stdout",
     "output_type": "stream",
     "text": [
      "fetching from local cache\n",
      "Waiting on bqjob_r65ba671eb501c396_0000014e99f066ed_23 ... (0s) Current status: DONE   \n",
      "fetching from local cache\n"
     ]
    },
    {
     "data": {
      "text/plain": [
       "155449.64945978392"
      ]
     },
     "execution_count": 28,
     "metadata": {},
     "output_type": "execute_result"
    }
   ],
   "source": [
    "# mean of column\n",
    "df1.mean('score')"
   ]
  },
  {
   "cell_type": "code",
   "execution_count": 31,
   "metadata": {
    "collapsed": false,
    "tags": [
     "worksheet-0"
    ]
   },
   "outputs": [
    {
     "name": "stdout",
     "output_type": "stream",
     "text": [
      "Waiting on bqjob_r568aa98fe9d89107_0000014e99f0c2d7_24 ... (0s) Current status: DONE   \n",
      "query saved to durable-footing-95814:_7f939837d73fe18145c1d220d8cea862f339ce2f.anon8a8471cbeaab4d38e1793ec71525e0c6a65a6bf2\n",
      "returning head only\n",
      "Waiting on bqjob_r6e98af49103476b9_0000014e99f0c6fd_25 ... (0s) Current status: DONE   \n",
      "Waiting on bqjob_r4b5f63c9f3770dc0_0000014e99f0ca41_26 ... (0s) Current status: DONE   \n"
     ]
    },
    {
     "data": {
      "text/plain": [
       "349534.8891608803"
      ]
     },
     "execution_count": 31,
     "metadata": {},
     "output_type": "execute_result"
    }
   ],
   "source": [
    "#standard deviation of column\n",
    "df1['score'].std()"
   ]
  },
  {
   "cell_type": "code",
   "execution_count": 33,
   "metadata": {
    "collapsed": false,
    "tags": [
     "worksheet-0"
    ]
   },
   "outputs": [
    {
     "name": "stdout",
     "output_type": "stream",
     "text": [
      "Waiting on bqjob_r266489b51e729961_0000014e99f103b2_27 ... (0s) Current status: DONE   \n",
      "query saved to durable-footing-95814:_7f939837d73fe18145c1d220d8cea862f339ce2f.anonefa0258d5a0763730f277c8d923270a45baaf2e5\n",
      "returning head only\n",
      "Waiting on bqjob_r4085db07ba4702c1_0000014e99f10b28_28 ... (0s) Current status: DONE   \n",
      "Waiting on bqjob_r73e99ae921506d2_0000014e99f10e61_29 ... (0s) Current status: DONE   \n"
     ]
    },
    {
     "data": {
      "text/plain": [
       "3"
      ]
     },
     "execution_count": 33,
     "metadata": {},
     "output_type": "execute_result"
    }
   ],
   "source": [
    "#mode of column (if multiple, returns first)\n",
    "df1['num_comments'].mode()"
   ]
  },
  {
   "cell_type": "code",
   "execution_count": 35,
   "metadata": {
    "collapsed": false,
    "tags": [
     "worksheet-0"
    ]
   },
   "outputs": [
    {
     "name": "stdout",
     "output_type": "stream",
     "text": [
      "fetching from local cache\n",
      "Waiting on bqjob_r1c05f37e18fb9e61_0000014e99f1483f_33 ... (0s) Current status: DONE   \n",
      "fetching from local cache\n"
     ]
    },
    {
     "data": {
      "text/plain": [
       "8082530"
      ]
     },
     "execution_count": 35,
     "metadata": {},
     "output_type": "execute_result"
    }
   ],
   "source": [
    "#max value in column\n",
    "df1['num_comments'].max()"
   ]
  },
  {
   "cell_type": "code",
   "execution_count": 37,
   "metadata": {
    "collapsed": false
   },
   "outputs": [
    {
     "name": "stdout",
     "output_type": "stream",
     "text": [
      "fetching from local cache\n",
      "Waiting on bqjob_r6a41c7ec8153b0b2_0000014e99f1a4f5_37 ... (0s) Current status: DONE   \n",
      "fetching from local cache\n"
     ]
    },
    {
     "data": {
      "text/plain": [
       "2499"
      ]
     },
     "execution_count": 37,
     "metadata": {},
     "output_type": "execute_result"
    }
   ],
   "source": [
    "# non-null entries in column\n",
    "df1['num_comments'].count()"
   ]
  },
  {
   "cell_type": "code",
   "execution_count": null,
   "metadata": {
    "collapsed": true
   },
   "outputs": [],
   "source": [
    "df1.describe()"
   ]
  },
  {
   "cell_type": "markdown",
   "metadata": {},
   "source": [
    "## Joining and filtering"
   ]
  },
  {
   "cell_type": "code",
   "execution_count": 105,
   "metadata": {
    "collapsed": false
   },
   "outputs": [
    {
     "name": "stdout",
     "output_type": "stream",
     "text": [
      "2499\n",
      "21\n",
      "6\n"
     ]
    }
   ],
   "source": [
    "# df.where is used for filtering the table.\n",
    "# each condition is expressed as it's own string argument\n",
    "# only simple equality, greater than, less than are currently supported\n",
    "print len(df1)\n",
    "ndf = df1.where('num_comments>500000')\n",
    "print len(ndf.local)\n",
    "ndf = df1.where('num_comments>500000', 'score <2000000')\n",
    "print len(ndf.local)"
   ]
  },
  {
   "cell_type": "code",
   "execution_count": 32,
   "metadata": {
    "collapsed": false,
    "tags": [
     "worksheet-0"
    ]
   },
   "outputs": [],
   "source": [
    "#join two tables\n",
    "#note this returns a new BQDF object with a reference to the resulting table\n",
    "ndf=df1.join(df2, on='subr', how='inner')"
   ]
  },
  {
   "cell_type": "code",
   "execution_count": 33,
   "metadata": {
    "collapsed": false
   },
   "outputs": [
    {
     "data": {
      "text/plain": [
       "u'[durable-footing-95814:_7f939837d73fe18145c1d220d8cea862f339ce2f.anon28b5b8b485f49cb4a4e98c0050fc19ad20099d86]'"
      ]
     },
     "execution_count": 33,
     "metadata": {},
     "output_type": "execute_result"
    }
   ],
   "source": [
    "#references temporary table created by query\n",
    "ndf.remote"
   ]
  },
  {
   "cell_type": "code",
   "execution_count": 57,
   "metadata": {
    "collapsed": false,
    "tags": [
     "worksheet-0"
    ]
   },
   "outputs": [
    {
     "data": {
      "text/html": [
       "<div>\n",
       "<table border=\"1\" class=\"dataframe\">\n",
       "  <thead>\n",
       "    <tr style=\"text-align: right;\">\n",
       "      <th></th>\n",
       "      <th>subr</th>\n",
       "      <th>created_utc</th>\n",
       "      <th>score</th>\n",
       "      <th>num_comments</th>\n",
       "      <th>c_posts</th>\n",
       "      <th>ups</th>\n",
       "      <th>downs</th>\n",
       "    </tr>\n",
       "  </thead>\n",
       "  <tbody>\n",
       "    <tr>\n",
       "      <th>0</th>\n",
       "      <td>Games</td>\n",
       "      <td>1321547453</td>\n",
       "      <td>1409348</td>\n",
       "      <td>653297</td>\n",
       "      <td>1000</td>\n",
       "      <td>2672942</td>\n",
       "      <td>1263594</td>\n",
       "    </tr>\n",
       "    <tr>\n",
       "      <th>1</th>\n",
       "      <td>Music</td>\n",
       "      <td>1250180677</td>\n",
       "      <td>1690562</td>\n",
       "      <td>823953</td>\n",
       "      <td>1000</td>\n",
       "      <td>5578324</td>\n",
       "      <td>3887762</td>\n",
       "    </tr>\n",
       "    <tr>\n",
       "      <th>2</th>\n",
       "      <td>news</td>\n",
       "      <td>1278527159</td>\n",
       "      <td>1839663</td>\n",
       "      <td>703301</td>\n",
       "      <td>999</td>\n",
       "      <td>4013902</td>\n",
       "      <td>2174239</td>\n",
       "    </tr>\n",
       "    <tr>\n",
       "      <th>3</th>\n",
       "      <td>nfl</td>\n",
       "      <td>1315495803</td>\n",
       "      <td>1321473</td>\n",
       "      <td>681162</td>\n",
       "      <td>1000</td>\n",
       "      <td>2230155</td>\n",
       "      <td>908682</td>\n",
       "    </tr>\n",
       "    <tr>\n",
       "      <th>4</th>\n",
       "      <td>leagueoflegends</td>\n",
       "      <td>1324643747</td>\n",
       "      <td>1681668</td>\n",
       "      <td>604216</td>\n",
       "      <td>1000</td>\n",
       "      <td>3810605</td>\n",
       "      <td>2128937</td>\n",
       "    </tr>\n",
       "    <tr>\n",
       "      <th>5</th>\n",
       "      <td>blog</td>\n",
       "      <td>1258479187</td>\n",
       "      <td>362626</td>\n",
       "      <td>580063</td>\n",
       "      <td>244</td>\n",
       "      <td>1472579</td>\n",
       "      <td>1109960</td>\n",
       "    </tr>\n",
       "  </tbody>\n",
       "</table>\n",
       "</div>"
      ],
      "text/plain": [
       "              subr  created_utc    score  num_comments  c_posts      ups  \\\n",
       "0            Games   1321547453  1409348        653297     1000  2672942   \n",
       "1            Music   1250180677  1690562        823953     1000  5578324   \n",
       "2             news   1278527159  1839663        703301      999  4013902   \n",
       "3              nfl   1315495803  1321473        681162     1000  2230155   \n",
       "4  leagueoflegends   1324643747  1681668        604216     1000  3810605   \n",
       "5             blog   1258479187   362626        580063      244  1472579   \n",
       "\n",
       "     downs  \n",
       "0  1263594  \n",
       "1  3887762  \n",
       "2  2174239  \n",
       "3   908682  \n",
       "4  2128937  \n",
       "5  1109960  "
      ]
     },
     "execution_count": 57,
     "metadata": {},
     "output_type": "execute_result"
    }
   ],
   "source": [
    "#because fetch defaults to True, remote table was fetched to ndf.local\n",
    "ndf.local"
   ]
  },
  {
   "cell_type": "markdown",
   "metadata": {},
   "source": [
    "## More flexible querying"
   ]
  },
  {
   "cell_type": "code",
   "execution_count": 50,
   "metadata": {
    "collapsed": false,
    "tags": [
     "worksheet-0"
    ]
   },
   "outputs": [
    {
     "name": "stdout",
     "output_type": "stream",
     "text": [
      "Waiting on bqjob_r20cf8fc2837f8874_0000014e8f452f1c_105 ... (0s) Current status: DONE   \n"
     ]
    }
   ],
   "source": [
    "#execute arbitrary sql commands and return as df and source\n",
    "#note: raw_query does not return a BQDF object\n",
    "querystr = \"\"\"\n",
    "SELECT subr, num_comments, score, c_posts FROM %s  LIMIT 1000\n",
    "\"\"\" %table1\n",
    "df, source = bqdf.raw_query(client, querystr)"
   ]
  },
  {
   "cell_type": "code",
   "execution_count": 51,
   "metadata": {
    "collapsed": false
   },
   "outputs": [
    {
     "data": {
      "text/html": [
       "<div>\n",
       "<table border=\"1\" class=\"dataframe\">\n",
       "  <thead>\n",
       "    <tr style=\"text-align: right;\">\n",
       "      <th></th>\n",
       "      <th>subr</th>\n",
       "      <th>num_comments</th>\n",
       "      <th>score</th>\n",
       "      <th>c_posts</th>\n",
       "    </tr>\n",
       "  </thead>\n",
       "  <tbody>\n",
       "    <tr>\n",
       "      <th>0</th>\n",
       "      <td>Winnipeg</td>\n",
       "      <td>23782</td>\n",
       "      <td>35017</td>\n",
       "      <td>1000</td>\n",
       "    </tr>\n",
       "    <tr>\n",
       "      <th>1</th>\n",
       "      <td>winterporn</td>\n",
       "      <td>1858</td>\n",
       "      <td>61256</td>\n",
       "      <td>1000</td>\n",
       "    </tr>\n",
       "    <tr>\n",
       "      <th>2</th>\n",
       "      <td>wisconsin</td>\n",
       "      <td>24893</td>\n",
       "      <td>71500</td>\n",
       "      <td>999</td>\n",
       "    </tr>\n",
       "    <tr>\n",
       "      <th>3</th>\n",
       "      <td>woahdude</td>\n",
       "      <td>126829</td>\n",
       "      <td>2089822</td>\n",
       "      <td>1000</td>\n",
       "    </tr>\n",
       "    <tr>\n",
       "      <th>4</th>\n",
       "      <td>women</td>\n",
       "      <td>12128</td>\n",
       "      <td>63478</td>\n",
       "      <td>1000</td>\n",
       "    </tr>\n",
       "  </tbody>\n",
       "</table>\n",
       "</div>"
      ],
      "text/plain": [
       "         subr  num_comments    score  c_posts\n",
       "0    Winnipeg         23782    35017     1000\n",
       "1  winterporn          1858    61256     1000\n",
       "2   wisconsin         24893    71500      999\n",
       "3    woahdude        126829  2089822     1000\n",
       "4       women         12128    63478     1000"
      ]
     },
     "execution_count": 51,
     "metadata": {},
     "output_type": "execute_result"
    }
   ],
   "source": [
    "df.head()"
   ]
  },
  {
   "cell_type": "code",
   "execution_count": 52,
   "metadata": {
    "collapsed": false,
    "tags": [
     "worksheet-0"
    ]
   },
   "outputs": [
    {
     "name": "stdout",
     "output_type": "stream",
     "text": [
      "durable-footing-95814:_7f939837d73fe18145c1d220d8cea862f339ce2f.anona2dafbb18ce408e7080759002199b8e1936d5c0b\n"
     ]
    }
   ],
   "source": [
    "tablename=util.stringify(source)\n",
    "print tablename"
   ]
  },
  {
   "cell_type": "code",
   "execution_count": 53,
   "metadata": {
    "collapsed": false,
    "tags": [
     "worksheet-0"
    ]
   },
   "outputs": [],
   "source": [
    "#raw_query returns just a dataframe and a source reference, but we can make a BQDF instance pointing to the source\n",
    "tdf = bqdf.BQDF(client, '[%s]' %tablename)"
   ]
  },
  {
   "cell_type": "code",
   "execution_count": 54,
   "metadata": {
    "collapsed": false,
    "tags": [
     "worksheet-0"
    ]
   },
   "outputs": [
    {
     "data": {
      "text/plain": [
       "[u'subr', u'num_comments', u'score', u'c_posts']"
      ]
     },
     "execution_count": 54,
     "metadata": {},
     "output_type": "execute_result"
    }
   ],
   "source": [
    "tdf.columns"
   ]
  },
  {
   "cell_type": "markdown",
   "metadata": {},
   "source": [
    "##Plotting"
   ]
  },
  {
   "cell_type": "code",
   "execution_count": 38,
   "metadata": {
    "collapsed": false,
    "tags": [
     "worksheet-0"
    ]
   },
   "outputs": [
    {
     "name": "stdout",
     "output_type": "stream",
     "text": [
      "Waiting on bqjob_r62f38293a4984ef2_0000014e99f1ee79_38 ... (0s) Current status: DONE   \n",
      "query saved to durable-footing-95814:_7f939837d73fe18145c1d220d8cea862f339ce2f.anon36e7f3abd5f3e59a7e49ae26512d67fd60492e4b\n",
      "returning head only\n",
      "Waiting on bqjob_r40a5a1858442ec69_0000014e99f1f1fd_39 ... (0s) Current status: DONE   \n",
      "Waiting on bqjob_r157f128fc2059060_0000014e99f1f59c_40 ... (0s) Current status: DONE   \n",
      "Waiting on bqjob_r6033d4561cc07c7b_0000014e99f1fdd4_41 ... (0s) Current status: DONE   \n",
      "query saved to durable-footing-95814:_7f939837d73fe18145c1d220d8cea862f339ce2f.anon8782b793d03739e9bd81e37f9a0bc0e1622e0484\n",
      "returning head only\n",
      "Waiting on bqjob_r3c16e4c18a0df7aa_0000014e99f205a9_42 ... (0s) Current status: DONE   \n",
      "Waiting on bqjob_r7bd48825b589ee23_0000014e99f208f0_43 ... (0s) Current status: DONE   \n",
      "Waiting on bqjob_r6b7fc597082513e1_0000014e99f21542_44 ... (0s) Current status: DONE   \n",
      "Waiting on bqjob_r3c49f23ba44da7c9_0000014e99f21fd5_45 ... (0s) Current status: DONE   \n",
      "Waiting on bqjob_r70e45e4ad1b2111e_0000014e99f227fa_46 ... (0s) Current status: DONE   \n"
     ]
    },
    {
     "data": {
      "image/png": "[encoded data removed]",
      "text/plain": [
       "<matplotlib.figure.Figure at 0x109b2a910>"
      ]
     },
     "metadata": {},
     "output_type": "display_data"
    }
   ],
   "source": [
    "#create a histogram of a column's values\n",
    "histdf=df1['score'].hist(bins=100)"
   ]
  },
  {
   "cell_type": "code",
   "execution_count": 39,
   "metadata": {
    "collapsed": false,
    "tags": [
     "worksheet-0"
    ]
   },
   "outputs": [
    {
     "name": "stdout",
     "output_type": "stream",
     "text": [
      "Waiting on bqjob_r4241000db4cf6f9_0000014e99f249b1_47 ... (0s) Current status: DONE   \n",
      "Waiting on bqjob_r26d0284dbcf0b787_0000014e99f25217_48 ... (0s) Current status: DONE   \n",
      "Waiting on bqjob_r4db1b61142d1180b_0000014e99f259e0_49 ... (0s) Current status: DONE   \n"
     ]
    },
    {
     "data": {
      "text/plain": [
       "<matplotlib.axes._subplots.AxesSubplot at 0x109c85090>"
      ]
     },
     "execution_count": 39,
     "metadata": {},
     "output_type": "execute_result"
    },
    {
     "data": {
      "image/png": "[encoded data removed]",
      "text/plain": [
       "<matplotlib.figure.Figure at 0x109c254d0>"
      ]
     },
     "metadata": {},
     "output_type": "display_data"
    }
   ],
   "source": [
    "#create a simple plot (mean +/- 1 SEM) of value_col, broken down by grouping_col\n",
    "value_col='score'\n",
    "grouping_col='c_posts'\n",
    "df1.plot(grouping_col, value_col, kind='bar')"
   ]
  },
  {
   "cell_type": "code",
   "execution_count": 92,
   "metadata": {
    "collapsed": false
   },
   "outputs": [
    {
     "name": "stdout",
     "output_type": "stream",
     "text": [
      "Waiting on bqjob_r290ec64add5d7e21_0000014e911088c3_161 ... (0s) Current status: DONE   \n"
     ]
    },
    {
     "data": {
      "image/png": "[encoded data removed]",
      "text/plain": [
       "<matplotlib.figure.Figure at 0x10a9a8f10>"
      ]
     },
     "metadata": {},
     "output_type": "display_data"
    }
   ],
   "source": [
    "#create scatter plot of x vs. y (since bins > total number of datapoints, will plot all data)\n",
    "scatterseries=df1.scatter('num_comments', 'score', bins=5000)"
   ]
  },
  {
   "cell_type": "code",
   "execution_count": 163,
   "metadata": {
    "collapsed": false
   },
   "outputs": [
    {
     "name": "stdout",
     "output_type": "stream",
     "text": [
      "Waiting on bqjob_r58a74d50c6330cf8_0000014e92982c9f_529 ... (0s) Current status: DONE   \n",
      "Waiting on bqjob_r40cba86ef3d62957_0000014e929844bc_532 ... (0s) Current status: DONE   \n",
      "Waiting on bqjob_r6ccc16a7deb53d8b_0000014e92985a06_535 ... (0s) Current status: DONE   \n"
     ]
    },
    {
     "data": {
      "image/png": "[encoded data removed]",
      "text/plain": [
       "<matplotlib.figure.Figure at 0x10c9f02d0>"
      ]
     },
     "metadata": {},
     "output_type": "display_data"
    }
   ],
   "source": [
    "#create a downsampled scatter plot of x vs. y\n",
    "plotdf=df1.scatter('num_comments', 'score', bins=200)"
   ]
  },
  {
   "cell_type": "code",
   "execution_count": 168,
   "metadata": {
    "collapsed": false
   },
   "outputs": [],
   "source": [
    "pd.read_csv?"
   ]
  },
  {
   "cell_type": "code",
   "execution_count": 173,
   "metadata": {
    "collapsed": false
   },
   "outputs": [
    {
     "data": {
      "text/html": [
       "<div>\n",
       "<table border=\"1\" class=\"dataframe\">\n",
       "  <thead>\n",
       "    <tr style=\"text-align: right;\">\n",
       "      <th></th>\n",
       "      <th>date</th>\n",
       "      <th>Unnamed: 1</th>\n",
       "      <th>user</th>\n",
       "      <th>Unnamed: 3</th>\n",
       "      <th>query</th>\n",
       "      <th>Unnamed: 5</th>\n",
       "      <th>destination</th>\n",
       "      <th>Unnamed: 7</th>\n",
       "      <th>jobid</th>\n",
       "      <th>Unnamed: 9</th>\n",
       "      <th>duration_ms</th>\n",
       "      <th>Unnamed: 11</th>\n",
       "      <th>processed_mb</th>\n",
       "      <th>Unnamed: 13</th>\n",
       "      <th>cached</th>\n",
       "      <th>Unnamed: 15</th>\n",
       "      <th>Unnamed: 16</th>\n",
       "    </tr>\n",
       "  </thead>\n",
       "  <tbody>\n",
       "    <tr>\n",
       "      <th>0</th>\n",
       "      <td>2015-07-15 12:39:19.990058</td>\n",
       "      <td>NaN</td>\n",
       "      <td>amy.skerry@gmail.com</td>\n",
       "      <td>NaN</td>\n",
       "      <td>SELECT COUNT(*) FROM [fh-bigquery:reddit.subre...</td>\n",
       "      <td>NaN</td>\n",
       "      <td>durable-footing-95814:_7f939837d73fe18145c1d22...</td>\n",
       "      <td>NaN</td>\n",
       "      <td>durable-footing-95814:bqjob_r4adefad0fcc80c86_...</td>\n",
       "      <td>NaN</td>\n",
       "      <td>0.234</td>\n",
       "      <td>NaN</td>\n",
       "      <td>0.000000</td>\n",
       "      <td>NaN</td>\n",
       "      <td>True</td>\n",
       "      <td>NaN</td>\n",
       "      <td>NaN</td>\n",
       "    </tr>\n",
       "    <tr>\n",
       "      <th>1</th>\n",
       "      <td>2015-07-15 12:39:25.143564</td>\n",
       "      <td>NaN</td>\n",
       "      <td>amy.skerry@gmail.com</td>\n",
       "      <td>NaN</td>\n",
       "      <td>SELECT * FROM [durable-footing-95814:_7f939837...</td>\n",
       "      <td>NaN</td>\n",
       "      <td>durable-footing-95814:_7f939837d73fe18145c1d22...</td>\n",
       "      <td>NaN</td>\n",
       "      <td>durable-footing-95814:bqjob_r6f4f2d092880a867_...</td>\n",
       "      <td>NaN</td>\n",
       "      <td>4.524</td>\n",
       "      <td>NaN</td>\n",
       "      <td>0.000008</td>\n",
       "      <td>NaN</td>\n",
       "      <td>False</td>\n",
       "      <td>NaN</td>\n",
       "      <td>NaN</td>\n",
       "    </tr>\n",
       "    <tr>\n",
       "      <th>2</th>\n",
       "      <td>2015-07-15 12:39:25.876279</td>\n",
       "      <td>NaN</td>\n",
       "      <td>amy.skerry@gmail.com</td>\n",
       "      <td>NaN</td>\n",
       "      <td>SELECT * FROM [durable-footing-95814:_7f939837...</td>\n",
       "      <td>NaN</td>\n",
       "      <td>durable-footing-95814:_7f939837d73fe18145c1d22...</td>\n",
       "      <td>NaN</td>\n",
       "      <td>durable-footing-95814:bqjob_r2a4a8f2694d53f51_...</td>\n",
       "      <td>NaN</td>\n",
       "      <td>0.276</td>\n",
       "      <td>NaN</td>\n",
       "      <td>0.000008</td>\n",
       "      <td>NaN</td>\n",
       "      <td>False</td>\n",
       "      <td>NaN</td>\n",
       "      <td>NaN</td>\n",
       "    </tr>\n",
       "    <tr>\n",
       "      <th>3</th>\n",
       "      <td>2015-07-15 12:39:26.688752</td>\n",
       "      <td>NaN</td>\n",
       "      <td>amy.skerry@gmail.com</td>\n",
       "      <td>NaN</td>\n",
       "      <td>SELECT MAX(num_comments) from [fh-bigquery:red...</td>\n",
       "      <td>NaN</td>\n",
       "      <td>durable-footing-95814:_7f939837d73fe18145c1d22...</td>\n",
       "      <td>NaN</td>\n",
       "      <td>durable-footing-95814:bqjob_r792beeb60d77b3d6_...</td>\n",
       "      <td>NaN</td>\n",
       "      <td>0.244</td>\n",
       "      <td>NaN</td>\n",
       "      <td>0.000000</td>\n",
       "      <td>NaN</td>\n",
       "      <td>True</td>\n",
       "      <td>NaN</td>\n",
       "      <td>NaN</td>\n",
       "    </tr>\n",
       "    <tr>\n",
       "      <th>4</th>\n",
       "      <td>2015-07-15 12:39:28.613983</td>\n",
       "      <td>NaN</td>\n",
       "      <td>amy.skerry@gmail.com</td>\n",
       "      <td>NaN</td>\n",
       "      <td>SELECT * FROM [durable-footing-95814:_7f939837...</td>\n",
       "      <td>NaN</td>\n",
       "      <td>durable-footing-95814:_7f939837d73fe18145c1d22...</td>\n",
       "      <td>NaN</td>\n",
       "      <td>durable-footing-95814:bqjob_r7dc88495f456a25e_...</td>\n",
       "      <td>NaN</td>\n",
       "      <td>0.549</td>\n",
       "      <td>NaN</td>\n",
       "      <td>0.000008</td>\n",
       "      <td>NaN</td>\n",
       "      <td>False</td>\n",
       "      <td>NaN</td>\n",
       "      <td>NaN</td>\n",
       "    </tr>\n",
       "  </tbody>\n",
       "</table>\n",
       "</div>"
      ],
      "text/plain": [
       "                         date  Unnamed: 1                  user  Unnamed: 3  \\\n",
       "0  2015-07-15 12:39:19.990058         NaN  amy.skerry@gmail.com         NaN   \n",
       "1  2015-07-15 12:39:25.143564         NaN  amy.skerry@gmail.com         NaN   \n",
       "2  2015-07-15 12:39:25.876279         NaN  amy.skerry@gmail.com         NaN   \n",
       "3  2015-07-15 12:39:26.688752         NaN  amy.skerry@gmail.com         NaN   \n",
       "4  2015-07-15 12:39:28.613983         NaN  amy.skerry@gmail.com         NaN   \n",
       "\n",
       "                                               query  Unnamed: 5  \\\n",
       "0  SELECT COUNT(*) FROM [fh-bigquery:reddit.subre...         NaN   \n",
       "1  SELECT * FROM [durable-footing-95814:_7f939837...         NaN   \n",
       "2  SELECT * FROM [durable-footing-95814:_7f939837...         NaN   \n",
       "3  SELECT MAX(num_comments) from [fh-bigquery:red...         NaN   \n",
       "4  SELECT * FROM [durable-footing-95814:_7f939837...         NaN   \n",
       "\n",
       "                                         destination  Unnamed: 7  \\\n",
       "0  durable-footing-95814:_7f939837d73fe18145c1d22...         NaN   \n",
       "1  durable-footing-95814:_7f939837d73fe18145c1d22...         NaN   \n",
       "2  durable-footing-95814:_7f939837d73fe18145c1d22...         NaN   \n",
       "3  durable-footing-95814:_7f939837d73fe18145c1d22...         NaN   \n",
       "4  durable-footing-95814:_7f939837d73fe18145c1d22...         NaN   \n",
       "\n",
       "                                               jobid  Unnamed: 9  duration_ms  \\\n",
       "0  durable-footing-95814:bqjob_r4adefad0fcc80c86_...         NaN        0.234   \n",
       "1  durable-footing-95814:bqjob_r6f4f2d092880a867_...         NaN        4.524   \n",
       "2  durable-footing-95814:bqjob_r2a4a8f2694d53f51_...         NaN        0.276   \n",
       "3  durable-footing-95814:bqjob_r792beeb60d77b3d6_...         NaN        0.244   \n",
       "4  durable-footing-95814:bqjob_r7dc88495f456a25e_...         NaN        0.549   \n",
       "\n",
       "   Unnamed: 11  processed_mb  Unnamed: 13 cached  Unnamed: 15  Unnamed: 16  \n",
       "0          NaN      0.000000          NaN   True          NaN          NaN  \n",
       "1          NaN      0.000008          NaN  False          NaN          NaN  \n",
       "2          NaN      0.000008          NaN  False          NaN          NaN  \n",
       "3          NaN      0.000000          NaN   True          NaN          NaN  \n",
       "4          NaN      0.000008          NaN  False          NaN          NaN  "
      ]
     },
     "execution_count": 173,
     "metadata": {},
     "output_type": "execute_result"
    }
   ],
   "source": [
    "x.head()"
   ]
  },
  {
   "cell_type": "code",
   "execution_count": 172,
   "metadata": {
    "collapsed": false
   },
   "outputs": [],
   "source": [
    "x=pd.read_csv('log.csv', delimiter='|')"
   ]
  },
  {
   "cell_type": "markdown",
   "metadata": {},
   "source": [
    "##Misc"
   ]
  },
  {
   "cell_type": "code",
   "execution_count": 108,
   "metadata": {
    "collapsed": false
   },
   "outputs": [
    {
     "data": {
      "text/plain": [
       "['CancelJob',\n",
       " 'ConfigureFormatter',\n",
       " 'ConstructObjectInfo',\n",
       " 'ConstructObjectReference',\n",
       " 'CopyTable',\n",
       " 'CreateDataset',\n",
       " 'CreateTable',\n",
       " 'DatasetExists',\n",
       " 'DeleteDataset',\n",
       " 'DeleteTable',\n",
       " 'ExecuteJob',\n",
       " 'Extract',\n",
       " 'FormatAcl',\n",
       " 'FormatDatasetInfo',\n",
       " 'FormatInfoByKind',\n",
       " 'FormatJobInfo',\n",
       " 'FormatProjectInfo',\n",
       " 'FormatSchema',\n",
       " 'FormatTableInfo',\n",
       " 'FormatTime',\n",
       " 'GetDatasetReference',\n",
       " 'GetDiscoveryUrl',\n",
       " 'GetHttp',\n",
       " 'GetJobReference',\n",
       " 'GetJobTypeName',\n",
       " 'GetObjectInfo',\n",
       " 'GetProjectReference',\n",
       " 'GetQueryResults',\n",
       " 'GetReference',\n",
       " 'GetTableReference',\n",
       " 'GetTableSchema',\n",
       " 'InsertTableRows',\n",
       " 'IsFailedJob',\n",
       " 'ListDatasetRefs',\n",
       " 'ListDatasets',\n",
       " 'ListJobRefs',\n",
       " 'ListJobs',\n",
       " 'ListProjectRefs',\n",
       " 'ListProjects',\n",
       " 'ListTableRefs',\n",
       " 'ListTables',\n",
       " 'Load',\n",
       " 'NormalizeWait',\n",
       " 'PollJob',\n",
       " 'ProcessSources',\n",
       " 'Query',\n",
       " 'QuietWaitPrinter',\n",
       " 'RaiseError',\n",
       " 'RaiseIfJobError',\n",
       " 'ReadSchema',\n",
       " 'ReadSchemaAndJobRows',\n",
       " 'ReadSchemaAndRows',\n",
       " 'RunJobSynchronously',\n",
       " 'RunQuery',\n",
       " 'RunQueryRpc',\n",
       " 'StartJob',\n",
       " 'TableExists',\n",
       " 'TransitionWaitPrinter',\n",
       " 'UpdateDataset',\n",
       " 'UpdateTable',\n",
       " 'ValidatePrintFormat',\n",
       " 'VerboseWaitPrinter',\n",
       " 'WaitJob',\n",
       " 'WaitPrinter',\n",
       " 'WaitPrinterHelper',\n",
       " '_KindToName',\n",
       " '_NormalizeProjectReference',\n",
       " '_ParseIdentifier',\n",
       " '_PrepareListRequest',\n",
       " '_StartQueryRpc',\n",
       " '__class__',\n",
       " '__delattr__',\n",
       " '__dict__',\n",
       " '__doc__',\n",
       " '__format__',\n",
       " '__getattribute__',\n",
       " '__hash__',\n",
       " '__init__',\n",
       " '__module__',\n",
       " '__new__',\n",
       " '__reduce__',\n",
       " '__reduce_ex__',\n",
       " '__repr__',\n",
       " '__setattr__',\n",
       " '__sizeof__',\n",
       " '__str__',\n",
       " '__subclasshook__',\n",
       " '__weakref__',\n",
       " '_apiclient',\n",
       " 'api',\n",
       " 'api_version',\n",
       " 'apiclient',\n",
       " 'credential_file',\n",
       " 'credentials',\n",
       " 'dataset_id',\n",
       " 'discovery_document',\n",
       " 'job_id_generator',\n",
       " 'job_property',\n",
       " 'logging_file',\n",
       " 'max_rows_per_request',\n",
       " 'project_id',\n",
       " 'sync',\n",
       " 'trace',\n",
       " 'wait_printer_factory']"
      ]
     },
     "execution_count": 108,
     "metadata": {},
     "output_type": "execute_result"
    }
   ],
   "source": [
    "dir(client)"
   ]
  },
  {
   "cell_type": "code",
   "execution_count": 69,
   "metadata": {
    "collapsed": true
   },
   "outputs": [],
   "source": [
    "df1.__"
   ]
  },
  {
   "cell_type": "code",
   "execution_count": 22,
   "metadata": {
    "collapsed": false
   },
   "outputs": [
    {
     "data": {
      "text/plain": [
       "1000"
      ]
     },
     "execution_count": 22,
     "metadata": {},
     "output_type": "execute_result"
    }
   ],
   "source": [
    "df1['c_posts'].max()"
   ]
  },
  {
   "cell_type": "code",
   "execution_count": 19,
   "metadata": {
    "collapsed": false
   },
   "outputs": [
    {
     "data": {
      "text/plain": [
       "'c_posts'"
      ]
     },
     "execution_count": 19,
     "metadata": {},
     "output_type": "execute_result"
    }
   ],
   "source": [
    "df1.active_col"
   ]
  },
  {
   "cell_type": "code",
   "execution_count": 40,
   "metadata": {
    "collapsed": false
   },
   "outputs": [
    {
     "name": "stdout",
     "output_type": "stream",
     "text": [
      "fetching from local cache\n",
      "Waiting on bqjob_r44529bbf892c3acf_0000014e99f2f84a_50 ... (0s) Current status: DONE   \n",
      "fetching from local cache\n",
      "Waiting on bqjob_r753202acbb99d95c_0000014e99f2fb91_51 ... (0s) Current status: DONE   \n",
      "query saved to durable-footing-95814:_7f939837d73fe18145c1d220d8cea862f339ce2f.anon890d3b1624b81ee4d1c6ce5b9a77be86afef042a\n",
      "returning head only\n",
      "Waiting on bqjob_r2a283d53197b7fd1_0000014e99f302b3_52 ... (0s) Current status: DONE   \n",
      "Waiting on bqjob_r5adb27092b35d68b_0000014e99f305c6_53 ... (0s) Current status: DONE   \n",
      "Waiting on bqjob_r3925968cc4fcce66_0000014e99f30d67_54 ... (0s) Current status: DONE   \n",
      "query saved to durable-footing-95814:_7f939837d73fe18145c1d220d8cea862f339ce2f.anon1ac174bbfb0a6e95deaed728b07e8d3bf7d26b8f\n",
      "returning head only\n",
      "Waiting on bqjob_r5a665ca29e94c008_0000014e99f3150c_55 ... (0s) Current status: DONE   \n",
      "Waiting on bqjob_r5776cd4e888e6f10_0000014e99f31a07_56 ... (0s) Current status: DONE   \n",
      "Waiting on bqjob_r3b9f50693fb5d9f2_0000014e99f31d48_57 ... (1s) Current status: DONE   \n",
      "Waiting on bqjob_r2a834f1b9426e59b_0000014e99f32cab_58 ... (0s) Current status: DONE   \n",
      "Waiting on bqjob_r62b1a1260b481549_0000014e99f334a5_59 ... (0s) Current status: DONE   \n",
      "Waiting on bqjob_r5599bd5919d82e9a_0000014e99f33e77_60 ... (2s) Current status: DONE   \n",
      "Waiting on bqjob_r791090a42e1fcc56_0000014e99f3535e_61 ... (0s) Current status: DONE   \n",
      "Waiting on bqjob_r3c2e35ab6e9d05b8_0000014e99f35b85_62 ... (0s) Current status: DONE   \n",
      "Waiting on bqjob_r43d635f2c9a0cff1_0000014e99f36495_63 ... (0s) Current status: DONE   \n",
      "Waiting on bqjob_r12bc45b95f003ccf_0000014e99f36f6b_64 ... (0s) Current status: DONE   \n",
      "Waiting on bqjob_r2dfa8cfae58f32a8_0000014e99f37706_65 ... (0s) Current status: DONE   \n"
     ]
    },
    {
     "data": {
      "image/png": "[encoded data removed]",
      "text/plain": [
       "<matplotlib.figure.Figure at 0x109bb6a10>"
      ]
     },
     "metadata": {},
     "output_type": "display_data"
    }
   ],
   "source": [
    "scatterseries=df1.scatter('c_posts', 'score')"
   ]
  },
  {
   "cell_type": "code",
   "execution_count": 51,
   "metadata": {
    "collapsed": false
   },
   "outputs": [
    {
     "data": {
      "image/png": "[encoded data removed]",
      "text/plain": [
       "<matplotlib.figure.Figure at 0x10a4eec10>"
      ]
     },
     "metadata": {},
     "output_type": "display_data"
    }
   ],
   "source": [
    "series=plot_scatter(scatterdf, 'c_posts', 'score')"
   ]
  },
  {
   "cell_type": "code",
   "execution_count": 59,
   "metadata": {
    "collapsed": true
   },
   "outputs": [],
   "source": [
    "plot_scatter?"
   ]
  },
  {
   "cell_type": "code",
   "execution_count": 62,
   "metadata": {
    "collapsed": false
   },
   "outputs": [
    {
     "data": {
      "text/plain": [
       "<code object plot_scatter at 0x109f927b0, file \"<ipython-input-49-eb5bdebb588f>\", line 1>"
      ]
     },
     "execution_count": 62,
     "metadata": {},
     "output_type": "execute_result"
    }
   ],
   "source": [
    "plot_scatter.func_code"
   ]
  },
  {
   "cell_type": "code",
   "execution_count": 21,
   "metadata": {
    "collapsed": false
   },
   "outputs": [],
   "source": [
    "x=df1._limit_columns(['score', 'created_utc'])"
   ]
  },
  {
   "cell_type": "code",
   "execution_count": 42,
   "metadata": {
    "collapsed": true
   },
   "outputs": [],
   "source": [
    "service=util.get_service()"
   ]
  },
  {
   "cell_type": "code",
   "execution_count": 41,
   "metadata": {
    "collapsed": false
   },
   "outputs": [
    {
     "name": "stderr",
     "output_type": "stream",
     "text": [
      "[autoreload of pybq.bqdf failed: Traceback (most recent call last):\n",
      "  File \"/usr/local/lib/python2.7/site-packages/IPython/extensions/autoreload.py\", line 247, in check\n",
      "    superreload(m, reload, self.old_objects)\n",
      "NameError: name 'max_rows' is not defined\n",
      "]\n"
     ]
    },
    {
     "ename": "AttributeError",
     "evalue": "'BigqueryClient' object has no attribute 'projects'",
     "output_type": "error",
     "traceback": [
      "\u001b[0;31m---------------------------------------------------------------------------\u001b[0m",
      "\u001b[0;31mAttributeError\u001b[0m                            Traceback (most recent call last)",
      "\u001b[0;32m<ipython-input-41-2ac2c5c8a85e>\u001b[0m in \u001b[0;36m<module>\u001b[0;34m()\u001b[0m\n\u001b[0;32m----> 1\u001b[0;31m \u001b[0mclient\u001b[0m\u001b[0;34m.\u001b[0m\u001b[0mprojects\u001b[0m\u001b[0;34m(\u001b[0m\u001b[0;34m)\u001b[0m\u001b[0;34m\u001b[0m\u001b[0m\n\u001b[0m",
      "\u001b[0;31mAttributeError\u001b[0m: 'BigqueryClient' object has no attribute 'projects'"
     ]
    }
   ],
   "source": [
    "client.projects()"
   ]
  },
  {
   "cell_type": "code",
   "execution_count": 49,
   "metadata": {
    "collapsed": false
   },
   "outputs": [],
   "source": [
    "client.ListDatasets?"
   ]
  },
  {
   "cell_type": "code",
   "execution_count": 44,
   "metadata": {
    "collapsed": true
   },
   "outputs": [],
   "source": [
    "client.CopyTable?"
   ]
  },
  {
   "cell_type": "code",
   "execution_count": 46,
   "metadata": {
    "collapsed": false
   },
   "outputs": [
    {
     "data": {
      "text/plain": [
       "'https://www.googleapis.com/discovery/v1/apis/{api}/{apiVersion}/rest'"
      ]
     },
     "execution_count": 46,
     "metadata": {},
     "output_type": "execute_result"
    }
   ],
   "source": [
    "client.GetDiscoveryUrl()"
   ]
  },
  {
   "cell_type": "code",
   "execution_count": 13,
   "metadata": {
    "collapsed": false
   },
   "outputs": [],
   "source": [
    "client.trace"
   ]
  },
  {
   "cell_type": "code",
   "execution_count": null,
   "metadata": {
    "collapsed": true
   },
   "outputs": [],
   "source": []
  }
 ],
 "metadata": {
  "kernelspec": {
   "display_name": "Python 2",
   "language": "python",
   "name": "python2"
  },
  "language_info": {
   "codemirror_mode": {
    "name": "ipython",
    "version": 2
   },
   "file_extension": ".py",
   "mimetype": "text/x-python",
   "name": "python",
   "nbconvert_exporter": "python",
   "pygments_lexer": "ipython2",
   "version": "2.7.6"
  },
  "name": "bq_template.ipynb"
 },
 "nbformat": 4,
 "nbformat_minor": 0
}
