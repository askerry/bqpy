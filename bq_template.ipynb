{
 "cells": [
  {
   "cell_type": "code",
   "execution_count": 1,
   "metadata": {
    "collapsed": false
   },
   "outputs": [
    {
     "name": "stdout",
     "output_type": "stream",
     "text": [
      "Populating the interactive namespace from numpy and matplotlib\n"
     ]
    }
   ],
   "source": [
    "pylab inline"
   ]
  },
  {
   "cell_type": "code",
   "execution_count": 2,
   "metadata": {
    "collapsed": false
   },
   "outputs": [],
   "source": [
    "import pandas as pd\n",
    "import matplotlib.pyplot as plt\n",
    "import numpy as np\n",
    "import seaborn as sns\n",
    "sns.set_style('white')\n",
    "import sys\n",
    "sys.path.append('/users/amyskerry/documents/projects/aesutil')\n",
    "import bigquery.db as bqdb"
   ]
  },
  {
   "cell_type": "code",
   "execution_count": 3,
   "metadata": {
    "collapsed": true
   },
   "outputs": [],
   "source": [
    "#connect to project via project_id\n",
    "project_id = 'durable-footing-95814'\n",
    "client = bqdb.bigquery_connect(project_id=project_id)"
   ]
  },
  {
   "cell_type": "code",
   "execution_count": 4,
   "metadata": {
    "collapsed": true
   },
   "outputs": [],
   "source": [
    "tablename = '[bigquery-samples:airline_ontime_data.flights]' #format: project:dataset.tablename\n",
    "#if dataset in current project_id, just dataset.tablename"
   ]
  },
  {
   "cell_type": "code",
   "execution_count": 5,
   "metadata": {
    "collapsed": false
   },
   "outputs": [
    {
     "name": "stdout",
     "output_type": "stream",
     "text": [
      "Waiting on bqjob_r5daf3523c0db5bea_0000014e2aeb236a_1 ... (0s) Current status: DONE   \n"
     ]
    }
   ],
   "source": [
    "#execute arbitrary sql commands and return as df\n",
    "querystr = \"\"\"\n",
    "SELECT date, departure_state, AVG(departure_delay) avg , COUNT(*) c\n",
    "FROM %s \n",
    "WHERE departure_state = 'NY'\n",
    "GROUP BY 1,2 HAVING c > 5\n",
    "ORDER BY 1 LIMIT 1000\n",
    "\"\"\" %tablename\n",
    "df = bqdb.bigquery_query(querystr, client)"
   ]
  },
  {
   "cell_type": "code",
   "execution_count": 5,
   "metadata": {
    "collapsed": false
   },
   "outputs": [],
   "source": [
    "#create bqdb table connection\n",
    "bqdf = bqdb.BQDF(client, tablename)"
   ]
  },
  {
   "cell_type": "code",
   "execution_count": 7,
   "metadata": {
    "collapsed": false
   },
   "outputs": [
    {
     "name": "stdout",
     "output_type": "stream",
     "text": [
      "Waiting on bqjob_r61365ce420b5c240_0000014e2aeb29e9_2 ... (0s) Current status: DONE   \n"
     ]
    },
    {
     "data": {
      "text/plain": [
       "[u'date',\n",
       " u'airline',\n",
       " u'airline_code',\n",
       " u'departure_airport',\n",
       " u'departure_state',\n",
       " u'departure_lat',\n",
       " u'departure_lon',\n",
       " u'arrival_airport',\n",
       " u'arrival_state',\n",
       " u'arrival_lat',\n",
       " u'arrival_lon',\n",
       " u'departure_schedule',\n",
       " u'departure_actual',\n",
       " u'departure_delay',\n",
       " u'arrival_schedule',\n",
       " u'arrival_actual',\n",
       " u'arrival_delay']"
      ]
     },
     "execution_count": 7,
     "metadata": {},
     "output_type": "execute_result"
    }
   ],
   "source": [
    "# view columns\n",
    "bqdf.col_names"
   ]
  },
  {
   "cell_type": "code",
   "execution_count": 8,
   "metadata": {
    "collapsed": false
   },
   "outputs": [
    {
     "name": "stdout",
     "output_type": "stream",
     "text": [
      "Waiting on bqjob_r11c2c447a4faa149_0000014e2aeb2c72_3 ... (0s) Current status: DONE   \n",
      "Table Schema for [bigquery-samples:airline_ontime_data.flights]\n",
      "date (STRING) :   mode-NULLABLE\n",
      "airline (STRING) :   mode-NULLABLE\n",
      "airline_code (STRING) :   mode-NULLABLE\n",
      "departure_airport (STRING) :   mode-NULLABLE\n",
      "departure_state (STRING) :   mode-NULLABLE\n",
      "departure_lat (FLOAT) :   mode-NULLABLE\n",
      "departure_lon (FLOAT) :   mode-NULLABLE\n",
      "arrival_airport (STRING) :   mode-NULLABLE\n",
      "arrival_state (STRING) :   mode-NULLABLE\n",
      "arrival_lat (FLOAT) :   mode-NULLABLE\n",
      "arrival_lon (FLOAT) :   mode-NULLABLE\n",
      "departure_schedule (INTEGER) :   mode-NULLABLE\n",
      "departure_actual (INTEGER) :   mode-NULLABLE\n",
      "departure_delay (FLOAT) :   mode-NULLABLE\n",
      "arrival_schedule (INTEGER) :   mode-NULLABLE\n",
      "arrival_actual (INTEGER) :   mode-NULLABLE\n",
      "arrival_delay (FLOAT) :   mode-NULLABLE\n"
     ]
    }
   ],
   "source": [
    "# view schema details\n",
    "bqdf.table_schema"
   ]
  },
  {
   "cell_type": "code",
   "execution_count": 9,
   "metadata": {
    "collapsed": false
   },
   "outputs": [
    {
     "name": "stdout",
     "output_type": "stream",
     "text": [
      "Waiting on bqjob_r5b2f31eb7910a539_0000014e2aeb2ffe_4 ... (0s) Current status: DONE   \n"
     ]
    },
    {
     "data": {
      "text/plain": [
       "70588485"
      ]
     },
     "execution_count": 9,
     "metadata": {},
     "output_type": "execute_result"
    }
   ],
   "source": [
    "#number of rows\n",
    "bqdf.table_length"
   ]
  },
  {
   "cell_type": "code",
   "execution_count": 10,
   "metadata": {
    "collapsed": false
   },
   "outputs": [
    {
     "name": "stdout",
     "output_type": "stream",
     "text": [
      "SELECT departure_state FROM [bigquery-samples:airline_ontime_data.flights] GROUP BY departure_state\n",
      "Waiting on bqjob_r69d9e8958f7ec472_0000014e2aeb3bac_5 ... (0s) Current status: DONE   \n"
     ]
    },
    {
     "data": {
      "text/plain": [
       "array(['VA', 'PA', 'NC', 'TX', 'IN', 'DE', 'FL', 'NY', 'AR', 'MS', 'OK',\n",
       "       'MI', 'IL', 'NH', 'CA', 'NJ', 'LA', 'WI', 'AZ', 'NM', 'ID', 'KY',\n",
       "       'OH', 'CO', 'HI', 'MO', 'AK', 'CT', 'UT', 'NV', 'PR', 'GA', 'TN',\n",
       "       'MN', 'MD', 'IA', 'MA', 'OR', 'NE', 'WA', 'AL', 'KS', 'SC', 'VT',\n",
       "       'RI', 'MT', 'ND', 'WY', 'SD', 'WV', 'VI', 'ME', 'TT'], dtype=object)"
      ]
     },
     "execution_count": 10,
     "metadata": {},
     "output_type": "execute_result"
    }
   ],
   "source": [
    "bqdf.unique('departure_state')"
   ]
  },
  {
   "cell_type": "code",
   "execution_count": 11,
   "metadata": {
    "collapsed": false
   },
   "outputs": [
    {
     "name": "stdout",
     "output_type": "stream",
     "text": [
      "Waiting on bqjob_r4cdec1baaec371f0_0000014e2aeb3f56_6 ... (0s) Current status: DONE   \n"
     ]
    },
    {
     "data": {
      "image/png": "[encoded data removed]",
      "text/plain": [
       "<matplotlib.figure.Figure at 0x112c61fd0>"
      ]
     },
     "metadata": {},
     "output_type": "display_data"
    }
   ],
   "source": [
    "countdf=bqdf.hist('departure_delay')"
   ]
  },
  {
   "cell_type": "code",
   "execution_count": 7,
   "metadata": {
    "collapsed": false
   },
   "outputs": [
    {
     "name": "stdout",
     "output_type": "stream",
     "text": [
      "Waiting on bqjob_r30e95fca8d19a51e_0000014e2aed40fe_2 ... (0s) Current status: DONE   \n",
      "truncating to median +/- 0.5 * STD\n"
     ]
    },
    {
     "data": {
      "image/png": "[encoded data removed]",
      "text/plain": [
       "<matplotlib.figure.Figure at 0x10c675610>"
      ]
     },
     "metadata": {},
     "output_type": "display_data"
    }
   ],
   "source": [
    "countdf=bqdf.hist('departure_delay', truncate=.5)"
   ]
  },
  {
   "cell_type": "code",
   "execution_count": 13,
   "metadata": {
    "collapsed": false
   },
   "outputs": [
    {
     "name": "stdout",
     "output_type": "stream",
     "text": [
      "Waiting on bqjob_r7afe5af5127a0233_0000014e2af45a4f_8 ... (0s) Current status: DONE   \n",
      "truncating to median +/- 1 * STD\n",
      "subsampling at intervals of 6\n"
     ]
    },
    {
     "data": {
      "image/png": "[encoded data removed]",
      "text/plain": [
       "<matplotlib.figure.Figure at 0x10d192d90>"
      ]
     },
     "metadata": {},
     "output_type": "display_data"
    }
   ],
   "source": [
    "countdf=bqdf.hist('departure_delay', truncate=1, subsample=200)"
   ]
  },
  {
   "cell_type": "code",
   "execution_count": 7,
   "metadata": {
    "collapsed": false
   },
   "outputs": [
    {
     "name": "stdout",
     "output_type": "stream",
     "text": [
      "SELECT departure_state, COUNT(*) count, MIN(departure_delay) departure_delay_min , AVG(departure_delay) departure_delay_mean  FROM [bigquery-samples:airline_ontime_data.flights] GROUP BY departure_state LIMIT 10000\n",
      "Waiting on bqjob_r4515891cb730f2ba_0000014e2e77b80f_2 ... (0s) Current status: DONE   \n"
     ]
    }
   ],
   "source": [
    "groupdf=bqdf.groupby('departure_state', [('departure_delay','min'), ('departure_delay','mean')])"
   ]
  },
  {
   "cell_type": "code",
   "execution_count": null,
   "metadata": {
    "collapsed": true
   },
   "outputs": [],
   "source": []
  }
 ],
 "metadata": {
  "kernelspec": {
   "display_name": "Python 2",
   "language": "python",
   "name": "python2"
  },
  "language_info": {
   "codemirror_mode": {
    "name": "ipython",
    "version": 2
   },
   "file_extension": ".py",
   "mimetype": "text/x-python",
   "name": "python",
   "nbconvert_exporter": "python",
   "pygments_lexer": "ipython2",
   "version": "2.7.6"
  }
 },
 "nbformat": 4,
 "nbformat_minor": 0
}
