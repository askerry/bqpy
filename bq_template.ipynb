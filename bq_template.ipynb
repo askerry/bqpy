{
 "cells": [
  {
   "cell_type": "code",
   "execution_count": 1,
   "metadata": {
    "collapsed": false,
    "tags": [
     "worksheet-0"
    ]
   },
   "outputs": [
    {
     "name": "stdout",
     "output_type": "stream",
     "text": [
      "Populating the interactive namespace from numpy and matplotlib\n"
     ]
    }
   ],
   "source": [
    "pylab inline"
   ]
  },
  {
   "cell_type": "code",
   "execution_count": 2,
   "metadata": {
    "collapsed": false,
    "tags": [
     "worksheet-0"
    ]
   },
   "outputs": [],
   "source": [
    "%load_ext autoreload"
   ]
  },
  {
   "cell_type": "code",
   "execution_count": 3,
   "metadata": {
    "collapsed": false,
    "tags": [
     "worksheet-0"
    ]
   },
   "outputs": [],
   "source": [
    "% autoreload 2"
   ]
  },
  {
   "cell_type": "code",
   "execution_count": 7,
   "metadata": {
    "collapsed": false,
    "tags": [
     "worksheet-0"
    ]
   },
   "outputs": [],
   "source": [
    "import pandas as pd\n",
    "import matplotlib.pyplot as plt\n",
    "import numpy as np\n",
    "import seaborn as sns\n",
    "sns.set_style('white')\n",
    "import sys\n",
    "sys.path.append('/users/amyskerry/documents/projects')\n",
    "from pybq import core, util, bqdf"
   ]
  },
  {
   "cell_type": "code",
   "execution_count": 8,
   "metadata": {
    "collapsed": false,
    "tags": [
     "worksheet-0"
    ]
   },
   "outputs": [],
   "source": [
    "#connect to project via project_id\n",
    "project_id = 'durable-footing-95814'\n",
    "client = core.bigquery_connect(project_id=project_id)"
   ]
  },
  {
   "cell_type": "code",
   "execution_count": 9,
   "metadata": {
    "collapsed": false,
    "tags": [
     "worksheet-0"
    ]
   },
   "outputs": [],
   "source": [
    "tablename = '[fh-bigquery:reddit.subreddits]' #format: project:dataset.tablename\n",
    "#if dataset in current project_id, just dataset.tablename"
   ]
  },
  {
   "cell_type": "markdown",
   "metadata": {
    "collapsed": true,
    "tags": [
     "worksheet-0"
    ]
   },
   "source": [
    "# Dataframe-ish abstraction for bigquery table"
   ]
  },
  {
   "cell_type": "code",
   "execution_count": 10,
   "metadata": {
    "collapsed": false,
    "tags": [
     "worksheet-0"
    ]
   },
   "outputs": [],
   "source": [
    "#create bqdb table connection\n",
    "df1 = bqdf.BQDF(client, tablename)\n",
    "df2 = bqdf.BQDF(client, '[fh-bigquery:reddit.top20]')"
   ]
  },
  {
   "cell_type": "code",
   "execution_count": 11,
   "metadata": {
    "collapsed": false,
    "tags": [
     "worksheet-0"
    ]
   },
   "outputs": [
    {
     "data": {
      "text/plain": [
       "[u'subr',\n u'created_utc',\n u'score',\n u'num_comments',\n u'c_posts',\n u'ups',\n u'downs']"
      ]
     },
     "execution_count": 11,
     "metadata": {},
     "output_type": "execute_result"
    }
   ],
   "source": [
    "# view columns\n",
    "df1.col_names"
   ]
  },
  {
   "cell_type": "code",
   "execution_count": 9,
   "metadata": {
    "collapsed": false,
    "tags": [
     "worksheet-0"
    ]
   },
   "outputs": [
    {
     "data": {
      "text/plain": [
       "[{u'mode': u'NULLABLE', u'name': u'subr', u'type': u'STRING'},\n",
       " {u'mode': u'NULLABLE', u'name': u'created_utc', u'type': u'TIMESTAMP'},\n",
       " {u'mode': u'NULLABLE', u'name': u'score', u'type': u'INTEGER'},\n",
       " {u'mode': u'NULLABLE', u'name': u'num_comments', u'type': u'INTEGER'},\n",
       " {u'mode': u'NULLABLE', u'name': u'c_posts', u'type': u'INTEGER'},\n",
       " {u'mode': u'NULLABLE', u'name': u'ups', u'type': u'INTEGER'},\n",
       " {u'mode': u'NULLABLE', u'name': u'downs', u'type': u'INTEGER'}]"
      ]
     },
     "execution_count": 9,
     "metadata": {},
     "output_type": "execute_result"
    },
    {
     "name": "stdout",
     "output_type": "stream",
     "text": [
      "Table Schema for [fh-bigquery:reddit.subreddits]\n",
      "subr (STRING) :   mode-NULLABLE\n",
      "created_utc (TIMESTAMP) :   mode-NULLABLE\n",
      "score (INTEGER) :   mode-NULLABLE\n",
      "num_comments (INTEGER) :   mode-NULLABLE\n",
      "c_posts (INTEGER) :   mode-NULLABLE\n",
      "ups (INTEGER) :   mode-NULLABLE\n",
      "downs (INTEGER) :   mode-NULLABLE\n"
     ]
    }
   ],
   "source": [
    "# view schema details\n",
    "df1.table_schema"
   ]
  },
  {
   "cell_type": "code",
   "execution_count": 10,
   "metadata": {
    "collapsed": false,
    "tags": [
     "worksheet-0"
    ]
   },
   "outputs": [
    {
     "data": {
      "text/plain": [
       "2499"
      ]
     },
     "execution_count": 10,
     "metadata": {},
     "output_type": "execute_result"
    }
   ],
   "source": [
    "#number of rows\n",
    "df1.table_length"
   ]
  },
  {
   "cell_type": "code",
   "execution_count": 11,
   "metadata": {
    "collapsed": false,
    "tags": [
     "worksheet-0"
    ]
   },
   "outputs": [
    {
     "data": {
      "text/plain": [
       "array(['Winnipeg', 'winterporn', 'wisconsin', ..., 'windowshots',\n",
       "       'windowsphone', 'wine'], dtype=object)"
      ]
     },
     "execution_count": 11,
     "metadata": {},
     "output_type": "execute_result"
    },
    {
     "name": "stdout",
     "output_type": "stream",
     "text": [
      "SELECT subr FROM [fh-bigquery:reddit.subreddits] GROUP BY subr\n"
     ]
    }
   ],
   "source": [
    "df1.unique('subr')"
   ]
  },
  {
   "cell_type": "code",
   "execution_count": 14,
   "metadata": {
    "collapsed": false,
    "tags": [
     "worksheet-0"
    ]
   },
   "outputs": [
    {
     "data": {
      "text/plain": [
       "388468674"
      ]
     },
     "execution_count": 14,
     "metadata": {},
     "output_type": "execute_result"
    }
   ],
   "source": [
    "df1.sum('score')"
   ]
  },
  {
   "cell_type": "code",
   "execution_count": 15,
   "metadata": {
    "collapsed": false,
    "tags": [
     "worksheet-0"
    ]
   },
   "outputs": [
    {
     "data": {
      "text/plain": [
       "155449.64945978392"
      ]
     },
     "execution_count": 15,
     "metadata": {},
     "output_type": "execute_result"
    }
   ],
   "source": [
    "df1.mean('score')"
   ]
  },
  {
   "cell_type": "code",
   "execution_count": 16,
   "metadata": {
    "collapsed": false,
    "tags": [
     "worksheet-0"
    ]
   },
   "outputs": [
    {
     "data": {
      "text/plain": [
       "349534.8891608803"
      ]
     },
     "execution_count": 16,
     "metadata": {},
     "output_type": "execute_result"
    }
   ],
   "source": [
    "df1.std('score')"
   ]
  },
  {
   "cell_type": "code",
   "execution_count": 17,
   "metadata": {
    "collapsed": false,
    "tags": [
     "worksheet-0"
    ]
   },
   "outputs": [
    {
     "data": {
      "text/plain": [
       "2"
      ]
     },
     "execution_count": 17,
     "metadata": {},
     "output_type": "execute_result"
    }
   ],
   "source": [
    "df1.mode('score')"
   ]
  },
  {
   "cell_type": "code",
   "execution_count": 18,
   "metadata": {
    "collapsed": false,
    "tags": [
     "worksheet-0"
    ]
   },
   "outputs": [
    {
     "data": {
      "text/plain": [
       "3752388"
      ]
     },
     "execution_count": 18,
     "metadata": {},
     "output_type": "execute_result"
    }
   ],
   "source": [
    "df1.max('score')"
   ]
  },
  {
   "cell_type": "code",
   "execution_count": 19,
   "metadata": {
    "collapsed": false,
    "tags": [
     "worksheet-0"
    ]
   },
   "outputs": [
    {
     "name": "stdout",
     "output_type": "stream",
     "text": [
      "SELECT * FROM [fh-bigquery:reddit.subreddits] df1 inner JOIN [fh-bigquery:reddit.top20] df2 ON df1.subr=df2.subr\n"
     ]
    }
   ],
   "source": [
    "merged=df1.join(df2, on='subr', how='inner')"
   ]
  },
  {
   "cell_type": "code",
   "execution_count": 20,
   "metadata": {
    "collapsed": false,
    "tags": [
     "worksheet-0"
    ]
   },
   "outputs": [
    {
     "data": {
      "text/html": [
       "<div>\n",
       "<table border=\"1\" class=\"dataframe\">\n",
       "  <thead>\n",
       "    <tr style=\"text-align: right;\">\n",
       "      <th></th>\n",
       "      <th>df1_subr</th>\n",
       "      <th>df1_created_utc</th>\n",
       "      <th>df1_score</th>\n",
       "      <th>df1_num_comments</th>\n",
       "      <th>df1_c_posts</th>\n",
       "      <th>df1_ups</th>\n",
       "      <th>df1_downs</th>\n",
       "      <th>df2_subr</th>\n",
       "      <th>df2_sum_score</th>\n",
       "    </tr>\n",
       "  </thead>\n",
       "  <tbody>\n",
       "    <tr>\n",
       "      <th>0</th>\n",
       "      <td>worldnews</td>\n",
       "      <td>1245520828</td>\n",
       "      <td>2876818</td>\n",
       "      <td>1520393</td>\n",
       "      <td>1000</td>\n",
       "      <td>12232641</td>\n",
       "      <td>9355823</td>\n",
       "      <td>worldnews</td>\n",
       "      <td>2876818</td>\n",
       "    </tr>\n",
       "    <tr>\n",
       "      <th>1</th>\n",
       "      <td>WTF</td>\n",
       "      <td>1222835012</td>\n",
       "      <td>2665757</td>\n",
       "      <td>1138484</td>\n",
       "      <td>1000</td>\n",
       "      <td>15478789</td>\n",
       "      <td>12813032</td>\n",
       "      <td>WTF</td>\n",
       "      <td>2665757</td>\n",
       "    </tr>\n",
       "    <tr>\n",
       "      <th>2</th>\n",
       "      <td>funny</td>\n",
       "      <td>1221430088</td>\n",
       "      <td>3713684</td>\n",
       "      <td>838031</td>\n",
       "      <td>1000</td>\n",
       "      <td>29943636</td>\n",
       "      <td>26229952</td>\n",
       "      <td>funny</td>\n",
       "      <td>3713684</td>\n",
       "    </tr>\n",
       "    <tr>\n",
       "      <th>3</th>\n",
       "      <td>gaming</td>\n",
       "      <td>1253397497</td>\n",
       "      <td>2633408</td>\n",
       "      <td>976844</td>\n",
       "      <td>1000</td>\n",
       "      <td>16049758</td>\n",
       "      <td>13416350</td>\n",
       "      <td>gaming</td>\n",
       "      <td>2633408</td>\n",
       "    </tr>\n",
       "    <tr>\n",
       "      <th>4</th>\n",
       "      <td>gifs</td>\n",
       "      <td>1308299210</td>\n",
       "      <td>2615749</td>\n",
       "      <td>267366</td>\n",
       "      <td>1000</td>\n",
       "      <td>11088214</td>\n",
       "      <td>8472465</td>\n",
       "      <td>gifs</td>\n",
       "      <td>2615749</td>\n",
       "    </tr>\n",
       "    <tr>\n",
       "      <th>5</th>\n",
       "      <td>mildlyinteresting</td>\n",
       "      <td>1339002701</td>\n",
       "      <td>2487454</td>\n",
       "      <td>220753</td>\n",
       "      <td>1000</td>\n",
       "      <td>7632646</td>\n",
       "      <td>5145192</td>\n",
       "      <td>mildlyinteresting</td>\n",
       "      <td>2487454</td>\n",
       "    </tr>\n",
       "    <tr>\n",
       "      <th>6</th>\n",
       "      <td>cringepics</td>\n",
       "      <td>1353378477</td>\n",
       "      <td>2320307</td>\n",
       "      <td>310899</td>\n",
       "      <td>999</td>\n",
       "      <td>4956013</td>\n",
       "      <td>2635706</td>\n",
       "      <td>cringepics</td>\n",
       "      <td>2320307</td>\n",
       "    </tr>\n",
       "    <tr>\n",
       "      <th>7</th>\n",
       "      <td>pics</td>\n",
       "      <td>1232129032</td>\n",
       "      <td>3752388</td>\n",
       "      <td>1119747</td>\n",
       "      <td>1000</td>\n",
       "      <td>28512455</td>\n",
       "      <td>24760067</td>\n",
       "      <td>pics</td>\n",
       "      <td>3752388</td>\n",
       "    </tr>\n",
       "    <tr>\n",
       "      <th>8</th>\n",
       "      <td>politics</td>\n",
       "      <td>1213054866</td>\n",
       "      <td>3157350</td>\n",
       "      <td>1529645</td>\n",
       "      <td>999</td>\n",
       "      <td>12994846</td>\n",
       "      <td>9837496</td>\n",
       "      <td>politics</td>\n",
       "      <td>3157350</td>\n",
       "    </tr>\n",
       "    <tr>\n",
       "      <th>9</th>\n",
       "      <td>reactiongifs</td>\n",
       "      <td>1329098282</td>\n",
       "      <td>2320331</td>\n",
       "      <td>127718</td>\n",
       "      <td>1000</td>\n",
       "      <td>5915530</td>\n",
       "      <td>3595199</td>\n",
       "      <td>reactiongifs</td>\n",
       "      <td>2320331</td>\n",
       "    </tr>\n",
       "    <tr>\n",
       "      <th>10</th>\n",
       "      <td>science</td>\n",
       "      <td>1217517776</td>\n",
       "      <td>2320319</td>\n",
       "      <td>714853</td>\n",
       "      <td>1000</td>\n",
       "      <td>7341078</td>\n",
       "      <td>5020759</td>\n",
       "      <td>science</td>\n",
       "      <td>2320319</td>\n",
       "    </tr>\n",
       "    <tr>\n",
       "      <th>11</th>\n",
       "      <td>4chan</td>\n",
       "      <td>1305031597</td>\n",
       "      <td>2443942</td>\n",
       "      <td>173514</td>\n",
       "      <td>1000</td>\n",
       "      <td>6844122</td>\n",
       "      <td>4400180</td>\n",
       "      <td>4chan</td>\n",
       "      <td>2443942</td>\n",
       "    </tr>\n",
       "    <tr>\n",
       "      <th>12</th>\n",
       "      <td>AdviceAnimals</td>\n",
       "      <td>1297153839</td>\n",
       "      <td>2614179</td>\n",
       "      <td>522694</td>\n",
       "      <td>1000</td>\n",
       "      <td>17740332</td>\n",
       "      <td>15126153</td>\n",
       "      <td>AdviceAnimals</td>\n",
       "      <td>2614179</td>\n",
       "    </tr>\n",
       "    <tr>\n",
       "      <th>13</th>\n",
       "      <td>AskReddit</td>\n",
       "      <td>1249243560</td>\n",
       "      <td>2198059</td>\n",
       "      <td>8082530</td>\n",
       "      <td>1000</td>\n",
       "      <td>9855658</td>\n",
       "      <td>7657599</td>\n",
       "      <td>AskReddit</td>\n",
       "      <td>2198059</td>\n",
       "    </tr>\n",
       "    <tr>\n",
       "      <th>14</th>\n",
       "      <td>atheism</td>\n",
       "      <td>1277917555</td>\n",
       "      <td>2254504</td>\n",
       "      <td>753590</td>\n",
       "      <td>1000</td>\n",
       "      <td>10770010</td>\n",
       "      <td>8515506</td>\n",
       "      <td>atheism</td>\n",
       "      <td>2254504</td>\n",
       "    </tr>\n",
       "    <tr>\n",
       "      <th>15</th>\n",
       "      <td>aww</td>\n",
       "      <td>1308442867</td>\n",
       "      <td>2857179</td>\n",
       "      <td>354705</td>\n",
       "      <td>1000</td>\n",
       "      <td>16376370</td>\n",
       "      <td>13519191</td>\n",
       "      <td>aww</td>\n",
       "      <td>2857179</td>\n",
       "    </tr>\n",
       "    <tr>\n",
       "      <th>16</th>\n",
       "      <td>technology</td>\n",
       "      <td>1225732641</td>\n",
       "      <td>2894626</td>\n",
       "      <td>1185205</td>\n",
       "      <td>1000</td>\n",
       "      <td>11552270</td>\n",
       "      <td>8657644</td>\n",
       "      <td>technology</td>\n",
       "      <td>2894626</td>\n",
       "    </tr>\n",
       "    <tr>\n",
       "      <th>17</th>\n",
       "      <td>todayilearned</td>\n",
       "      <td>1288032442</td>\n",
       "      <td>2636914</td>\n",
       "      <td>863943</td>\n",
       "      <td>1000</td>\n",
       "      <td>12923797</td>\n",
       "      <td>10286883</td>\n",
       "      <td>todayilearned</td>\n",
       "      <td>2636914</td>\n",
       "    </tr>\n",
       "    <tr>\n",
       "      <th>18</th>\n",
       "      <td>trees</td>\n",
       "      <td>1283370888</td>\n",
       "      <td>2239064</td>\n",
       "      <td>328240</td>\n",
       "      <td>1000</td>\n",
       "      <td>6903259</td>\n",
       "      <td>4664195</td>\n",
       "      <td>trees</td>\n",
       "      <td>2239064</td>\n",
       "    </tr>\n",
       "    <tr>\n",
       "      <th>19</th>\n",
       "      <td>videos</td>\n",
       "      <td>1297504140</td>\n",
       "      <td>3201899</td>\n",
       "      <td>1143620</td>\n",
       "      <td>1000</td>\n",
       "      <td>13595085</td>\n",
       "      <td>10393186</td>\n",
       "      <td>videos</td>\n",
       "      <td>3201899</td>\n",
       "    </tr>\n",
       "  </tbody>\n",
       "</table>\n",
       "</div>"
      ],
      "text/plain": [
       "             df1_subr  df1_created_utc  df1_score  df1_num_comments  \\\n",
       "0           worldnews       1245520828    2876818           1520393   \n",
       "1                 WTF       1222835012    2665757           1138484   \n",
       "2               funny       1221430088    3713684            838031   \n",
       "3              gaming       1253397497    2633408            976844   \n",
       "4                gifs       1308299210    2615749            267366   \n",
       "5   mildlyinteresting       1339002701    2487454            220753   \n",
       "6          cringepics       1353378477    2320307            310899   \n",
       "7                pics       1232129032    3752388           1119747   \n",
       "8            politics       1213054866    3157350           1529645   \n",
       "9        reactiongifs       1329098282    2320331            127718   \n",
       "10            science       1217517776    2320319            714853   \n",
       "11              4chan       1305031597    2443942            173514   \n",
       "12      AdviceAnimals       1297153839    2614179            522694   \n",
       "13          AskReddit       1249243560    2198059           8082530   \n",
       "14            atheism       1277917555    2254504            753590   \n",
       "15                aww       1308442867    2857179            354705   \n",
       "16         technology       1225732641    2894626           1185205   \n",
       "17      todayilearned       1288032442    2636914            863943   \n",
       "18              trees       1283370888    2239064            328240   \n",
       "19             videos       1297504140    3201899           1143620   \n",
       "\n",
       "    df1_c_posts   df1_ups  df1_downs           df2_subr  df2_sum_score  \n",
       "0          1000  12232641    9355823          worldnews        2876818  \n",
       "1          1000  15478789   12813032                WTF        2665757  \n",
       "2          1000  29943636   26229952              funny        3713684  \n",
       "3          1000  16049758   13416350             gaming        2633408  \n",
       "4          1000  11088214    8472465               gifs        2615749  \n",
       "5          1000   7632646    5145192  mildlyinteresting        2487454  \n",
       "6           999   4956013    2635706         cringepics        2320307  \n",
       "7          1000  28512455   24760067               pics        3752388  \n",
       "8           999  12994846    9837496           politics        3157350  \n",
       "9          1000   5915530    3595199       reactiongifs        2320331  \n",
       "10         1000   7341078    5020759            science        2320319  \n",
       "11         1000   6844122    4400180              4chan        2443942  \n",
       "12         1000  17740332   15126153      AdviceAnimals        2614179  \n",
       "13         1000   9855658    7657599          AskReddit        2198059  \n",
       "14         1000  10770010    8515506            atheism        2254504  \n",
       "15         1000  16376370   13519191                aww        2857179  \n",
       "16         1000  11552270    8657644         technology        2894626  \n",
       "17         1000  12923797   10286883      todayilearned        2636914  \n",
       "18         1000   6903259    4664195              trees        2239064  \n",
       "19         1000  13595085   10393186             videos        3201899  "
      ]
     },
     "execution_count": 20,
     "metadata": {},
     "output_type": "execute_result"
    }
   ],
   "source": [
    "merged"
   ]
  },
  {
   "cell_type": "markdown",
   "metadata": {
    "collapsed": true,
    "tags": [
     "worksheet-0"
    ]
   },
   "source": [
    "# tility functions for accessing available data"
   ]
  },
  {
   "cell_type": "code",
   "execution_count": 12,
   "metadata": {
    "collapsed": false,
    "tags": [
     "worksheet-0"
    ]
   },
   "outputs": [],
   "source": [
    "service=util.get_service()"
   ]
  },
  {
   "cell_type": "code",
   "execution_count": 24,
   "metadata": {
    "collapsed": false,
    "tags": [
     "worksheet-0"
    ]
   },
   "outputs": [
    {
     "name": "stdout",
     "output_type": "stream",
     "text": [
      "Project list:\n",
      "cragcrunch: durable-footing-95814\n",
      "eeg4kaggle: eeg4kaggle\n",
      "khan: khan-992\n",
      "testing: silent-octagon-92616\n"
     ]
    }
   ],
   "source": [
    "util.list_projects(service)"
   ]
  },
  {
   "cell_type": "code",
   "execution_count": 33,
   "metadata": {
    "collapsed": false,
    "tags": [
     "worksheet-0"
    ]
   },
   "outputs": [
    {
     "name": "stdout",
     "output_type": "stream",
     "text": [
      "Dataset list:\n",
      "climbdb_bigquery\n"
     ]
    }
   ],
   "source": [
    "util.list_datasets(service, 'durable-footing-95814')"
   ]
  },
  {
   "cell_type": "code",
   "execution_count": 34,
   "metadata": {
    "collapsed": false,
    "tags": [
     "worksheet-0"
    ]
   },
   "outputs": [
    {
     "name": "stdout",
     "output_type": "stream",
     "text": [
      "Tables list:\n",
      "labels_df\n",
      "temp\n",
      "temp2\n",
      "test_df\n",
      "train_df\n"
     ]
    }
   ],
   "source": [
    "util.list_tables(service, 'eeg4kaggle', 'eeg')"
   ]
  },
  {
   "cell_type": "code",
   "execution_count": 36,
   "metadata": {
    "collapsed": false,
    "tags": [
     "worksheet-0"
    ]
   },
   "outputs": [],
   "source": [
    "util.delete_table(service, 'eeg4kaggle', 'eeg', 'temp2')"
   ]
  },
  {
   "cell_type": "code",
   "execution_count": 37,
   "metadata": {
    "collapsed": false,
    "tags": [
     "worksheet-0"
    ]
   },
   "outputs": [
    {
     "name": "stdout",
     "output_type": "stream",
     "text": [
      "Tables list:\n",
      "labels_df\n",
      "temp\n",
      "test_df\n",
      "train_df\n"
     ]
    }
   ],
   "source": [
    "util.list_tables(service, 'eeg4kaggle', 'eeg')"
   ]
  },
  {
   "cell_type": "code",
   "execution_count": 25,
   "metadata": {
    "collapsed": false,
    "tags": [
     "worksheet-0"
    ]
   },
   "outputs": [
    {
     "name": "stdout",
     "output_type": "stream",
     "text": [
      "Waiting on bqjob_r67e76353314de008_0000014e887c14a8_33 ... (0s) Current status: DONE   \n"
     ]
    }
   ],
   "source": [
    "#execute arbitrary sql commands and return as df\n",
    "querystr = \"\"\"\n",
    "SELECT * FROM %s  LIMIT 1000\n",
    "\"\"\" %tablename\n",
    "df, source = bqdf.bigquery_query(querystr, client)"
   ]
  },
  {
   "cell_type": "code",
   "execution_count": 26,
   "metadata": {
    "collapsed": false,
    "tags": [
     "worksheet-0"
    ]
   },
   "outputs": [
    {
     "data": {
      "text/html": [
       "<div>\n",
       "<table border=\"1\" class=\"dataframe\">\n",
       "  <thead>\n",
       "    <tr style=\"text-align: right;\">\n",
       "      <th></th>\n",
       "      <th>subr</th>\n",
       "      <th>created_utc</th>\n",
       "      <th>score</th>\n",
       "      <th>num_comments</th>\n",
       "      <th>c_posts</th>\n",
       "      <th>ups</th>\n",
       "      <th>downs</th>\n",
       "    </tr>\n",
       "  </thead>\n",
       "  <tbody>\n",
       "    <tr>\n",
       "      <th>0</th>\n",
       "      <td>Winnipeg</td>\n",
       "      <td>1271800307</td>\n",
       "      <td>35017</td>\n",
       "      <td>23782</td>\n",
       "      <td>1000</td>\n",
       "      <td>41170</td>\n",
       "      <td>6153</td>\n",
       "    </tr>\n",
       "    <tr>\n",
       "      <th>1</th>\n",
       "      <td>winterporn</td>\n",
       "      <td>1322432778</td>\n",
       "      <td>61256</td>\n",
       "      <td>1858</td>\n",
       "      <td>1000</td>\n",
       "      <td>66831</td>\n",
       "      <td>5575</td>\n",
       "    </tr>\n",
       "    <tr>\n",
       "      <th>2</th>\n",
       "      <td>wisconsin</td>\n",
       "      <td>1288755087</td>\n",
       "      <td>71500</td>\n",
       "      <td>24893</td>\n",
       "      <td>999</td>\n",
       "      <td>87718</td>\n",
       "      <td>16218</td>\n",
       "    </tr>\n",
       "    <tr>\n",
       "      <th>3</th>\n",
       "      <td>woahdude</td>\n",
       "      <td>1272095272</td>\n",
       "      <td>2089822</td>\n",
       "      <td>126829</td>\n",
       "      <td>1000</td>\n",
       "      <td>4970101</td>\n",
       "      <td>2880279</td>\n",
       "    </tr>\n",
       "    <tr>\n",
       "      <th>4</th>\n",
       "      <td>women</td>\n",
       "      <td>1221247390</td>\n",
       "      <td>63478</td>\n",
       "      <td>12128</td>\n",
       "      <td>1000</td>\n",
       "      <td>74948</td>\n",
       "      <td>11470</td>\n",
       "    </tr>\n",
       "  </tbody>\n",
       "</table>\n",
       "</div>"
      ],
      "text/plain": [
       "         subr  created_utc    score  num_comments  c_posts      ups    downs\n",
       "0    Winnipeg   1271800307    35017         23782     1000    41170     6153\n",
       "1  winterporn   1322432778    61256          1858     1000    66831     5575\n",
       "2   wisconsin   1288755087    71500         24893      999    87718    16218\n",
       "3    woahdude   1272095272  2089822        126829     1000  4970101  2880279\n",
       "4       women   1221247390    63478         12128     1000    74948    11470"
      ]
     },
     "execution_count": 26,
     "metadata": {},
     "output_type": "execute_result"
    }
   ],
   "source": [
    "df.head()"
   ]
  },
  {
   "cell_type": "code",
   "execution_count": 27,
   "metadata": {
    "collapsed": false,
    "tags": [
     "worksheet-0"
    ]
   },
   "outputs": [
    {
     "data": {
      "text/plain": [
       "u'durable-footing-95814:_7f939837d73fe18145c1d220d8cea862f339ce2f.anon13935229ddcce8f5c2e971ed58f82487a3382998'"
      ]
     },
     "execution_count": 27,
     "metadata": {},
     "output_type": "execute_result"
    }
   ],
   "source": [
    "util.stringify(source)"
   ]
  },
  {
   "cell_type": "code",
   "execution_count": 28,
   "metadata": {
    "collapsed": false,
    "tags": [
     "worksheet-0"
    ]
   },
   "outputs": [],
   "source": [
    "tablename='[durable-footing-95814:_7f939837d73fe18145c1d220d8cea862f339ce2f.anon13935229ddcce8f5c2e971ed58f82487a3382998]'"
   ]
  },
  {
   "cell_type": "code",
   "execution_count": 29,
   "metadata": {
    "collapsed": false,
    "tags": [
     "worksheet-0"
    ]
   },
   "outputs": [],
   "source": [
    "tdf = bqdf.BQDF(client, tablename)"
   ]
  },
  {
   "cell_type": "code",
   "execution_count": 30,
   "metadata": {
    "collapsed": false,
    "tags": [
     "worksheet-0"
    ]
   },
   "outputs": [
    {
     "data": {
      "text/plain": [
       "[u'subr',\n",
       " u'created_utc',\n",
       " u'score',\n",
       " u'num_comments',\n",
       " u'c_posts',\n",
       " u'ups',\n",
       " u'downs']"
      ]
     },
     "execution_count": 30,
     "metadata": {},
     "output_type": "execute_result"
    }
   ],
   "source": [
    "tdf.col_names"
   ]
  },
  {
   "cell_type": "code",
   "execution_count": 31,
   "metadata": {
    "collapsed": false,
    "tags": [
     "worksheet-0"
    ]
   },
   "outputs": [
    {
     "data": {
      "image/png": "[encoded data removed]",
      "text/plain": [
       "<matplotlib.figure.Figure at 0x10c317c50>"
      ]
     },
     "metadata": {},
     "output_type": "display_data"
    },
    {
     "data": {
      "text/plain": [
       "<matplotlib.axes._subplots.AxesSubplot at 0x10c30b710>"
      ]
     },
     "execution_count": 31,
     "metadata": {},
     "output_type": "execute_result"
    },
    {
     "name": "stdout",
     "output_type": "stream",
     "text": [
      "SELECT c_posts, COUNT(*) count, AVG(score) score_mean , STDDEV(score) score_std , COUNT(score) score_count  FROM [fh-bigquery:reddit.subreddits] GROUP BY c_posts LIMIT 10000000\n"
     ]
    }
   ],
   "source": [
    "value_col='score'\n",
    "grouping_col='c_posts'\n",
    "df1.plot(grouping_col, value_col, kind='bar')"
   ]
  },
  {
   "cell_type": "code",
   "execution_count": 34,
   "metadata": {
    "collapsed": false,
    "tags": [
     "worksheet-0"
    ]
   },
   "outputs": [
    {
     "data": {
      "image/png": "[encoded data removed]",
      "text/plain": [
       "<matplotlib.figure.Figure at 0x10c64ec50>"
      ]
     },
     "metadata": {},
     "output_type": "display_data"
    },
    {
     "name": "stdout",
     "output_type": "stream",
     "text": [
      "Waiting on bqjob_r1e5fab0c171321cb_0000014e887cd676_77 ... (0s) Current status: DONE   \n"
     ]
    }
   ],
   "source": [
    "histdf=df1.hist('score', bins=30)"
   ]
  },
  {
   "cell_type": "code",
   "execution_count": 33,
   "metadata": {
    "collapsed": false,
    "tags": [
     "worksheet-0"
    ]
   },
   "outputs": [
    {
     "data": {
      "text/html": [
       "<div>\n",
       "<table border=\"1\" class=\"dataframe\">\n",
       "  <thead>\n",
       "    <tr style=\"text-align: right;\">\n",
       "      <th></th>\n",
       "      <th>c_posts</th>\n",
       "      <th>downs</th>\n",
       "      <th>num_comments</th>\n",
       "      <th>score</th>\n",
       "      <th>ups</th>\n",
       "    </tr>\n",
       "  </thead>\n",
       "  <tbody>\n",
       "    <tr>\n",
       "      <th>count</th>\n",
       "      <td>2499.000000</td>\n",
       "      <td>2499.000000</td>\n",
       "      <td>2499.000000</td>\n",
       "      <td>2499.000000</td>\n",
       "      <td>2499.000000</td>\n",
       "    </tr>\n",
       "    <tr>\n",
       "      <th>min</th>\n",
       "      <td>1.000000</td>\n",
       "      <td>5.000000</td>\n",
       "      <td>0.000000</td>\n",
       "      <td>0.000000</td>\n",
       "      <td>2.000000</td>\n",
       "    </tr>\n",
       "    <tr>\n",
       "      <th>25th percentile</th>\n",
       "      <td>998.000000</td>\n",
       "      <td>3394.000000</td>\n",
       "      <td>5246.000000</td>\n",
       "      <td>17573.000000</td>\n",
       "      <td>20659.000000</td>\n",
       "    </tr>\n",
       "    <tr>\n",
       "      <th>50th percentile</th>\n",
       "      <td>1000.000000</td>\n",
       "      <td>7686.000000</td>\n",
       "      <td>13268.000000</td>\n",
       "      <td>41837.000000</td>\n",
       "      <td>50101.000000</td>\n",
       "    </tr>\n",
       "    <tr>\n",
       "      <th>75th percentile</th>\n",
       "      <td>1000.000000</td>\n",
       "      <td>20081.000000</td>\n",
       "      <td>27698.000000</td>\n",
       "      <td>116226.000000</td>\n",
       "      <td>133010.000000</td>\n",
       "    </tr>\n",
       "    <tr>\n",
       "      <th>max</th>\n",
       "      <td>1000.000000</td>\n",
       "      <td>26229952.000000</td>\n",
       "      <td>8082530.000000</td>\n",
       "      <td>3752388.000000</td>\n",
       "      <td>29943636.000000</td>\n",
       "    </tr>\n",
       "    <tr>\n",
       "      <th>mean</th>\n",
       "      <td>907.201681</td>\n",
       "      <td>146470.777911</td>\n",
       "      <td>38274.599840</td>\n",
       "      <td>155449.649460</td>\n",
       "      <td>301906.845538</td>\n",
       "    </tr>\n",
       "    <tr>\n",
       "      <th>std</th>\n",
       "      <td>218.490716</td>\n",
       "      <td>1113991.053720</td>\n",
       "      <td>191561.184023</td>\n",
       "      <td>349534.889161</td>\n",
       "      <td>1395142.130842</td>\n",
       "    </tr>\n",
       "    <tr>\n",
       "      <th>mode</th>\n",
       "      <td>1730.000000</td>\n",
       "      <td>3.000000</td>\n",
       "      <td>3.000000</td>\n",
       "      <td>2.000000</td>\n",
       "      <td>3.000000</td>\n",
       "    </tr>\n",
       "  </tbody>\n",
       "</table>\n",
       "</div>"
      ],
      "text/plain": [
       "                     c_posts            downs    num_comments           score  \\\n",
       "count            2499.000000      2499.000000     2499.000000     2499.000000   \n",
       "min                 1.000000         5.000000        0.000000        0.000000   \n",
       "25th percentile   998.000000      3394.000000     5246.000000    17573.000000   \n",
       "50th percentile  1000.000000      7686.000000    13268.000000    41837.000000   \n",
       "75th percentile  1000.000000     20081.000000    27698.000000   116226.000000   \n",
       "max              1000.000000  26229952.000000  8082530.000000  3752388.000000   \n",
       "mean              907.201681    146470.777911    38274.599840   155449.649460   \n",
       "std               218.490716   1113991.053720   191561.184023   349534.889161   \n",
       "mode             1730.000000         3.000000        3.000000        2.000000   \n",
       "\n",
       "                             ups  \n",
       "count                2499.000000  \n",
       "min                     2.000000  \n",
       "25th percentile     20659.000000  \n",
       "50th percentile     50101.000000  \n",
       "75th percentile    133010.000000  \n",
       "max              29943636.000000  \n",
       "mean               301906.845538  \n",
       "std               1395142.130842  \n",
       "mode                    3.000000  "
      ]
     },
     "execution_count": 33,
     "metadata": {},
     "output_type": "execute_result"
    }
   ],
   "source": [
    "df1.describe()"
   ]
  },
  {
   "cell_type": "code",
   "execution_count": null,
   "metadata": {
    "collapsed": false,
    "tags": [
     "worksheet-0"
    ]
   },
   "outputs": [],
   "source": []
  },
  {
   "cell_type": "code",
   "execution_count": null,
   "metadata": {
    "collapsed": false,
    "tags": [
     "worksheet-0"
    ]
   },
   "outputs": [],
   "source": []
  }
 ],
 "metadata": {
  "kernelspec": {
   "display_name": "Python 2",
   "language": "python",
   "name": "python2"
  },
  "language_info": {
   "codemirror_mode": {
    "name": "ipython",
    "version": 2
   },
   "file_extension": ".py",
   "mimetype": "text/x-python",
   "name": "python",
   "nbconvert_exporter": "python",
   "pygments_lexer": "ipython2",
   "version": "2.7.6"
  },
  "name": "bq_template.ipynb"
 },
 "nbformat": 4,
 "nbformat_minor": 0
}
